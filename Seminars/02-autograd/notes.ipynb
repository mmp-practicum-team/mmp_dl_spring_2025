{
 "cells": [
  {
   "cell_type": "markdown",
   "metadata": {},
   "source": [
    "$$\n",
    "\\newcommand{\\p}{\\partial}\n",
    "\\newcommand{\\L}{\\mathcal{L}}\n",
    "\\renewcommand{\\R}{\\mathbb{R}}\n",
    "$$\n",
    "\n",
    "$$\n",
    "\\newcommand{\\L}{\\mathcal{L}}\n",
    "\\newcommand{\\p}{\\partial}\n",
    "$$\n",
    "\n",
    "# `Материалы кафедры ММП факультета ВМК МГУ. Введение в глубокое обучение.`\n",
    "\n",
    "# `Семинар 01. Автодифференцирование`\n",
    "\n",
    "### `Материалы составил Алексеев Илья (@voorhs)`\n",
    "\n",
    "#### `Москва, Весенний семестр 2025`"
   ]
  },
  {
   "cell_type": "markdown",
   "metadata": {},
   "source": [
    "## `Вспоминаем основы`"
   ]
  },
  {
   "cell_type": "markdown",
   "metadata": {},
   "source": [
    "\n",
    "Вспомним базовые определения на примере функции $f(x)={1\\over2}x^TAx$, $A\\succ0$.\n",
    "\n",
    "- Дифференциалом мы называем линейную часть приращения функции $f$: \n",
    "\n",
    "$$\n",
    "df=Df(x)[dx]=(dx)^TAx.\n",
    "$$\n",
    "\n",
    "- Производной Фреше (говоря просто) мы называем линейный оператор, результатом действия которого является дифференциал:\n",
    "\n",
    "$$\n",
    "Df(x)[\\cdot]=\\langle Ax,\\cdot\\rangle.\n",
    "$$\n",
    "\n",
    "- Частной производной мы называем матрично-векторное представление производной Фреше:\n",
    "\n",
    "$$\n",
    "{\\p f\\over\\p x}=\\nabla_xf=Ax.\n",
    "$$\n",
    "\n",
    "В зависимости от вида функции $f$ частную производную называют градиентом или матрицей якоби. Мы для простоты всегда будем называть это градиентом.\n",
    "\n",
    "Вспомним важное свойство — инвариантность первого вида дифференциала. Если $y=g(z)$, $z=f(x)$, то\n",
    "$$\n",
    "dy=\\left\\langle{\\p y\\over\\p z},dz\\right\\rangle=\\left\\langle{\\p y\\over\\p x},dx\\right\\rangle.\n",
    "$$"
   ]
  },
  {
   "cell_type": "markdown",
   "metadata": {},
   "source": [
    "## `Градиенты линейного слоя`"
   ]
  },
  {
   "cell_type": "markdown",
   "metadata": {},
   "source": [
    "Пусть $z=f(x)=Wx+b$, где\n",
    "\n",
    "- $f:\\R^d\\to\\R^h$,\n",
    "- $x\\in\\R^{d}$,\n",
    "- $W\\in\\R^{h\\times d}$,\n",
    "- $b\\in\\R^h$.\n",
    "\n",
    "Найдём $\\nabla_x\\L$, $\\nabla_W\\L$ при известном $\\nabla_z\\L\\in\\R^h$. Дифференциал:\n",
    "$$\n",
    "dz=(dW)x+Wdx+db.\n",
    "$$\n",
    "По свойству инвариантности первого вида дифференциала:\n",
    "$$\n",
    "\\begin{align}\n",
    "d\\L=\\langle\\nabla_z\\L,dz\\rangle&=\\langle\\nabla_z\\L,(dW)x\\rangle+\\langle\\nabla_z\\L,Wdx\\rangle+\\langle\\nabla_z\\L,db\\rangle\\\\&=\\langle \\underbrace{(\\nabla_z\\L)x^T}_{\\nabla_W\\L},dW\\rangle+\\langle \\underbrace{W^T(\\nabla_z\\L)}_{\\nabla_x\\L},dx\\rangle+\\langle\\underbrace{\\nabla_z\\L}_{\\nabla_b\\L},db\\rangle.\n",
    "\\end{align}\n",
    "$$"
   ]
  },
  {
   "cell_type": "markdown",
   "metadata": {},
   "source": [
    "## `Градиенты сигмоиды`"
   ]
  },
  {
   "cell_type": "markdown",
   "metadata": {},
   "source": [
    "\n",
    "\n",
    "Пусть $a=f(z)=1/(1+\\exp(-z))$, где\n",
    "\n",
    "- $f: \\R\\to\\R$, применяется поэлементно\n",
    "- $z\\in\\R^\\cdots$ — произвольный тензор\n",
    "\n",
    "Найдем $\\nabla_z\\L$ при известном $\\nabla_a\\L\\in\\R^\\cdots$. Дифференциал:\n",
    "$$\n",
    "\\begin{align}\n",
    "da&=f(z)(1-f(z))dz\\\\\n",
    "&=a(1-a)dz.\n",
    "\\end{align}\n",
    "$$\n",
    "По свойству инвариантности первого вида дифференциала:\n",
    "$$\n",
    "\\begin{align}\n",
    "d\\L=\\langle\\nabla_a\\L,da\\rangle&=\\langle\\nabla_a\\L,a(1-a)dz\\rangle\\\\\n",
    "&=\\langle\\underbrace{(\\nabla_a\\L)a(1-a)}_{\\nabla_z\\L},dz\\rangle.\n",
    "\\end{align}\n",
    "$$"
   ]
  },
  {
   "cell_type": "markdown",
   "metadata": {},
   "source": [
    "## `Градиенты лог-софтмакса`"
   ]
  },
  {
   "cell_type": "markdown",
   "metadata": {},
   "source": [
    "Пусть\n",
    "$$\n",
    "a=f(z)=\\log{\\exp(z)\\over\\sum_{i=1}^K\\exp(z_i)},\n",
    "$$\n",
    "где $a,z\\in\\R^K$ и операции $\\log$, $\\exp$ применяются покомпонентно. Найдем $\\nabla_z\\L$ при известном $\\nabla_a\\L$. Дифференциал:\n",
    "$$\n",
    "\\begin{align}\n",
    "da_j&=dz_j-d\\log\\left(\\sum_{i=1}^K\\exp(z_i)\\right)\\\\\n",
    "&=dz_j-{\\sum_{i=1}^K\\exp(z_i)dz_i\\over\\sum_{i=1}^K\\exp(z_i)}\\\\\n",
    "&=dz_j-\\sum_{i=1}^Ka_i dz_i\n",
    "\\end{align}\n",
    "$$\n",
    "По свойству инвариантности первого вида дифференциала:\n",
    "$$\n",
    "\\begin{align}\n",
    "d\\L=\\langle\\nabla_a\\L,da\\rangle&=\\sum_{j=1}^K(\\nabla_{a_j}\\L)(da_j)\\\\\n",
    "&=\\sum_{j=1}^K(\\nabla_{a_j}\\L)\\left\\{dz_j-\\sum_{i=1}^Ka_idz_i\\right\\}\\\\\n",
    "&=\\sum_{j=1}^K(\\nabla_{a_j}\\L)dz_j-\\sum_{j=1}^K(\\nabla_{a_j}\\L)\\sum_{i=1}^Ka_idz_i\\\\\n",
    "&=\\left\\langle\\underbrace{\\nabla_a\\L-a\\cdot\\left\\{\\sum_{j=1}^K\\nabla_{a_j}\\L\\right\\}}_{\\nabla_z\\L},dz\\right\\rangle.\n",
    "\\end{align}\n",
    "$$\n"
   ]
  }
 ],
 "metadata": {
  "language_info": {
   "name": "python"
  }
 },
 "nbformat": 4,
 "nbformat_minor": 2
}
