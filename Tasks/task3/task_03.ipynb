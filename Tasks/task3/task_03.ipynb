{
 "cells": [
  {
   "cell_type": "markdown",
   "metadata": {},
   "source": [
    "# `Практикум по программированию на языке Python`\n",
    "\n",
    "## `Задание 03. Рекуррентные Нейронные Сети. Dropout. LM`\n",
    "\n",
    "#### Фамилия, имя: \n",
    "\n",
    "Дата выдачи: <span style=\"color:red\">__18 марта 23:59__</span>.\n",
    "\n",
    "Мягкий дедлайн: <span style=\"color:red\">__31 марта 05:00__</span>.\n",
    "\n",
    "Стоимость: __10 баллов__ (основная часть заданий) + __7 баллов__ (дополнительные задания).\n",
    "\n",
    "<span style=\"color:red\">__В ноутбуке все клетки должны выполняться без ошибок при последовательном их выполнении.__</span>\n",
    "\n",
    "#### `Москва, 2025`"
   ]
  },
  {
   "cell_type": "markdown",
   "metadata": {},
   "source": [
    "Данное задание будет состоять из двух частей:\n",
    "1. Применение рекуррентной сети для решения задачи классификации текста. Более конкретно -- предсказания рейтинга отзыва фильма.\n",
    "2. Простейшая лингвистическая модель для генерации текста на основе LSTM."
   ]
  },
  {
   "cell_type": "markdown",
   "metadata": {},
   "source": [
    "При выполнении задания вы обучите LSTM с разным уровнем \"коробочности\", а также познакомитесь с различными способами применения DropOut к рекуррентным архитектурам. В рекуррентных архитектурах вариантов, куда можно наложить бинарную маску шума, гораздо больше, чем в нейросетях прямого прохода.\n",
    "\n",
    "Во второй части вы попробуете реализовать простейший рекуррентный декодер для генерации текстов.\n",
    "\n",
    "Задание сделано так, чтобы его можно было выполнять на CPU, однако RNN - это ресурсоёмкая вещь, поэтому на GPU с ними работать приятнее. Можете попробовать использовать [https://colab.research.google.com](https://colab.research.google.com) - бесплатное облако с GPU."
   ]
  },
  {
   "cell_type": "markdown",
   "metadata": {},
   "source": [
    "**Для корректного отображения картинок, вам может понадобится сделать ноутбук доверенным (Trusted) в правом верхнем углу**"
   ]
  },
  {
   "cell_type": "markdown",
   "metadata": {},
   "source": [
    "# `Часть 0. Загрузка и предобработка данных (1 балл)`"
   ]
  },
  {
   "cell_type": "markdown",
   "metadata": {},
   "source": [
    "## `Рекомендуемые гиперпараметры`"
   ]
  },
  {
   "cell_type": "code",
   "execution_count": 1,
   "metadata": {
    "ExecuteTime": {
     "end_time": "2024-03-30T21:23:57.654183Z",
     "start_time": "2024-03-30T21:23:57.649242Z"
    }
   },
   "outputs": [],
   "source": [
    "max_length = 200\n",
    "top_n_words = 5000\n",
    "\n",
    "hidden_dim = 128\n",
    "embedding_dim = 32\n",
    "\n",
    "num_epochs = 15\n",
    "batch_size = 64\n",
    "learning_rate = 1e-3"
   ]
  },
  {
   "cell_type": "markdown",
   "metadata": {},
   "source": [
    "Первое, что нужно сделать — скачать, предобработать данные и организовать их таким образом, чтобы их можно было подавать в нейронную сеть.\n",
    "\n",
    "Для обеих частей задания мы будем использовать [**Large Movie Review Dataset**](https://ai.stanford.edu/~amaas/data/sentiment/)."
   ]
  },
  {
   "cell_type": "markdown",
   "metadata": {},
   "source": [
    "## `Загрузка и предобработка данных`"
   ]
  },
  {
   "cell_type": "code",
   "execution_count": 2,
   "metadata": {},
   "outputs": [],
   "source": [
    "import os"
   ]
  },
  {
   "cell_type": "markdown",
   "metadata": {},
   "source": [
    "Загрузите данные по ссылке выше. (**tip**: используйте `wget`)"
   ]
  },
  {
   "cell_type": "code",
   "execution_count": 3,
   "metadata": {
    "ExecuteTime": {
     "end_time": "2024-03-30T21:24:30.812994Z",
     "start_time": "2024-03-30T21:23:57.655622Z"
    }
   },
   "outputs": [],
   "source": [
    "if not os.path.exists('./aclImdb_v1.tar.gz'):\n",
    "    # YOUR CODE HERE\n",
    "    "
   ]
  },
  {
   "cell_type": "markdown",
   "metadata": {},
   "source": [
    "Распакуйте скачанные данные в папку `aclImdb` (**tip:** используйте `tar`)"
   ]
  },
  {
   "cell_type": "code",
   "execution_count": 4,
   "metadata": {
    "ExecuteTime": {
     "end_time": "2024-03-30T21:24:34.122786Z",
     "start_time": "2024-03-30T21:24:30.814849Z"
    }
   },
   "outputs": [],
   "source": [
    "if not os.path.exists('aclImdb'):\n",
    "    # YOUR CODE HERE\n",
    "    "
   ]
  },
  {
   "cell_type": "markdown",
   "metadata": {},
   "source": [
    "Посмотрите в файле `./aclImdb/README` как организованы данные:"
   ]
  },
  {
   "cell_type": "code",
   "execution_count": 5,
   "metadata": {
    "ExecuteTime": {
     "end_time": "2024-03-30T21:24:34.232726Z",
     "start_time": "2024-03-30T21:24:34.124249Z"
    }
   },
   "outputs": [
    {
     "name": "stdout",
     "output_type": "stream",
     "text": [
      "This is not the typical Mel Brooks film. It was much less slapstick than most of his movies and actually had a plot that was followable. Leslie Ann Warren made the movie, she is such a fantastic, under-rated actress. There were some moments that could have been fleshed out a bit more, and some scenes that could probably have been cut to make the room to do so, but all in all, this is worth the price to rent and see it. The acting was good overall, Brooks himself did a good job without his characteristic speaking to directly to the audience. Again, Warren was the best actor in the movie, but \"Fume\" and \"Sailor\" both played their parts well."
     ]
    }
   ],
   "source": [
    "! cat ./aclImdb/train/pos/10003_8.txt"
   ]
  },
  {
   "cell_type": "code",
   "execution_count": 6,
   "metadata": {
    "ExecuteTime": {
     "end_time": "2024-03-30T21:24:34.236779Z",
     "start_time": "2024-03-30T21:24:34.234575Z"
    }
   },
   "outputs": [],
   "source": [
    "test_data_path = './aclImdb/test/'\n",
    "train_data_path = './aclImdb/train/'"
   ]
  },
  {
   "cell_type": "code",
   "execution_count": 7,
   "metadata": {
    "ExecuteTime": {
     "end_time": "2024-03-30T21:24:35.529898Z",
     "start_time": "2024-03-30T21:24:34.238134Z"
    }
   },
   "outputs": [
    {
     "name": "stderr",
     "output_type": "stream",
     "text": [
      "[nltk_data] Downloading package stopwords to\n",
      "[nltk_data]     /home/alexandr/nltk_data...\n",
      "[nltk_data]   Package stopwords is already up-to-date!\n"
     ]
    }
   ],
   "source": [
    "import random\n",
    "from tqdm import tqdm\n",
    "from functools import partial\n",
    "from collections import defaultdict\n",
    "from typing import Optional, Tuple, Union, List\n",
    "\n",
    "from IPython.display import Markdown, display\n",
    "\n",
    "\n",
    "import nltk\n",
    "nltk.download('stopwords')\n",
    "\n",
    "import regex\n",
    "import numpy as np\n",
    "\n",
    "import torch\n",
    "from torch.utils.data import Dataset, DataLoader\n",
    "\n",
    "import tokenizers\n",
    "from tokenizers import Tokenizer, trainers, pre_tokenizers\n",
    "\n",
    "torch.backends.cudnn.benchmark = True\n",
    "torch.use_deterministic_algorithms(False)\n",
    "\n",
    "torch.autograd.profiler.profile(False)\n",
    "torch.autograd.profiler.emit_nvtx(False)\n",
    "torch.autograd.set_detect_anomaly(False)\n",
    "\n",
    "torch.set_float32_matmul_precision('high')\n",
    "torch.backends.cuda.matmul.allow_tf32 = True\n",
    "\n",
    "os.environ[\"TOKENIZERS_PARALLELISM\"] = \"false\""
   ]
  },
  {
   "cell_type": "code",
   "execution_count": 8,
   "metadata": {},
   "outputs": [],
   "source": [
    "def set_global_seed(seed: int) -> None:\n",
    "    \"\"\"Set global seed for reproducibility.\n",
    "    :param int seed: Seed to be set\n",
    "    \"\"\"\n",
    "    random.seed(seed)\n",
    "    np.random.seed(seed)\n",
    "    \n",
    "    torch.manual_seed(seed)\n",
    "    torch.cuda.manual_seed(seed)\n",
    "    torch.cuda.manual_seed_all(seed)\n",
    "    \n",
    "def check_numel(module: torch.nn.Module, params_numel: int, buffers_numel: Optional[int] = None) -> None:\n",
    "    \"\"\"Check whether module has correct number of parameters and buffers\n",
    "    :param torch.nn.Module module: Target model\n",
    "    :param int params_numel: Target number of parameters\n",
    "    :param Optional[int] buffers_numel: Target number of buffers\n",
    "    :rtype:\n",
    "    \"\"\"\n",
    "    numel = sum(param.numel() for param in module.parameters())\n",
    "    assert numel == params_numel, f'For params numel != correct numel: {numel} vs {params_numel}'\n",
    "    \n",
    "    if buffers_numel is not None:\n",
    "        numel = sum(param.numel() for param in module.buffers())\n",
    "        assert numel == buffers_numel, f'For buffers numel != correct numel: {numel} vs {buffers_numel}'\n",
    "    "
   ]
  },
  {
   "cell_type": "code",
   "execution_count": 9,
   "metadata": {},
   "outputs": [],
   "source": [
    "set_global_seed(42)"
   ]
  },
  {
   "cell_type": "markdown",
   "metadata": {},
   "source": [
    "Стандартной предобработкой данных является токенизация текстов. Полученные токены можно будет закодировать и затем подавать на вход нейронной сети. Ключевым моментом, который влияет на скорость работы нейросети и её размер в памяти — размер словаря, используемого при токенизации. Для задачи классификации мы можем убрать часть слов (стоп слова, редкие слова), ускорив обучение без потери в качестве."
   ]
  },
  {
   "cell_type": "code",
   "execution_count": 10,
   "metadata": {
    "ExecuteTime": {
     "end_time": "2024-03-30T21:24:35.534374Z",
     "start_time": "2024-03-30T21:24:35.531641Z"
    }
   },
   "outputs": [],
   "source": [
    "STOPWORDS = nltk.corpus.stopwords.words('english')"
   ]
  },
  {
   "cell_type": "markdown",
   "metadata": {},
   "source": [
    "Реализуйте функцию для токенизации текста. Выполнять токенизацию можно по-разному, но в данном задании предлагается это делать следующим образом:\n",
    "1. Привести текст к нижнему регистру\n",
    "2. Убрать html разметку из текстов (`<br />`, ...)\n",
    "3. Убрать все символы кроме латинских букв\n",
    "4. Разбить строку по пробелам\n",
    "5. Убрать стоп слова"
   ]
  },
  {
   "cell_type": "code",
   "execution_count": 11,
   "metadata": {
    "ExecuteTime": {
     "end_time": "2024-03-30T21:24:35.544159Z",
     "start_time": "2024-03-30T21:24:35.535637Z"
    }
   },
   "outputs": [],
   "source": [
    "def tokenize(text):\n",
    "    \"\"\"\n",
    "    :param str text: Input text \n",
    "    :return List[str]: List of words\n",
    "    \"\"\"\n",
    "    # YOUR CODE HERE\n",
    "   ..."
   ]
  },
  {
   "cell_type": "code",
   "execution_count": 12,
   "metadata": {
    "ExecuteTime": {
     "end_time": "2024-03-30T21:24:35.555455Z",
     "start_time": "2024-03-30T21:24:35.545516Z"
    }
   },
   "outputs": [
    {
     "data": {
      "text/plain": [
       "['hello', 'words', 'program']"
      ]
     },
     "execution_count": 12,
     "metadata": {},
     "output_type": "execute_result"
    }
   ],
   "source": [
    "tokenize('1. Hello <br />  words!!   I am program!  <br />')"
   ]
  },
  {
   "cell_type": "markdown",
   "metadata": {},
   "source": [
    "Теперь мы можем создать словарь, с помощью которого мы будем кодировать токены из текста в числа и наоборот. Для этого мы воспользуемся библиотекой [tokenizers](https://huggingface.co/docs/tokenizers/index)\n",
    "\n",
    "Токенезация происходит через класс `tokenizer`. Для того чтобы получить `tokenizer` его надо сначала **обучить**, для этого нам необходимо использовать `tokenizers.trainers`. Так как мы будем работать на уровне слов, то выберем `tokenizers.trainers.WordLevelTrainer`.\n",
    "\n",
    "Для работы с текстами нам необходимо зарезервировать два специальных токена:\n",
    "1. `<pad>` для токена означающего паддинг\n",
    "2. `<unk>` для токенов, которые отсутствуют в словаре\n",
    "3. `<sos>` для токенов, которые обозначают начало последовательности (потребуется во второй части задания)\n",
    "4. `<eos>` для токенов, которые обозначают конец последовательности (потребуется во второй части задания)"
   ]
  },
  {
   "cell_type": "markdown",
   "metadata": {},
   "source": [
    "Для начала мы будем разбивать предложение по словам, для этого воспользуемся `trainers.WordLevelTrainer`. Будем рассматривать словарь размером `top_n_words` слов. Подробнее про различных `trainers` можно почитать в [документации](https://huggingface.co/docs/tokenizers/api/trainers), например, из коробки можно использовать BPE."
   ]
  },
  {
   "cell_type": "markdown",
   "metadata": {},
   "source": [
    "```python\n",
    "trainers.WordLevelTrainer(self, /, *args, **kwargs)\n",
    "Docstring:     \n",
    "Trainer capable of training a WorldLevel model\n",
    "\n",
    "Args:\n",
    "    vocab_size (:obj:`int`, `optional`):\n",
    "        The size of the final vocabulary, including all tokens and alphabet.\n",
    "\n",
    "    min_frequency (:obj:`int`, `optional`):\n",
    "        The minimum frequency a pair should have in order to be merged.\n",
    "\n",
    "    show_progress (:obj:`bool`, `optional`):\n",
    "        Whether to show progress bars while training.\n",
    "\n",
    "    special_tokens (:obj:`List[Union[str, AddedToken]]`):\n",
    "        A list of special tokens the model should know of.\n",
    "```"
   ]
  },
  {
   "cell_type": "markdown",
   "metadata": {},
   "source": [
    "Не забудьте добавить специальные токены. В первой части это токены, отвечающие за паддинг и слова, которых нет в словаре."
   ]
  },
  {
   "cell_type": "code",
   "execution_count": 13,
   "metadata": {},
   "outputs": [],
   "source": [
    "# YOUR CODE HERE\n",
    "\n",
    "trainer = trainers.WordLevelTrainer(\n",
    "    ...\n",
    ")\n",
    "\n",
    "tokenizer = tokenizers.Tokenizer(\n",
    "    model = tokenizers.models.WordLevel(unk_token=\"<unk>\")\n",
    ")"
   ]
  },
  {
   "cell_type": "markdown",
   "metadata": {},
   "source": [
    "Обучить `tokenizers.Tokenizer` можно **двумя способами**:\n",
    "\n",
    "- [указать список файлов и обучиться на них](https://huggingface.co/docs/tokenizers/pipeline), бывает полезно, когда датасет нельзя поместить в оперативную память;\n",
    "\n",
    "- [обучиться из памяти](https://huggingface.co/docs/tokenizers/training_from_memory), то есть хранить датасет в оперативной памяти, бывает полезно при маленьких датасетах как наш. \n",
    "\n",
    "\n",
    "Чтобы обучиться из файлов нам необходимо задать `tokenizers.normalizers.Normalizer` для нормализации строк (удаление лишних слов и символов), после чего необходимо задать `tokenizers.pre_tokenizers.PreTokenizer` для разделение строки на слова. Подробнее можно посмотреть [в этом примере](https://github.com/huggingface/tokenizers/blob/4383a25787cf366f5e8eaf12643b64f0ba548dc2/bindings/python/examples/custom_components.py). Такая сложность обусловленна тем, что `tokenizers` крайне много использует особенности ООП (объектно-ориентированного программирования).\n",
    "\n",
    "Мы будем обучаться из памяти, поэтому нам необходимо сделать итератор, который пройдет по всем файлам и токенизирует текст в них их. Подробнее можно почитать [в официальной документации](https://huggingface.co/docs/tokenizers/training_from_memory).\n"
   ]
  },
  {
   "cell_type": "code",
   "execution_count": 14,
   "metadata": {},
   "outputs": [],
   "source": [
    "def get_data_iterator():\n",
    "    for path in ['./aclImdb/test/neg', './aclImdb/test/pos', './aclImdb/train/neg', './aclImdb/train/pos']:\n",
    "        paths = sorted(list(os.listdir(path)))\n",
    "        \n",
    "        # YOUR CODE HERE\n",
    "        for file_path in paths:\n",
    "            text = open(os.path.join(path, file_path), 'r', encoding='utf-8', errors='ignore').read().strip()\n",
    "            yield tokenize(text)"
   ]
  },
  {
   "cell_type": "code",
   "execution_count": 15,
   "metadata": {},
   "outputs": [
    {
     "name": "stderr",
     "output_type": "stream",
     "text": [
      "100%|█████████████████████████████████████████████| 50000/50000 [00:25<00:00, 1949.57it/s]\n"
     ]
    }
   ],
   "source": [
    "tokenizer.train_from_iterator(tqdm(get_data_iterator(), total=50_000), trainer=trainer)"
   ]
  },
  {
   "cell_type": "markdown",
   "metadata": {},
   "source": [
    "Посмотрим на токены с наименьшим *id*. Обратим внимание, что специальные токены имеют наименьшие *id* по-умолчанию."
   ]
  },
  {
   "cell_type": "code",
   "execution_count": 16,
   "metadata": {},
   "outputs": [
    {
     "name": "stdout",
     "output_type": "stream",
     "text": [
      "ID = 0, token = <pad>\n",
      "ID = 1, token = <unk>\n",
      "ID = 2, token = movie\n",
      "ID = 3, token = film\n",
      "ID = 4, token = one\n",
      "ID = 5, token = like\n",
      "ID = 6, token = good\n",
      "ID = 7, token = time\n",
      "ID = 8, token = even\n",
      "ID = 9, token = would\n"
     ]
    }
   ],
   "source": [
    "for i in range(10):\n",
    "    token = tokenizer.id_to_token(i)\n",
    "    print(f\"ID = {i}, token = {token}\")\n"
   ]
  },
  {
   "cell_type": "code",
   "execution_count": 17,
   "metadata": {},
   "outputs": [],
   "source": [
    "assert tokenizer.get_vocab_size() == top_n_words\n",
    "\n",
    "assert tokenizer.id_to_token(464) == 'complete', f\"token = {tokenizer.id_to_token(464)}\"\n",
    "assert tokenizer.id_to_token(646) == 'typical',  f\"token = {tokenizer.id_to_token(646)}\"\n",
    "assert tokenizer.id_to_token(573) == 'fast',     f\"token = {tokenizer.id_to_token(573)}\""
   ]
  },
  {
   "cell_type": "markdown",
   "metadata": {},
   "source": [
    "**Важно:** При создании итератора мы сортировали файлы, поэтому результат при корретной реализации должен быть детерминированный. "
   ]
  },
  {
   "cell_type": "markdown",
   "metadata": {},
   "source": [
    "Для кодирования предложений используется метод `encode`, так как мы самостоятельно описали функцию `tokenize`, то установим `is_pretokenized=True`."
   ]
  },
  {
   "cell_type": "code",
   "execution_count": 18,
   "metadata": {},
   "outputs": [
    {
     "name": "stdout",
     "output_type": "stream",
     "text": [
      "Encoding(num_tokens=2, attributes=[ids, type_ids, tokens, offsets, attention_mask, special_tokens_mask, overflowing])\n",
      "Tokens ids:  [4775, 537]\n"
     ]
    }
   ],
   "source": [
    "result = tokenizer.encode(\n",
    "    sequence        = tokenize('1. Hello <br /> words!! <br />'), \n",
    "    is_pretokenized = True\n",
    ")\n",
    "\n",
    "print(result)\n",
    "print(\"Tokens ids: \", result.ids)"
   ]
  },
  {
   "cell_type": "markdown",
   "metadata": {},
   "source": [
    "Для декодирования, следует использовать метод `decode`, по умолчанию все специальные токены будут пропущены, то есть все токены `<unk>` будут пропущены."
   ]
  },
  {
   "cell_type": "code",
   "execution_count": 19,
   "metadata": {},
   "outputs": [
    {
     "name": "stdout",
     "output_type": "stream",
     "text": [
      "Decode result: hello words\n"
     ]
    }
   ],
   "source": [
    "decode_res = tokenizer.decode(\n",
    "    ids                 = result.ids, \n",
    "    skip_special_tokens = True\n",
    ")\n",
    "print(f\"Decode result: {decode_res}\")"
   ]
  },
  {
   "cell_type": "markdown",
   "metadata": {},
   "source": [
    "Теперь мы готовы создать обёртку-датасет для наших данных. \n",
    "\n",
    "Необходимо добавить несколько опций, которые понадобятся во второй части задания:\n",
    "1. Ограничение на максимальную длину текста в токенах. Если текст оказывается длиннее, то последние токены отбрасываются. Иметь ограничение на максимальную длину бывает полезно, так вы имеете гарантии, что во время обучения не засэмплируется очень большой батч, после которого упадет обучение с ошибкой **CUDA error: out of memory**. Кроме того, вы гарантированно знаете на контекстах какой длины обучалась модель, то есть если на валидации вам подасться текст большей длины, то он гарантировано будет отличаться от обучащей выборки.\n",
    "2. Возможность добавить в специальные токены `<sos>`, `<eos>` в начало и конец токенизированного текста\n",
    "    \n",
    "**tips:**\n",
    "1. В исходных данных рейтинг закодирован в названии файла в виде числа от $1$ до $10$. Для удобства, вычтите $1$, чтобы рейтинг был от $0$ до $9$"
   ]
  },
  {
   "cell_type": "code",
   "execution_count": 20,
   "metadata": {
    "ExecuteTime": {
     "end_time": "2024-03-30T21:24:48.821229Z",
     "start_time": "2024-03-30T21:24:48.813451Z"
    }
   },
   "outputs": [],
   "source": [
    "class LargeMovieReviewDataset(Dataset):\n",
    "    def __init__(self, data_path, tokenizer, max_len, pad_sos=False, pad_eos=False):\n",
    "        \"\"\"\n",
    "        :param str data_path: Path to folder with one of the data splits (train or test)\n",
    "        :param tokenizers.tokenizer: tokenizer with lookup_indices method\n",
    "        :param int max_len: Maximum length of tokenized text\n",
    "        :param bool pad_sos: If True pad sequence at the beginning with <sos> \n",
    "        :param bool pad_eos: If True pad sequence at the end with <eos>         \n",
    "        \"\"\"\n",
    "        super().__init__()\n",
    "        \n",
    "        self.pad_sos = pad_sos\n",
    "        if self.pad_sos:\n",
    "            self.sos_id = tokenizer.token_to_id('<sos>')\n",
    "        self.pad_eos = pad_eos\n",
    "        if self.pad_eos:\n",
    "            self.eos_id = tokenizer.token_to_id('<eos>')\n",
    "        \n",
    "        self.tokenizer = tokenizer\n",
    "        self.max_len   = max_len\n",
    "        self.data_path = data_path\n",
    "        self.negative_path = os.path.join(data_path, 'neg')\n",
    "        self.positive_path = os.path.join(data_path, 'pos')\n",
    "        \n",
    "        self.negative_paths = []\n",
    "        self.positive_paths = []\n",
    "\n",
    "        for file_path in os.listdir(self.negative_path):\n",
    "            self.negative_paths.append(os.path.join(self.negative_path, file_path))\n",
    "\n",
    "        for file_path in os.listdir(self.positive_path):\n",
    "            self.positive_paths.append(os.path.join(self.positive_path, file_path))\n",
    "        \n",
    "        self.negative_paths = sorted(self.negative_paths)\n",
    "        self.positive_paths = sorted(self.positive_paths)\n",
    "        \n",
    "        self.texts = []\n",
    "        self.tokens = []\n",
    "        self.ratings = []\n",
    "        self.labels = [0] * len(self.negative_paths) + [1] * len(self.positive_paths)\n",
    "        \n",
    "        # Read each file in data_path, tokenize it, get tokens ids, its rating and store\n",
    "        for path in self.negative_paths + self.positive_paths:\n",
    "            # YOUR CODE HERE\n",
    "            ...\n",
    "        \n",
    "    def __getitem__(self, idx):\n",
    "        \"\"\"\n",
    "        :param int idx: index of object in dataset\n",
    "        :return dict: Dictionary with all useful object data \n",
    "            {\n",
    "                'text' str: unprocessed text,\n",
    "                'label' torch.Tensor(dtype=torch.long): sentiment of the text (0 for negative, 1 for positive)\n",
    "                'rating' torch.Tensor(dtype=torch.long): rating of the text\n",
    "                'tokens' torch.Tensor(dtype=torch.long): tensor of tokens ids for the text\n",
    "                'tokens_len' torch.Tensor(dtype=torch.long): number of tokens\n",
    "            }\n",
    "        \"\"\"\n",
    "        # YOUR CODE HERE\n",
    "        # Do not forget to add <sos> and <eos> if needed!\n",
    "        ...\n",
    "        \n",
    "        return {\n",
    "            'text': ...\n",
    "            'label': ...\n",
    "            'tokens': ...\n",
    "            'tokens_len': ...\n",
    "            'rating': ...\n",
    "        }\n",
    "    \n",
    "    def __len__(self):\n",
    "        \"\"\"\n",
    "        :return int: number of objects in dataset \n",
    "        \"\"\"\n",
    "        # YOUR CODE HERE\n",
    "        ..."
   ]
  },
  {
   "cell_type": "markdown",
   "metadata": {},
   "source": [
    "Создайте датасеты для тестовой и обучающей выборки. \n",
    "\n",
    "Обратите внимание, что для задачи классификации нам не потребуется дополнять текст с помощью `<sos>`, `<eos>`. Эти токены отвечают за обозначение начала последовательности (**start of sequence**) и её конца (**end of sequence**). При моделировании языка нам будет необходимо уметь понимать где начался и закончился текст. Например, предложения часто начинаются со слова **\"однажды\"** и крайне редко со слова **\"щекотать\"**, аналогично про конец предложения.\n",
    "\n",
    "Не забудьте обрезать длинные тексты, передав параметр `max_length`."
   ]
  },
  {
   "cell_type": "code",
   "execution_count": 21,
   "metadata": {
    "ExecuteTime": {
     "end_time": "2024-03-30T21:25:02.011587Z",
     "start_time": "2024-03-30T21:24:48.822597Z"
    }
   },
   "outputs": [],
   "source": [
    "# YOUR CODE HERE\n",
    "test_dataset = ...\n",
    "train_dataset = ..."
   ]
  },
  {
   "cell_type": "markdown",
   "metadata": {},
   "source": [
    "Посмотрим, как выглядит объект в датасете:"
   ]
  },
  {
   "cell_type": "code",
   "execution_count": 22,
   "metadata": {},
   "outputs": [
    {
     "data": {
      "text/plain": [
       "{'text': \"This film lacked something I couldn't put my finger on at first: charisma on the part of the leading actress. This inevitably translated to lack of chemistry when she shared the screen with her leading man. Even the romantic scenes came across as being merely the actors at play. It could very well have been the director who miscalculated what he needed from the actors. I just don't know.<br /><br />But could it have been the screenplay? Just exactly who was the chef in love with? He seemed more enamored of his culinary skills and restaurant, and ultimately of himself and his youthful exploits, than of anybody or anything else. He never convinced me he was in love with the princess.<br /><br />I was disappointed in this movie. But, don't forget it was nominated for an Oscar, so judge for yourself.\",\n",
       " 'label': tensor(0),\n",
       " 'tokens': tensor([   3, 3100,   51,  158, 3536,   20, 3270,   74,  839,  400,    1,    1,\n",
       "          440, 1062,    1,  146,  839,   44,    8,  597,   50,  263,  483, 1421,\n",
       "           57,  173,   24,   13,   58,    1,  736,   57,   41,   24,  768,  488,\n",
       "            1,   34,  336,    1,    1, 1863, 3274, 1010,    1,    1, 1534,  125,\n",
       "          207,   36, 2501,   34, 2558,  541,    2,  687, 2103,  654, 1515]),\n",
       " 'tokens_len': tensor(59),\n",
       " 'rating': tensor(3)}"
      ]
     },
     "execution_count": 22,
     "metadata": {},
     "output_type": "execute_result"
    }
   ],
   "source": [
    "train_dataset[2]"
   ]
  },
  {
   "cell_type": "code",
   "execution_count": 23,
   "metadata": {
    "ExecuteTime": {
     "end_time": "2024-03-30T21:25:02.017429Z",
     "start_time": "2024-03-30T21:25:02.013091Z"
    }
   },
   "outputs": [
    {
     "data": {
      "text/plain": [
       "{'text': \"Once again Mr. Costner has dragged out a movie for far longer than necessary. Aside from the terrific sea rescue sequences, of which there are very few I just did not care about any of the characters. Most of us have ghosts in the closet, and Costner's character are realized early on, and then forgotten until much later, by which time I did not care. The character we should really care about is a very cocky, overconfident Ashton Kutcher. The problem is he comes off as kid who thinks he's better than anyone else around him and shows no signs of a cluttered closet. His only obstacle appears to be winning over Costner. Finally when we are well past the half way point of this stinker, Costner tells us all about Kutcher's ghosts. We are told why Kutcher is driven to be the best with no prior inkling or foreshadowing. No magic here, it was all I could do to keep from turning it off an hour in.\",\n",
       " 'label': tensor(0),\n",
       " 'tokens': tensor([ 315,    1, 3239,    2,  117,  996, 1569, 1033, 1176, 1468, 1999,  706,\n",
       "          332,   26,   77, 2845, 4040,    1,   29, 1520,  282, 1364,   14,  190,\n",
       "            7,  332,   29,   11,  332,    1,    1,    1,    1,  324,  159,  394,\n",
       "         1102,   45,  136,  207,   83,  163, 3655,    1, 4040,    1,  593, 1571,\n",
       "            1,  294,   13,  379,  188,   23,  112, 3736,    1,  577,   77,    1,\n",
       "         2845,  432,    1, 1960,   40, 2381,    1,    1, 1179,   24,  269, 1459,\n",
       "          397]),\n",
       " 'tokens_len': tensor(73),\n",
       " 'rating': tensor(1)}"
      ]
     },
     "execution_count": 23,
     "metadata": {},
     "output_type": "execute_result"
    }
   ],
   "source": [
    "test_dataset[0]"
   ]
  },
  {
   "cell_type": "markdown",
   "metadata": {},
   "source": [
    "Теперь нам нужно создать `DataLoader` для наших данных. `DataLoader` умеет из коробки объединять список объектов из датасета в один батч, даже когда датасет возвращает словарь тензоров. Однако, это работает только в случае когда все эти тензоры имеют один и тот же размер во всех батчах. В нашем случае, это не так, так как разные тексты могут иметь разную длину.\n",
    "\n",
    "Чтобы обойти эту проблему у `DataLoader` есть параметр `collate_fn`, который позволяет задать функцию для объединения списка объектов в один батч.\n",
    "\n",
    "**tips**\n",
    "1. Обратите свое внимание на функцию `torch.stack`, она позволяет \"застакать\" элементы списка в тензор"
   ]
  },
  {
   "cell_type": "markdown",
   "metadata": {},
   "source": [
    "Чтобы объединить несколько тензоров разной длины в один можно использовать функцию `torch.nn.utils.rnn.pad_sequence`. Такой формат позволит удобно передавать данные в rnn модель.\n",
    "\n",
    "Обратите внимание на её аргументы:\n",
    "1. `batch_first` определяет по какой оси \"складывать\" тензоры. Предпочтительнее использовать `batch_first=False` так как это может упростить выполнение задания в дальнейшем \n",
    "2. `padding_value` — число, которое будет использоваться в качестве паддинга, чтобы сделать все тензоры одинаковой длины\n"
   ]
  },
  {
   "cell_type": "code",
   "execution_count": 24,
   "metadata": {
    "ExecuteTime": {
     "end_time": "2024-03-30T21:25:02.026862Z",
     "start_time": "2024-03-30T21:25:02.018970Z"
    }
   },
   "outputs": [
    {
     "name": "stdout",
     "output_type": "stream",
     "text": [
      "batch_firs=False\n",
      "Shape = torch.Size([4, 3])\n",
      "tensor([[ 1,  4,  6],\n",
      "        [ 2,  5,  7],\n",
      "        [ 3, -1,  8],\n",
      "        [-1, -1,  9]])\n",
      "batch_firs=True\n",
      "Shape = torch.Size([3, 4])\n",
      "tensor([[ 1,  2,  3, -1],\n",
      "        [ 4,  5, -1, -1],\n",
      "        [ 6,  7,  8,  9]])\n"
     ]
    }
   ],
   "source": [
    "elemets = [\n",
    "    torch.tensor([1, 2, 3]),\n",
    "    torch.tensor([4, 5]),\n",
    "    torch.tensor([6, 7, 8, 9])\n",
    "]\n",
    "\n",
    "out_nbf = torch.nn.utils.rnn.pad_sequence(\n",
    "    elemets, \n",
    "    batch_first   = False, \n",
    "    padding_value = -1\n",
    ")\n",
    "\n",
    "out_bf = torch.nn.utils.rnn.pad_sequence(\n",
    "    elemets, \n",
    "    batch_first   = True, \n",
    "    padding_value = -1\n",
    ")\n",
    "\n",
    "print(f\"batch_first=False\")\n",
    "print(f\"Shape = {out_nbf.shape}\")\n",
    "print(out_nbf)\n",
    "\n",
    "print(f\"batch_first=True\")\n",
    "print(f\"Shape = {out_bf.shape}\")\n",
    "print(out_bf)"
   ]
  },
  {
   "cell_type": "code",
   "execution_count": 25,
   "metadata": {
    "ExecuteTime": {
     "end_time": "2024-03-30T21:25:02.036500Z",
     "start_time": "2024-03-30T21:25:02.027955Z"
    }
   },
   "outputs": [],
   "source": [
    "def collate_fn(batch, padding_value, batch_first=False):\n",
    "    \"\"\"\n",
    "    :param List[Dict] batch: List of objects from dataset\n",
    "    :param int padding_value: Value that will be used to pad tokens\n",
    "    :param bool batch_first: If True resulting tensor with tokens must have shape [B, T] otherwise [T, B]\n",
    "    :return dict: Dictionary with all data collated\n",
    "        {\n",
    "            'ratings' torch.Tensor(dtype=torch.long): rating of the text for each object in batch\n",
    "            'labels' torch.Tensor(dtype=torch.long): sentiment of the text for each object in batch\n",
    "            \n",
    "            'texts' List[str]: All texts in one list\n",
    "            'tokens' torch.Tensor(dtype=torch.long): tensor of tokens ids padded with @padding_value\n",
    "            'tokens_lens' torch.Tensor(dtype=torch.long): number of tokens for each object in batch\n",
    "        }\n",
    "    \"\"\"\n",
    "    # YOUR CODE HERE\n",
    "    ..."
   ]
  },
  {
   "cell_type": "markdown",
   "metadata": {},
   "source": [
    "Создайте даталоадеры с использованием `collate_fn`.\n",
    "\n",
    "**tips**:\n",
    "1. Передать в `collate_fn` правильное значение паддинга можно, например, с помощью `functools.partial`\n",
    "2. Если вы работаете в Google Colab, то, возможно, вам будет необходимо установить `num_workers=0` во избежание падения ноутбука.\n",
    "3. Для определения индекса `<pad>` надо использовать `tokenizer.token_to_id('<pad>')`, а не магическую константу 0."
   ]
  },
  {
   "cell_type": "code",
   "execution_count": 26,
   "metadata": {
    "ExecuteTime": {
     "end_time": "2024-03-30T21:25:02.047505Z",
     "start_time": "2024-03-30T21:25:02.037806Z"
    }
   },
   "outputs": [],
   "source": [
    "# YOUR CODE HERE\n",
    "collate_fn = ...\n",
    "test_dataloader = ...\n",
    "train_dataloader = ..."
   ]
  },
  {
   "cell_type": "markdown",
   "metadata": {},
   "source": [
    "Посмотрим на какой-нибудь батч:"
   ]
  },
  {
   "cell_type": "code",
   "execution_count": 27,
   "metadata": {
    "ExecuteTime": {
     "end_time": "2024-03-30T21:25:02.506858Z",
     "start_time": "2024-03-30T21:25:02.048584Z"
    }
   },
   "outputs": [
    {
     "data": {
      "text/plain": [
       "(dict_keys(['labels', 'ratings', 'texts', 'tokens', 'tokens_lens']),\n",
       " tensor([0, 0, 0, 0, 0, 0, 0, 0, 0, 0, 0, 0, 0, 0, 0, 0, 0, 0, 0, 0, 0, 0, 0, 0,\n",
       "         0, 0, 0, 0, 0, 0, 0, 0, 0, 0, 0, 0, 0, 0, 0, 0, 0, 0, 0, 0, 0, 0, 0, 0,\n",
       "         0, 0, 0, 0, 0, 0, 0, 0, 0, 0, 0, 0, 0, 0, 0, 0]),\n",
       " tensor([1, 3, 0, 2, 2, 1, 1, 1, 3, 3, 2, 2, 1, 0, 0, 3, 1, 3, 2, 0, 0, 0, 3, 0,\n",
       "         2, 3, 3, 2, 1, 2, 0, 2, 0, 2, 2, 1, 0, 0, 0, 0, 0, 0, 3, 0, 3, 1, 0, 0,\n",
       "         0, 1, 0, 3, 0, 0, 0, 3, 3, 1, 3, 3, 2, 0, 0, 0]),\n",
       " tensor([[ 315,  342,   20,  ..., 2233,  607,    1],\n",
       "         [   1, 2082,  595,  ...,  127,    1,  281],\n",
       "         [3239,  100, 4995,  ...,   58,  527,  474],\n",
       "         ...,\n",
       "         [   0,    0,    0,  ...,    0,    0,    0],\n",
       "         [   0,    0,    0,  ...,    0,    0,    0],\n",
       "         [   0,    0,    0,  ...,    0,    0,    0]]),\n",
       " tensor([ 73, 126, 110, 164, 139,  55,  77,  70,  72,  99,  58, 142, 142,  50,\n",
       "         102, 114,  65, 115, 190,  47,  37,  93, 200, 200, 135, 107, 103, 200,\n",
       "         200, 144,  77,  83, 185,  98, 156, 135, 125,  51, 179, 102,  66,  57,\n",
       "          84, 200, 125,  66, 200,  53, 111,  76,  55, 141, 126,  30,  64,  60,\n",
       "         200,  16, 140,  86,  64,  73,  85,  88]))"
      ]
     },
     "execution_count": 27,
     "metadata": {},
     "output_type": "execute_result"
    }
   ],
   "source": [
    "batch = next(iter(test_dataloader))\n",
    "batch.keys(), batch['labels'], batch['ratings'], batch['tokens'], batch['tokens_lens']"
   ]
  },
  {
   "cell_type": "markdown",
   "metadata": {},
   "source": [
    "# `Часть 1. Классификация текстов (4 балла)`"
   ]
  },
  {
   "cell_type": "markdown",
   "metadata": {},
   "source": [
    "В этой части вы обучите классификатор текстов на основе рекуррентной нейронной сети. Выше мы уже создали удобные класс-обёртки для работы с данными. Теперь мы соберем модель для решения задачи классификации. Вам предлагается решить задачу предсказания **рейтинга фильма** (классы 0 до 9), то есть мы решаем задачу многоклассовой классификации."
   ]
  },
  {
   "cell_type": "markdown",
   "metadata": {},
   "source": [
    "## `Сборка и обучение RNN в pytorch (1 балл)`"
   ]
  },
  {
   "cell_type": "markdown",
   "metadata": {},
   "source": [
    "Создадим переменные для device-agnostic кода:"
   ]
  },
  {
   "cell_type": "code",
   "execution_count": 28,
   "metadata": {
    "ExecuteTime": {
     "end_time": "2024-03-30T21:25:02.686316Z",
     "start_time": "2024-03-30T21:25:02.508620Z"
    }
   },
   "outputs": [
    {
     "name": "stdout",
     "output_type": "stream",
     "text": [
      "Using device: cuda:0, dtype: torch.float32\n"
     ]
    }
   ],
   "source": [
    "dtype, device, cuda_device_id = torch.float32, None, 0\n",
    "os.environ[\"CUDA_VISIBLE_DEVICES\"] = '{0}'.format(str(cuda_device_id) if cuda_device_id is not None else '')\n",
    "if cuda_device_id is not None and torch.cuda.is_available():\n",
    "    device = 'cuda:{0:d}'.format(0)\n",
    "else:\n",
    "    device = torch.device('cpu')\n",
    "print(f'Using device: {device}, dtype: {dtype}')"
   ]
  },
  {
   "cell_type": "markdown",
   "metadata": {},
   "source": [
    "Наша нейросеть будет обрабатывать входную последовательность по словам (word level). Мы будем использовать простую и стандартную рекуррентную архитектуру для классификации:\n",
    "1. Слой представлений, превращающий id токена в вектор-эмбеддинг этого слова\n",
    "2. Слой LSTM\n",
    "3. Полносвязный слой, предсказывающий выход по последнему скрытому состоянию\n",
    "\n",
    "Ниже дан код для сборки и обучения нашей нейросети."
   ]
  },
  {
   "cell_type": "markdown",
   "metadata": {},
   "source": [
    "Допишите класс-обёртку над LSTM для задачи классификации. \n",
    "**Не используйте циклы.**"
   ]
  },
  {
   "cell_type": "markdown",
   "metadata": {
    "ExecuteTime": {
     "end_time": "2021-04-01T20:59:16.467178Z",
     "start_time": "2021-04-01T20:59:16.441112Z"
    }
   },
   "source": [
    "**Для каждого тензора в функции `forward` подпишите в комментарии его размеры**"
   ]
  },
  {
   "cell_type": "code",
   "execution_count": 29,
   "metadata": {
    "ExecuteTime": {
     "end_time": "2024-03-30T21:25:02.698015Z",
     "start_time": "2024-03-30T21:25:02.687965Z"
    }
   },
   "outputs": [],
   "source": [
    "class RNNClassifier(torch.nn.Module):\n",
    "    def __init__(\n",
    "        self, embedding_dim, hidden_dim, output_size, tokenizer,\n",
    "        rec_layer=torch.nn.LSTM, dropout=None, **kwargs\n",
    "    ):\n",
    "        super().__init__()\n",
    "\n",
    "        self.dropout = dropout\n",
    "        \n",
    "        self.tokenizer = tokenizer\n",
    "        self.hidden_dim = hidden_dim\n",
    "        self.output_size = output_size\n",
    "        self.embedding_dim = embedding_dim\n",
    "        \n",
    "        # Create a simple lookup table that stores embeddings of a fixed dictionary and size.\n",
    "        #    Use torch.nn.Embedding. Do not forget specify padding_idx!\n",
    "        # YOUR CODE HERE\n",
    "        self.word_embeddings = ...\n",
    "        \n",
    "        # Add **kwargs in rec_layer constructor\n",
    "        if dropout is not None:\n",
    "            self.rnn = ...\n",
    "        else:\n",
    "            self.rnn = ...\n",
    "        \n",
    "        # Create linear layer for classification\n",
    "        # YOUR CODE HERE\n",
    "        self.output = ...\n",
    "    \n",
    "    def forward(self, tokens, tokens_lens):\n",
    "        \"\"\"\n",
    "        :param torch.Tensor(dtype=torch.long) tokens: Batch of texts represented with tokens.\n",
    "        :param torch.Tensor(dtype=torch.long) tokens_lens: Number of non-padding tokens for each object in batch.\n",
    "        :return torch.Tensor(dtype=torch.long): Vector representation for each sequence in batch\n",
    "        \"\"\"\n",
    "        # Evaluate embeddings\n",
    "        # YOUR CODE HERE\n",
    "        ...\n",
    "        \n",
    "        # Make forward pass through recurrent network\n",
    "        # YOUR CODE HERE\n",
    "        ...\n",
    "        \n",
    "        # Pass output from rnn to linear layer \n",
    "        # Note: each object in batch has its own length \n",
    "        #     so we must take rnn hidden state after the last token for each text in batch\n",
    "        # YOUR CODE HERE\n",
    "        ...\n"
   ]
  },
  {
   "cell_type": "markdown",
   "metadata": {},
   "source": [
    "[Исходный код LSTM](http://pytorch.org/docs/master/_modules/torch/nn/modules/rnn.html#LSTM)"
   ]
  },
  {
   "cell_type": "markdown",
   "metadata": {},
   "source": [
    "Допишите функции для обучения и оценки модели:\n",
    "\n",
    "**tip:**\n",
    "1. В функции `evaluate` при подсчёте метрик учитывайте, что батчи могут иметь разный размер. (в частности последний батч)\n",
    "\n",
    "**Важно:** Мы предсказываем `rating`, не `label`."
   ]
  },
  {
   "cell_type": "code",
   "execution_count": 30,
   "metadata": {
    "ExecuteTime": {
     "end_time": "2024-03-30T21:25:02.709854Z",
     "start_time": "2024-03-30T21:25:02.699539Z"
    }
   },
   "outputs": [],
   "source": [
    "def train_epoch(dataloader, model, loss_fn, optimizer, device):\n",
    "    model.train()\n",
    "    for idx, data in enumerate(dataloader):\n",
    "        # 1. Take data from batch\n",
    "        # 2. Perform forward pass\n",
    "        # 3. Evaluate loss\n",
    "        # 4. Make optimizer step\n",
    "        # YOUR CODE HERE\n",
    "        ...\n",
    "    \n",
    "def evaluate(dataloader, model, loss_fn, device):\n",
    "    model.eval()\n",
    "    \n",
    "    total_loss = 0.0\n",
    "    total_accuracy = 0.0\n",
    "    with torch.no_grad():\n",
    "        for idx, data in enumerate(dataloader):\n",
    "            # 1. Take data from batch\n",
    "            # 2. Perform forward pass\n",
    "            # 3. Evaluate loss\n",
    "            # 4. Evaluate accuracy\n",
    "            # YOUR CODE HERE\n",
    "            ...\n",
    "        \n",
    "    return total_loss / len(dataloader.dataset), total_accuracy / len(dataloader.dataset)\n",
    "    \n",
    "\n",
    "def train(\n",
    "    train_loader, test_loader, model, loss_fn, optimizer, device, num_epochs\n",
    "):\n",
    "    test_losses = []\n",
    "    train_losses = []\n",
    "    test_accuracies = []\n",
    "    train_accuracies = []\n",
    "    for epoch in range(num_epochs):\n",
    "        train_epoch(train_loader, model, loss_fn, optimizer, device)\n",
    "        \n",
    "        train_loss, train_acc = evaluate(train_loader, model, loss_fn, device)\n",
    "        train_accuracies.append(train_acc)\n",
    "        train_losses.append(train_loss)\n",
    "        \n",
    "        test_loss, test_acc = evaluate(test_loader, model, loss_fn, device)\n",
    "        test_accuracies.append(test_acc)\n",
    "        test_losses.append(test_loss)\n",
    "        \n",
    "        print(\n",
    "            'Epoch: {0:d}/{1:d}. Loss (Train/Test): {2:.3f}/{3:.3f}. Accuracy (Train/Test): {4:.3f}/{5:.3f}'.format(\n",
    "                epoch + 1, num_epochs, train_losses[-1], test_losses[-1], train_accuracies[-1], test_accuracies[-1]\n",
    "            )\n",
    "        )\n",
    "    return train_losses, train_accuracies, test_losses, test_accuracies"
   ]
  },
  {
   "cell_type": "markdown",
   "metadata": {},
   "source": [
    "Создадим модель:"
   ]
  },
  {
   "cell_type": "code",
   "execution_count": 31,
   "metadata": {
    "ExecuteTime": {
     "end_time": "2024-03-30T21:25:03.029866Z",
     "start_time": "2024-03-30T21:25:02.711287Z"
    }
   },
   "outputs": [],
   "source": [
    "set_global_seed(42)\n",
    "\n",
    "model = RNNClassifier(\n",
    "    embedding_dim=embedding_dim, hidden_dim=hidden_dim, output_size=10, tokenizer=tokenizer,\n",
    "    rec_layer=torch.nn.LSTM, dropout=None\n",
    ").to(device)\n",
    "\n",
    "check_numel(model, 244234, 0)"
   ]
  },
  {
   "cell_type": "markdown",
   "metadata": {},
   "source": [
    "Создадим класс для подсчёта функции потерь и оптимизатор:"
   ]
  },
  {
   "cell_type": "code",
   "execution_count": 32,
   "metadata": {
    "ExecuteTime": {
     "end_time": "2024-03-30T21:25:03.541742Z",
     "start_time": "2024-03-30T21:25:03.031367Z"
    }
   },
   "outputs": [],
   "source": [
    "loss_fn = torch.nn.CrossEntropyLoss(reduction='mean')\n",
    "optimizer = torch.optim.Adam(model.parameters(), lr=learning_rate)"
   ]
  },
  {
   "cell_type": "markdown",
   "metadata": {},
   "source": [
    "Попробуем обучить модель:"
   ]
  },
  {
   "cell_type": "markdown",
   "metadata": {},
   "source": [
    "**Сохраните все метрики и время работы модели. Это потребуется в конце первой части для построения графиков обучения и сравнения времени работы для всех моделей в этой секции**\n",
    "\n",
    "**Возможно стоит сохранить результаты в виде файлов и скачать их**\n",
    "\n",
    "**Обратите внимание, что надо сохранить и время**"
   ]
  },
  {
   "cell_type": "code",
   "execution_count": 33,
   "metadata": {},
   "outputs": [
    {
     "name": "stdout",
     "output_type": "stream",
     "text": [
      "Epoch: 1/15. Loss (Train/Test): 1.932/1.936. Accuracy (Train/Test): 0.271/0.278\n",
      "Epoch: 2/15. Loss (Train/Test): 1.629/1.675. Accuracy (Train/Test): 0.373/0.359\n",
      "Epoch: 3/15. Loss (Train/Test): 1.512/1.592. Accuracy (Train/Test): 0.409/0.383\n",
      "Epoch: 4/15. Loss (Train/Test): 1.465/1.580. Accuracy (Train/Test): 0.421/0.391\n",
      "Epoch: 5/15. Loss (Train/Test): 1.406/1.563. Accuracy (Train/Test): 0.448/0.392\n",
      "Epoch: 6/15. Loss (Train/Test): 1.345/1.568. Accuracy (Train/Test): 0.463/0.398\n",
      "Epoch: 7/15. Loss (Train/Test): 1.294/1.555. Accuracy (Train/Test): 0.487/0.400\n",
      "Epoch: 8/15. Loss (Train/Test): 1.235/1.586. Accuracy (Train/Test): 0.509/0.398\n",
      "Epoch: 9/15. Loss (Train/Test): 1.169/1.606. Accuracy (Train/Test): 0.537/0.397\n",
      "Epoch: 10/15. Loss (Train/Test): 1.115/1.647. Accuracy (Train/Test): 0.559/0.393\n",
      "Epoch: 11/15. Loss (Train/Test): 1.049/1.696. Accuracy (Train/Test): 0.596/0.376\n",
      "Epoch: 12/15. Loss (Train/Test): 0.982/1.755. Accuracy (Train/Test): 0.631/0.368\n",
      "Epoch: 13/15. Loss (Train/Test): 0.890/1.873. Accuracy (Train/Test): 0.666/0.365\n",
      "Epoch: 14/15. Loss (Train/Test): 0.803/1.957. Accuracy (Train/Test): 0.704/0.371\n",
      "Epoch: 15/15. Loss (Train/Test): 0.730/2.048. Accuracy (Train/Test): 0.741/0.362\n"
     ]
    }
   ],
   "source": [
    "train_losses_pure, train_accuracies_pure, test_losses_pure, test_accuracies_pure = train(\n",
    "    train_dataloader, test_dataloader, model, loss_fn, optimizer, device, num_epochs\n",
    ")"
   ]
  },
  {
   "cell_type": "markdown",
   "metadata": {},
   "source": [
    "Нерегуляризованные LSTM часто быстро переобучаются (и мы это видим по точности на контроле). Чтобы с этим бороться, часто используют *L2-регуляризацию* и *дропаут*.\n",
    "Однако способов накладывать дропаут на рекуррентный слой достаточно много, и далеко не все хорошо работают. По [ссылке](https://medium.com/@bingobee01/a-review-of-dropout-as-applied-to-rnns-72e79ecd5b7b) доступен хороший обзор дропаутов для RNN.\n",
    "\n",
    "Мы реализуем два варианта DropOut для RNN (и третий дополнительно). Заодно увидим, что для реализации различных усовершенствований рекуррентной архитектуры приходится \"вскрывать\" слой до различной \"глубины\"."
   ]
  },
  {
   "cell_type": "markdown",
   "metadata": {},
   "source": [
    "## `Реализация дропаута по статье Гала и Гарамани. Variational Dropout (1 балл)`"
   ]
  },
  {
   "cell_type": "markdown",
   "metadata": {},
   "source": [
    "Начнем с дропаута, описанного в [статье Гала и Гарамани](https://arxiv.org/abs/1512.05287).\n",
    "Для этого нам потребуется перейти от использования слоя `torch.nn.LSTM`, полностью скрывающего от нас рекуррентную логику, к использованию слоя `torch.nn.LSTMCell`, обрабатывающего лишь один временной шаг нашей последовательности (а всю логику вокруг придется реализовать самостоятельно). \n",
    "\n",
    "Для начала напишем функцию, которая позволит нам получать $h_0$ и $c_0$, которые мы будем использовать в качестве инициализаций.\n",
    "\n",
    "**tips:**\n",
    "\n",
    "1. Используйте some_existing_tensor, как тензор в котором содержится информация о типе данных, девайсе целевого тензора. Обратите внимание на функцию [new_ones](https://pytorch.org/docs/stable/generated/torch.Tensor.new_ones.html)."
   ]
  },
  {
   "cell_type": "code",
   "execution_count": 34,
   "metadata": {},
   "outputs": [],
   "source": [
    "def init_h0_c0(num_objects, hidden_size, some_existing_tensor):\n",
    "    \"\"\"\n",
    "    return h0 and c0, use some_existing_tensor.new_zeros() to gen them\n",
    "    h0 shape: num_objects x hidden_size\n",
    "    c0 shape: num_objects x hidden_size\n",
    "    \"\"\"\n",
    "    # YOUR CODE HERE\n",
    "    ..."
   ]
  },
  {
   "cell_type": "markdown",
   "metadata": {},
   "source": [
    "Допишите класс `RNNLayer`. При `dropout=0` ваш класс должен работать как обычный слой LSTM, а при `dropout > 0` накладывать бинарную маску на входной и скрытый вектор на каждом временном шаге, причем эта маска должна быть одинаковой во все моменты времени.\n",
    "\n",
    "Дропаут Гала и Гарамани в виде формул (m обозначает маску дропаута):\n",
    "\n",
    "$$\n",
    "h_{t-1} = h_{t-1}*m_h, \\, x_t = x_t * m_x\n",
    "$$\n",
    "\n",
    "Далее обычный шаг рекуррентной архитектуры, например, LSTM:\n",
    "\n",
    "$$\n",
    "i = \\sigma(h_{t-1}W^i + x_t U^i+b_i) \\quad\n",
    "o = \\sigma(h_{t-1}W^o + x_t U^o+b_o) \n",
    "$$\n",
    "$$\n",
    "f = \\sigma(h_{t-1}W^f + x_t U^f+b_f) \\quad \n",
    "g = tanh(h_{t-1} W^g + x_t U^g+b_g) \n",
    "$$\n",
    "$$\n",
    "c_t = f \\odot c_{t-1} +  i \\odot  g \\quad\n",
    "h_t =  o \\odot tanh(c_t)\n",
    "$$\n",
    "\n",
    "**Важно**: Мы считаем, что объекты в батче независимы, то есть маски для них должны быть разные.\n",
    "\n",
    "**tips:**\n",
    "\n",
    "1. Для получения бернулливской случайной величины достаточно вызвать `.bernoulli()` от массива содержащего вероятности.\n"
   ]
  },
  {
   "cell_type": "code",
   "execution_count": 35,
   "metadata": {
    "ExecuteTime": {
     "end_time": "2024-03-30T21:26:14.063117Z",
     "start_time": "2024-03-30T21:26:14.052307Z"
    }
   },
   "outputs": [],
   "source": [
    "def gen_dropout_mask(input_size, hidden_size, is_training, p, some_existing_tensor):\n",
    "    \"\"\"\n",
    "    is_training: if True, gen masks from Bernoulli\n",
    "                 if False, gen masks consisting of (1-p)\n",
    "    \n",
    "    return dropout masks of size input_size, hidden_size if p is not None\n",
    "    return one masks if p is None\n",
    "    \"\"\"\n",
    "    # YOUR CODE HERE\n",
    "    ..."
   ]
  },
  {
   "cell_type": "code",
   "execution_count": 36,
   "metadata": {},
   "outputs": [
    {
     "name": "stdout",
     "output_type": "stream",
     "text": [
      "m.mean(): 0.8808\n"
     ]
    }
   ],
   "source": [
    "set_global_seed(42)\n",
    "p = 0.12\n",
    "m = gen_dropout_mask(100, 120, is_training=True, p=p, some_existing_tensor=torch.tensor(1.))\n",
    "\n",
    "\n",
    "print(f'm.mean(): {m.mean():0.4f}')\n",
    "assert m.shape == (100, 120)\n",
    "assert (1 - p) - 0.005 <= m.mean() <= (1 - p) + 0.005"
   ]
  },
  {
   "cell_type": "markdown",
   "metadata": {
    "ExecuteTime": {
     "end_time": "2021-04-01T21:09:12.282613Z",
     "start_time": "2021-04-01T21:09:12.256019Z"
    }
   },
   "source": [
    "Допишите класс-обёртку над `LSTMCell` для реализации Variational Dropout. **Используйте только цикл по времени**"
   ]
  },
  {
   "cell_type": "markdown",
   "metadata": {},
   "source": [
    "**Для каждого тензора в функции `forward` подпишите в комментарии его размеры**"
   ]
  },
  {
   "cell_type": "code",
   "execution_count": 37,
   "metadata": {
    "ExecuteTime": {
     "end_time": "2024-03-30T21:26:14.072540Z",
     "start_time": "2024-03-30T21:26:14.064809Z"
    }
   },
   "outputs": [],
   "source": [
    "class RNNLayer(torch.nn.Module):\n",
    "    def __init__(self, input_size, hidden_size, dropout=None):\n",
    "        super().__init__()\n",
    "\n",
    "        self.dropout = dropout\n",
    "        self.input_size = input_size\n",
    "        self.hidden_size = hidden_size\n",
    "        \n",
    "        self.rnn_cell = torch.nn.LSTMCell(self.input_size, self.hidden_size)\n",
    "        \n",
    "    def forward(self, x):\n",
    "        # Initialize h_0, c_0\n",
    "        # YOUR CODE HERE\n",
    "        ...\n",
    "        \n",
    "        # Gen masks for input and hidden state\n",
    "        # YOUR CODE HERE\n",
    "        ...\n",
    "        \n",
    "        # Implement recurrent logic and return what nn.LSTM returns\n",
    "        # Do not forget to apply generated dropout masks!\n",
    "        # YOUR CODE HERE\n",
    "        ..."
   ]
  },
  {
   "cell_type": "code",
   "execution_count": 38,
   "metadata": {},
   "outputs": [],
   "source": [
    "layer = RNNLayer(32, 64, dropout=None)\n",
    "dummy_input = torch.ones((10, 16, 32))\n",
    "\n",
    "out = layer(dummy_input)\n",
    "\n",
    "assert out[0].shape == (10, 16, 64)\n",
    "assert out[1][0].shape == (16, 64)\n",
    "assert out[1][1].shape == (16, 64)"
   ]
  },
  {
   "cell_type": "markdown",
   "metadata": {},
   "source": [
    "Протестируйте реализованную модель с выключенным дропаутом (слой `RNNLayer` надо передать в `RNNClassifier` в качестве `rec_layer`). Замерьте время обучения. Сильно ли оно увеличилось по сравнению с `torch.nn.LSTM` (LSTM \"из коробки\")?"
   ]
  },
  {
   "cell_type": "markdown",
   "metadata": {},
   "source": [
    "**Сохраните все метрики и время работы модели. Это потребуется в конце первой части для построения графиков обучения и сравнения времени работы для всех моделей в этой секции**\n",
    "\n",
    "**Возможно стоит сохранить результаты в виде файлов и скачать их**"
   ]
  },
  {
   "cell_type": "code",
   "execution_count": 39,
   "metadata": {
    "ExecuteTime": {
     "end_time": "2024-03-30T21:37:48.546191Z",
     "start_time": "2024-03-30T21:26:14.073988Z"
    }
   },
   "outputs": [
    {
     "name": "stdout",
     "output_type": "stream",
     "text": [
      "Epoch: 1/15. Loss (Train/Test): 1.970/1.977. Accuracy (Train/Test): 0.270/0.270\n",
      "Epoch: 2/15. Loss (Train/Test): 1.652/1.691. Accuracy (Train/Test): 0.368/0.353\n",
      "Epoch: 3/15. Loss (Train/Test): 1.527/1.606. Accuracy (Train/Test): 0.402/0.381\n",
      "Epoch: 4/15. Loss (Train/Test): 1.471/1.581. Accuracy (Train/Test): 0.421/0.390\n",
      "Epoch: 5/15. Loss (Train/Test): 1.406/1.562. Accuracy (Train/Test): 0.448/0.393\n",
      "Epoch: 6/15. Loss (Train/Test): 1.349/1.573. Accuracy (Train/Test): 0.462/0.397\n",
      "Epoch: 7/15. Loss (Train/Test): 1.297/1.560. Accuracy (Train/Test): 0.485/0.402\n",
      "Epoch: 8/15. Loss (Train/Test): 1.250/1.597. Accuracy (Train/Test): 0.502/0.397\n",
      "Epoch: 9/15. Loss (Train/Test): 1.177/1.608. Accuracy (Train/Test): 0.533/0.397\n",
      "Epoch: 10/15. Loss (Train/Test): 1.125/1.635. Accuracy (Train/Test): 0.561/0.388\n",
      "Epoch: 11/15. Loss (Train/Test): 1.052/1.710. Accuracy (Train/Test): 0.597/0.375\n",
      "Epoch: 12/15. Loss (Train/Test): 0.988/1.760. Accuracy (Train/Test): 0.627/0.371\n",
      "Epoch: 13/15. Loss (Train/Test): 0.896/1.867. Accuracy (Train/Test): 0.663/0.365\n",
      "Epoch: 14/15. Loss (Train/Test): 0.801/1.935. Accuracy (Train/Test): 0.710/0.369\n",
      "Epoch: 15/15. Loss (Train/Test): 0.720/2.041. Accuracy (Train/Test): 0.748/0.363\n"
     ]
    }
   ],
   "source": [
    "set_global_seed(42)\n",
    "\n",
    "# YOUR CODE HERE\n",
    "..."
   ]
  },
  {
   "cell_type": "markdown",
   "metadata": {},
   "source": [
    "Протестируйте полученную модель с `dropout=0.25`, вновь замерив время обучения. Получилось ли побороть переобучение? Сильно ли дольше обучается данная модель по сравнению с предыдущей? (доп. время тратится на генерацию масок дропаута)."
   ]
  },
  {
   "cell_type": "code",
   "execution_count": 40,
   "metadata": {},
   "outputs": [
    {
     "name": "stdout",
     "output_type": "stream",
     "text": [
      "Epoch: 1/15. Loss (Train/Test): 2.005/2.006. Accuracy (Train/Test): 0.230/0.235\n",
      "Epoch: 2/15. Loss (Train/Test): 1.757/1.774. Accuracy (Train/Test): 0.334/0.337\n",
      "Epoch: 3/15. Loss (Train/Test): 1.645/1.681. Accuracy (Train/Test): 0.374/0.354\n",
      "Epoch: 4/15. Loss (Train/Test): 1.562/1.610. Accuracy (Train/Test): 0.390/0.377\n",
      "Epoch: 5/15. Loss (Train/Test): 1.531/1.596. Accuracy (Train/Test): 0.404/0.385\n",
      "Epoch: 6/15. Loss (Train/Test): 1.468/1.560. Accuracy (Train/Test): 0.423/0.392\n",
      "Epoch: 7/15. Loss (Train/Test): 1.430/1.536. Accuracy (Train/Test): 0.433/0.405\n",
      "Epoch: 8/15. Loss (Train/Test): 1.398/1.520. Accuracy (Train/Test): 0.447/0.407\n",
      "Epoch: 9/15. Loss (Train/Test): 1.385/1.526. Accuracy (Train/Test): 0.456/0.404\n",
      "Epoch: 10/15. Loss (Train/Test): 1.352/1.512. Accuracy (Train/Test): 0.464/0.408\n",
      "Epoch: 11/15. Loss (Train/Test): 1.333/1.505. Accuracy (Train/Test): 0.470/0.411\n",
      "Epoch: 12/15. Loss (Train/Test): 1.312/1.503. Accuracy (Train/Test): 0.481/0.412\n",
      "Epoch: 13/15. Loss (Train/Test): 1.285/1.501. Accuracy (Train/Test): 0.498/0.411\n",
      "Epoch: 14/15. Loss (Train/Test): 1.270/1.513. Accuracy (Train/Test): 0.493/0.412\n",
      "Epoch: 15/15. Loss (Train/Test): 1.254/1.514. Accuracy (Train/Test): 0.502/0.412\n"
     ]
    }
   ],
   "source": [
    "set_global_seed(42)\n",
    "\n",
    "# YOUR CODE HERE\n",
    "..."
   ]
  },
  {
   "cell_type": "markdown",
   "metadata": {},
   "source": [
    "## `Реализация дропаута по статье Гала и Гарамани. Дубль 2 (1 балл)`"
   ]
  },
  {
   "cell_type": "markdown",
   "metadata": {},
   "source": [
    "<начало взлома pytorch>"
   ]
  },
  {
   "cell_type": "markdown",
   "metadata": {},
   "source": [
    "При разворачивании цикла по времени средствами python обучение рекуррентной нейросети сильно замедляется. Однако для реализации дропаута Гала и Гарамани необязательно явно задавать в коде умножение нейронов на маски. Можно схитрить и обойтись использованием слоя `torch.nn.LSTM`: перед вызовом `forward` слоя `torch.nn.LSTM` подменять его веса на веса, домноженные **по строкам** на маски. А обучаемые веса хранить отдельно. Именно так этот дропаут реализован в библиотеке `fastai`, код из которой использован в ячейке ниже.\n",
    "\n",
    "Благодаря такому подходу мы используем быстрый код слоя `torch.nn.LSTM`, который гарантировано написан хорошо и правильно, но подменяем веса так, чтобы получить необходимый эффект.\n",
    "\n",
    "Для начала посмотрим на стандартный слой `nn.LSTM` и вспомним дропаут Гала и Гарамани (m обозначает маску дропаута):\n",
    "\n",
    "$$\n",
    "h_{t-1} = h_{t-1}*m_h, \\, x_t = x_t * m_x\n",
    "$$\n",
    "\n",
    "Далее обычный шаг рекуррентной архитектуры, например, LSTM:\n",
    "\n",
    "$$\n",
    "i = \\sigma(h_{t-1}W^i + x_t U^i+b_i) \\quad\n",
    "o = \\sigma(h_{t-1}W^o + x_t U^o+b_o) \n",
    "$$\n",
    "$$\n",
    "f = \\sigma(h_{t-1}W^f + x_t U^f+b_f) \\quad \n",
    "g = tanh(h_{t-1} W^g + x_t U^g+b_g) \n",
    "$$\n",
    "$$\n",
    "c_t = f \\odot c_{t-1} +  i \\odot  g \\quad\n",
    "h_t =  o \\odot tanh(c_t)\n",
    "$$"
   ]
  },
  {
   "cell_type": "markdown",
   "metadata": {},
   "source": [
    "Сначал посмотрим на параметры слоя `nn.LSTM`."
   ]
  },
  {
   "cell_type": "code",
   "execution_count": 41,
   "metadata": {},
   "outputs": [
    {
     "name": "stdout",
     "output_type": "stream",
     "text": [
      "weight_ih_l0: torch.Size([512, 32])\n",
      "weight_hh_l0: torch.Size([512, 128])\n",
      "bias_ih_l0  : torch.Size([512])\n",
      "bias_hh_l0  : torch.Size([512])\n",
      "weight_ih_l1: torch.Size([512, 128])\n",
      "weight_hh_l1: torch.Size([512, 128])\n",
      "bias_ih_l1  : torch.Size([512])\n",
      "bias_hh_l1  : torch.Size([512])\n"
     ]
    }
   ],
   "source": [
    "lstm = torch.nn.LSTM(embedding_dim, hidden_dim, num_layers=2)\n",
    "\n",
    "for tag, p in lstm.named_parameters():\n",
    "    print(f\"{tag:<12}: {p.shape}\")"
   ]
  },
  {
   "cell_type": "markdown",
   "metadata": {},
   "source": [
    "Подробнее про каждый отдельный модуль можно почитать на [официальной странице](https://pytorch.org/docs/stable/generated/torch.nn.LSTM.html), важно, что умножая каждую строку весов **weight\\_\\*\\*\\_\\*\\*** на маску, мы получим те же вычисления, что и при умножении $h_{t-1}$ и $x_t$ на маску. Для проверки этого факта рассмотрим игрушечный пример:"
   ]
  },
  {
   "cell_type": "code",
   "execution_count": 42,
   "metadata": {},
   "outputs": [
    {
     "data": {
      "text/plain": [
       "tensor(True)"
      ]
     },
     "execution_count": 42,
     "metadata": {},
     "output_type": "execute_result"
    }
   ],
   "source": [
    "set_global_seed(42)\n",
    "\n",
    "W = torch.randn((hidden_dim * 4, hidden_dim))\n",
    "x = torch.arange(hidden_dim).float()\n",
    "mask = (torch.arange(hidden_dim) % 2 == 0).long()\n",
    "\n",
    "res1 = W @ (x * mask)\n",
    "\n",
    "res2 = (W * mask[None, :]) @ x\n",
    "\n",
    "torch.isclose(res1, res2).all()"
   ]
  },
  {
   "cell_type": "markdown",
   "metadata": {},
   "source": [
    "Реализуйте слой, который с помощью подмены весов реализует  дропаут Гала и Гарамани, в виде обертки над `torch.nn.LSTM`. Допишите класс:"
   ]
  },
  {
   "cell_type": "code",
   "execution_count": 43,
   "metadata": {
    "ExecuteTime": {
     "end_time": "2024-03-30T21:50:53.808422Z",
     "start_time": "2024-03-30T21:50:53.806289Z"
    }
   },
   "outputs": [],
   "source": [
    "import warnings"
   ]
  },
  {
   "cell_type": "code",
   "execution_count": 44,
   "metadata": {
    "ExecuteTime": {
     "end_time": "2024-03-30T21:50:53.819063Z",
     "start_time": "2024-03-30T21:50:53.810046Z"
    }
   },
   "outputs": [],
   "source": [
    "class FastRNNLayer(torch.nn.Module):\n",
    "    def __init__(self, input_size, hidden_size, dropout=0.0, layers_dropout=0.0, num_layers=1):\n",
    "        super().__init__()\n",
    "\n",
    "        self.input_size = input_size\n",
    "        self.hidden_size = hidden_size\n",
    "\n",
    "        self.num_layers = num_layers\n",
    "\n",
    "        self.dropout = dropout\n",
    "        self.layers_dropout = layers_dropout\n",
    "        self.module = torch.nn.LSTM(input_size, hidden_size, dropout=layers_dropout, num_layers=num_layers)\n",
    "\n",
    "        self.layer_names = []\n",
    "        for layer_n in range(self.num_layers):\n",
    "            self.layer_names += [f'weight_hh_l{layer_n}', f'weight_ih_l{layer_n}']\n",
    "\n",
    "        for layer in self.layer_names:\n",
    "            # Get torch.nn.Parameter with weights from torch.nn.LSTM instance\n",
    "            w = getattr(self.module, layer)\n",
    "\n",
    "            # Remove it from model\n",
    "            delattr(self.module, layer)\n",
    "\n",
    "            # And create new torch.nn.Parameter with the same data but different name\n",
    "            self.register_parameter(f'{layer}_raw', torch.nn.Parameter(w.data))\n",
    "\n",
    "            # Note. In torch.nn.LSTM.forward parameter with name `layer` will be used\n",
    "            #     so we must initialize it using `layer_raw` before forward pass\n",
    "\n",
    "    def _setweights(self, x):\n",
    "        \"\"\"\n",
    "            Apply dropout to the raw weights.\n",
    "        \"\"\"\n",
    "        for layer in self.layer_names:\n",
    "            # Get torch.nn.Parameter with weights\n",
    "            raw_w = getattr(self, f'{layer}_raw')\n",
    "\n",
    "            # Generate mask (use function gen_dropout_mask)\n",
    "            # YOUR CODE HERE\n",
    "            ...\n",
    "            \n",
    "            # Apply dropout mask\n",
    "            # YOUR CODE HERE\n",
    "            ...\n",
    "            \n",
    "            # Set modified weights in its place\n",
    "            setattr(self.module, layer, masked_raw_w)\n",
    "\n",
    "    def forward(self, x, h_c=None):\n",
    "        \"\"\"\n",
    "        :param x: tensor containing the features of the input sequence.\n",
    "        :param Optional[Tuple[torch.Tensor, torch.Tensor]] h_c: initial hidden state and initial cell state\n",
    "        \"\"\"\n",
    "        with warnings.catch_warnings():\n",
    "            # To avoid the warning that comes because the weights aren't flattened.\n",
    "            warnings.simplefilter(\"ignore\")\n",
    "\n",
    "            # Set new weights of self.module and call its forward\n",
    "            # Pass h_c with x if it is not None. Otherwise pass only x\n",
    "            # YOUR CODE HERE\n",
    "            ...\n",
    "            \n",
    "    def reset(self):\n",
    "        if hasattr(self.module, 'reset'):\n",
    "            self.module.reset()"
   ]
  },
  {
   "cell_type": "code",
   "execution_count": 45,
   "metadata": {},
   "outputs": [],
   "source": [
    "layer = FastRNNLayer(32, 64, dropout=None)\n",
    "dummy_input = torch.ones((10, 16, 32))\n",
    "\n",
    "out = layer(dummy_input)\n",
    "\n",
    "assert out[0].shape == (10, 16, 64)\n",
    "assert out[1][0].shape == (1, 16, 64)\n",
    "assert out[1][1].shape == (1, 16, 64)"
   ]
  },
  {
   "cell_type": "markdown",
   "metadata": {},
   "source": [
    "Протестируйте реализованную модель с выключенным дропаутом (слой `FastRNNLayer` надо передать в `RNNClassifier` в качестве `rec_layer`). Замерьте время обучения. Убедитесь, что модель выдаёт такое же качество, как и оригинальная реализация LSTM."
   ]
  },
  {
   "cell_type": "markdown",
   "metadata": {},
   "source": [
    "**Сохраните все метрики и время работы модели. Это потребуется в конце первой части для построения графиков обучения и сравнения времени работы для всех моделей в этой секции**\n",
    "\n",
    "**Возможно стоит сохранить результаты в виде файлов и скачать их**"
   ]
  },
  {
   "cell_type": "code",
   "execution_count": 46,
   "metadata": {},
   "outputs": [
    {
     "name": "stdout",
     "output_type": "stream",
     "text": [
      "Epoch: 1/15. Loss (Train/Test): 1.932/1.936. Accuracy (Train/Test): 0.271/0.278\n",
      "Epoch: 2/15. Loss (Train/Test): 1.629/1.675. Accuracy (Train/Test): 0.373/0.359\n",
      "Epoch: 3/15. Loss (Train/Test): 1.512/1.592. Accuracy (Train/Test): 0.409/0.383\n",
      "Epoch: 4/15. Loss (Train/Test): 1.465/1.580. Accuracy (Train/Test): 0.421/0.391\n",
      "Epoch: 5/15. Loss (Train/Test): 1.406/1.563. Accuracy (Train/Test): 0.448/0.392\n",
      "Epoch: 6/15. Loss (Train/Test): 1.345/1.568. Accuracy (Train/Test): 0.463/0.398\n",
      "Epoch: 7/15. Loss (Train/Test): 1.294/1.555. Accuracy (Train/Test): 0.487/0.400\n",
      "Epoch: 8/15. Loss (Train/Test): 1.235/1.586. Accuracy (Train/Test): 0.509/0.398\n",
      "Epoch: 9/15. Loss (Train/Test): 1.169/1.606. Accuracy (Train/Test): 0.537/0.397\n",
      "Epoch: 10/15. Loss (Train/Test): 1.115/1.647. Accuracy (Train/Test): 0.559/0.393\n",
      "Epoch: 11/15. Loss (Train/Test): 1.049/1.696. Accuracy (Train/Test): 0.596/0.376\n",
      "Epoch: 12/15. Loss (Train/Test): 0.982/1.755. Accuracy (Train/Test): 0.631/0.368\n",
      "Epoch: 13/15. Loss (Train/Test): 0.890/1.873. Accuracy (Train/Test): 0.666/0.365\n",
      "Epoch: 14/15. Loss (Train/Test): 0.803/1.957. Accuracy (Train/Test): 0.704/0.371\n",
      "Epoch: 15/15. Loss (Train/Test): 0.730/2.048. Accuracy (Train/Test): 0.741/0.362\n"
     ]
    }
   ],
   "source": [
    "set_global_seed(42)\n",
    "\n",
    "# YOUR CODE HERE\n",
    "..."
   ]
  },
  {
   "cell_type": "markdown",
   "metadata": {},
   "source": [
    "Протестируйте полученный слой (вновь подставив его в `RNNClassifier` в качестве `rec_layer`) с `dropout=0.25`. Сравните время обучения с предыдущими моделями. Проследите, чтобы качество получилось такое же, как при первой реализации этого дропаута."
   ]
  },
  {
   "cell_type": "code",
   "execution_count": 47,
   "metadata": {},
   "outputs": [
    {
     "name": "stdout",
     "output_type": "stream",
     "text": [
      "Epoch: 1/15. Loss (Train/Test): 2.002/2.003. Accuracy (Train/Test): 0.240/0.244\n",
      "Epoch: 2/15. Loss (Train/Test): 1.789/1.809. Accuracy (Train/Test): 0.335/0.329\n",
      "Epoch: 3/15. Loss (Train/Test): 1.658/1.691. Accuracy (Train/Test): 0.371/0.359\n",
      "Epoch: 4/15. Loss (Train/Test): 1.577/1.623. Accuracy (Train/Test): 0.383/0.377\n",
      "Epoch: 5/15. Loss (Train/Test): 1.523/1.583. Accuracy (Train/Test): 0.410/0.388\n",
      "Epoch: 6/15. Loss (Train/Test): 1.479/1.569. Accuracy (Train/Test): 0.419/0.391\n",
      "Epoch: 7/15. Loss (Train/Test): 1.438/1.536. Accuracy (Train/Test): 0.431/0.402\n",
      "Epoch: 8/15. Loss (Train/Test): 1.410/1.522. Accuracy (Train/Test): 0.444/0.407\n",
      "Epoch: 9/15. Loss (Train/Test): 1.387/1.523. Accuracy (Train/Test): 0.454/0.403\n",
      "Epoch: 10/15. Loss (Train/Test): 1.374/1.522. Accuracy (Train/Test): 0.457/0.407\n",
      "Epoch: 11/15. Loss (Train/Test): 1.348/1.507. Accuracy (Train/Test): 0.468/0.410\n",
      "Epoch: 12/15. Loss (Train/Test): 1.325/1.507. Accuracy (Train/Test): 0.477/0.409\n",
      "Epoch: 13/15. Loss (Train/Test): 1.298/1.505. Accuracy (Train/Test): 0.492/0.410\n",
      "Epoch: 14/15. Loss (Train/Test): 1.292/1.522. Accuracy (Train/Test): 0.488/0.412\n",
      "Epoch: 15/15. Loss (Train/Test): 1.272/1.523. Accuracy (Train/Test): 0.496/0.412\n"
     ]
    }
   ],
   "source": [
    "set_global_seed(42)\n",
    "\n",
    "# YOUR CODE HERE\n",
    "..."
   ]
  },
  {
   "cell_type": "markdown",
   "metadata": {},
   "source": [
    "</конец взлома pytorch>"
   ]
  },
  {
   "cell_type": "markdown",
   "metadata": {},
   "source": [
    "## `Реализация дропаута по статье Семениуты и др. (1 балл)`"
   ]
  },
  {
   "cell_type": "markdown",
   "metadata": {},
   "source": [
    "Перейдем к реализации дропаута для LSTM по статье [Semeniuta et al](http://www.aclweb.org/anthology/C16-1165). \n",
    "\n",
    "Этот метод применения дропаута не менее популярен, чем предыдущий. Его особенность состоит в том, что он придуман специально для гейтовых архитектур. В контексте LSTM этот дропаут накладывается только на информационный поток ($m_h$ — маска дропаута):\n",
    "$$\n",
    "i = \\sigma(h_{t-1}W^i + x_t U^i+b_i) \\quad\n",
    "o = \\sigma(h_{t-1}W^o + x_t U^o+b_o) \n",
    "$$\n",
    "$$\n",
    "f = \\sigma(h_{t-1}W^f + x_t U^f+b_f) \\quad \n",
    "g = tanh(h_{t-1} W^g + x_t U^g+b_g) \n",
    "$$\n",
    "$$\n",
    "c_t = f \\odot c_{t-1} +  i \\odot g \\odot {\\bf m_h} \\quad\n",
    "h_t =  o \\odot tanh(c_t)\n",
    "$$\n",
    "**На входы $x_t$ маска накладывается как в предыдущем дропауте.** Впрочем, на входы маску можно наложить вообще до вызова рекуррентного слоя.\n",
    "\n",
    "Согласно статье, маска дропаута может быть как одинаковая, так и разная для всех моментов времени. Мы сделаем одинаковую для всех моментов времени.\n",
    "\n",
    "Для реализации этого дропаута можно: \n",
    "1. самостоятельно реализовать LSTM (интерфейса LSTMCell не хватит) \n",
    "2. снова воспользоваться трюком с установкой весов (но тут мы опираемся на свойство $tanh(0)=0$, к тому же, трюк в данном случае выглядит менее тривиально, чем с дропаутом Гала). \n",
    "\n",
    "**Внимание:** Раньше мы реализовывали через LSTMCell и модель работала долго, теперь при рукописном варианте будет работать еще дольше!\n",
    "\n",
    "Предлагается реализовать дропаут по сценарию 1. Допишите класс:"
   ]
  },
  {
   "cell_type": "markdown",
   "metadata": {},
   "source": [
    "**Для каждого тензора в функции `forward` подпишите в комментарии его размеры**"
   ]
  },
  {
   "cell_type": "code",
   "execution_count": 48,
   "metadata": {
    "ExecuteTime": {
     "end_time": "2024-03-30T21:53:49.270179Z",
     "start_time": "2024-03-30T21:53:49.265063Z"
    }
   },
   "outputs": [],
   "source": [
    "class HandmadeLSTM(torch.nn.Module):\n",
    "    def __init__(self, input_size, hidden_size, dropout=0.0):\n",
    "        super().__init__()\n",
    "        \n",
    "        self.dropout = dropout\n",
    "        self.input_size = input_size\n",
    "        self.hidden_size = hidden_size\n",
    "        \n",
    "        self.input_weights = torch.nn.Linear(input_size, 4 * hidden_size)\n",
    "        self.hidden_weights = torch.nn.Linear(hidden_size, 4 * hidden_size)\n",
    "        \n",
    "        self.reset_params()\n",
    "\n",
    "    def reset_params(self):\n",
    "        \"\"\"\n",
    "        Initialization as in Pytorch. \n",
    "        Do not forget to call this method!\n",
    "        https://pytorch.org/docs/stable/_modules/torch/nn/modules/rnn.html#LSTM\n",
    "        \"\"\"\n",
    "        stdv = 1.0 / np.sqrt(self.hidden_size)\n",
    "        for weight in self.parameters():\n",
    "            torch.nn.init.uniform_(weight, -stdv, stdv)\n",
    "\n",
    "    def forward(self, x):\n",
    "        # Use functions init_h0_c0 and gen_dropout_masks defined above\n",
    "        # YOUR CODE HERE\n",
    "        ...\n",
    "        \n",
    "        # Implement recurrent logic to mimic torch.nn.LSTM\n",
    "        # Do not forget to apply dropout mask\n",
    "        # YOUR CODE HERE\n",
    "        ..."
   ]
  },
  {
   "cell_type": "code",
   "execution_count": 49,
   "metadata": {},
   "outputs": [],
   "source": [
    "layer = HandmadeLSTM(32, 64, dropout=None)\n",
    "dummy_input = torch.ones((10, 16, 32))\n",
    "\n",
    "out = layer(dummy_input)\n",
    "\n",
    "assert out[0].shape == (10, 16, 64)\n",
    "assert out[1][0].shape == (16, 64)\n",
    "assert out[1][1].shape == (16, 64)"
   ]
  },
  {
   "cell_type": "markdown",
   "metadata": {},
   "source": [
    "Протестируйте вашу реализацию без дропаута (проконтролируйте качество и сравните время обучения с временем обучения `torch.nn.LSTM` и `RNNLayer`), а также с `dropout=0.25`. Сравните качество модели с таким дропаутом с качеством модели с дропаутом Гала и Гарамани."
   ]
  },
  {
   "cell_type": "markdown",
   "metadata": {},
   "source": [
    "**Сохраните все метрики и время работы модели. Это потребуется в конце первой части для построения графиков обучения и сравнения времени работы для всех моделей в этой секции**\n",
    "\n",
    "**Возможно стоит сохранить результаты в виде файлов и скачать их**"
   ]
  },
  {
   "cell_type": "code",
   "execution_count": 50,
   "metadata": {},
   "outputs": [
    {
     "name": "stdout",
     "output_type": "stream",
     "text": [
      "Epoch: 1/15. Loss (Train/Test): 1.890/1.899. Accuracy (Train/Test): 0.297/0.299\n",
      "Epoch: 2/15. Loss (Train/Test): 1.641/1.686. Accuracy (Train/Test): 0.365/0.353\n",
      "Epoch: 3/15. Loss (Train/Test): 1.533/1.612. Accuracy (Train/Test): 0.402/0.379\n",
      "Epoch: 4/15. Loss (Train/Test): 1.494/1.587. Accuracy (Train/Test): 0.415/0.384\n",
      "Epoch: 5/15. Loss (Train/Test): 1.432/1.591. Accuracy (Train/Test): 0.438/0.386\n",
      "Epoch: 6/15. Loss (Train/Test): 1.377/1.559. Accuracy (Train/Test): 0.456/0.396\n",
      "Epoch: 7/15. Loss (Train/Test): 1.294/1.562. Accuracy (Train/Test): 0.487/0.399\n",
      "Epoch: 8/15. Loss (Train/Test): 1.243/1.572. Accuracy (Train/Test): 0.511/0.395\n",
      "Epoch: 9/15. Loss (Train/Test): 1.198/1.597. Accuracy (Train/Test): 0.522/0.401\n",
      "Epoch: 10/15. Loss (Train/Test): 1.129/1.645. Accuracy (Train/Test): 0.558/0.388\n",
      "Epoch: 11/15. Loss (Train/Test): 1.059/1.694. Accuracy (Train/Test): 0.597/0.374\n",
      "Epoch: 12/15. Loss (Train/Test): 0.990/1.751. Accuracy (Train/Test): 0.621/0.370\n",
      "Epoch: 13/15. Loss (Train/Test): 0.896/1.860. Accuracy (Train/Test): 0.668/0.365\n",
      "Epoch: 14/15. Loss (Train/Test): 0.808/1.958. Accuracy (Train/Test): 0.705/0.363\n",
      "Epoch: 15/15. Loss (Train/Test): 0.716/2.042. Accuracy (Train/Test): 0.743/0.365\n"
     ]
    }
   ],
   "source": [
    "set_global_seed(42)\n",
    "\n",
    "# YOUR CODE HERE\n",
    "..."
   ]
  },
  {
   "cell_type": "code",
   "execution_count": 51,
   "metadata": {},
   "outputs": [
    {
     "name": "stdout",
     "output_type": "stream",
     "text": [
      "Epoch: 1/15. Loss (Train/Test): 2.008/2.007. Accuracy (Train/Test): 0.237/0.235\n",
      "Epoch: 2/15. Loss (Train/Test): 1.783/1.795. Accuracy (Train/Test): 0.321/0.325\n",
      "Epoch: 3/15. Loss (Train/Test): 1.650/1.687. Accuracy (Train/Test): 0.362/0.354\n",
      "Epoch: 4/15. Loss (Train/Test): 1.578/1.631. Accuracy (Train/Test): 0.384/0.372\n",
      "Epoch: 5/15. Loss (Train/Test): 1.546/1.613. Accuracy (Train/Test): 0.393/0.368\n",
      "Epoch: 6/15. Loss (Train/Test): 1.489/1.568. Accuracy (Train/Test): 0.415/0.391\n",
      "Epoch: 7/15. Loss (Train/Test): 1.459/1.554. Accuracy (Train/Test): 0.425/0.396\n",
      "Epoch: 8/15. Loss (Train/Test): 1.435/1.544. Accuracy (Train/Test): 0.436/0.400\n",
      "Epoch: 9/15. Loss (Train/Test): 1.409/1.536. Accuracy (Train/Test): 0.439/0.405\n",
      "Epoch: 10/15. Loss (Train/Test): 1.397/1.539. Accuracy (Train/Test): 0.443/0.407\n",
      "Epoch: 11/15. Loss (Train/Test): 1.375/1.526. Accuracy (Train/Test): 0.453/0.409\n",
      "Epoch: 12/15. Loss (Train/Test): 1.371/1.527. Accuracy (Train/Test): 0.455/0.407\n",
      "Epoch: 13/15. Loss (Train/Test): 1.336/1.527. Accuracy (Train/Test): 0.467/0.414\n",
      "Epoch: 14/15. Loss (Train/Test): 1.336/1.541. Accuracy (Train/Test): 0.470/0.409\n",
      "Epoch: 15/15. Loss (Train/Test): 1.305/1.512. Accuracy (Train/Test): 0.479/0.413\n"
     ]
    }
   ],
   "source": [
    "set_global_seed(42)\n",
    "\n",
    "# YOUR CODE HERE\n",
    "..."
   ]
  },
  {
   "cell_type": "markdown",
   "metadata": {
    "ExecuteTime": {
     "end_time": "2021-04-01T23:33:28.831346Z",
     "start_time": "2021-04-01T23:33:28.810453Z"
    }
   },
   "source": [
    "## `Сравнение всех предложенных моделей (1 балл)`"
   ]
  },
  {
   "cell_type": "markdown",
   "metadata": {
    "ExecuteTime": {
     "end_time": "2021-04-01T23:48:05.361634Z",
     "start_time": "2021-04-01T23:48:05.333901Z"
    }
   },
   "source": [
    "Используя замеры времени заполните табличку с временем работы четырёх реализованных моделей в следующей ячейке:"
   ]
  },
  {
   "cell_type": "markdown",
   "metadata": {},
   "source": [
    "| torch.nn.LSTM | RNNLayer | FastRNNLayer | HandmadeLSTM |\n",
    "|---------------|----------|--------------|--------------|\n",
    "| 2m 35s        | 14m 16s  | 2m 41s       | 31m 44s      |"
   ]
  },
  {
   "cell_type": "code",
   "execution_count": 52,
   "metadata": {
    "ExecuteTime": {
     "end_time": "2024-03-30T22:43:31.566217Z",
     "start_time": "2024-03-30T22:43:31.389958Z"
    }
   },
   "outputs": [],
   "source": [
    "import matplotlib.pyplot as plt"
   ]
  },
  {
   "cell_type": "markdown",
   "metadata": {},
   "source": [
    "Крайне желательно рисовать графики в векторном формате. \n",
    "\n",
    "Если по каким-то причинам, отрисовка не будет работать, закомментируйте следующую ячейку."
   ]
  },
  {
   "cell_type": "code",
   "execution_count": 53,
   "metadata": {
    "ExecuteTime": {
     "end_time": "2024-03-30T22:43:31.573342Z",
     "start_time": "2024-03-30T22:43:31.567690Z"
    }
   },
   "outputs": [],
   "source": [
    "%matplotlib inline\n",
    "\n",
    "import matplotlib_inline\n",
    "from IPython.display import set_matplotlib_formats\n",
    "\n",
    "matplotlib_inline.backend_inline.set_matplotlib_formats('pdf', 'svg')"
   ]
  },
  {
   "cell_type": "markdown",
   "metadata": {},
   "source": [
    "Нарисуйте два графика — функция потерь и качество на обучающей и тестовой выборке для всех 7 моделей обученных выше."
   ]
  },
  {
   "cell_type": "code",
   "execution_count": 54,
   "metadata": {
    "ExecuteTime": {
     "end_time": "2024-03-30T22:43:32.290598Z",
     "start_time": "2024-03-30T22:43:31.575031Z"
    }
   },
   "outputs": [
    {
     "data": {
      "application/pdf": "[encoded data removed]",
      "image/svg+xml": [
       "<?xml version=\"1.0\" encoding=\"utf-8\" standalone=\"no\"?>\n",
       "<!DOCTYPE svg PUBLIC \"-//W3C//DTD SVG 1.1//EN\"\n",
       "  \"http://www.w3.org/Graphics/SVG/1.1/DTD/svg11.dtd\">\n",
       "<svg xmlns:xlink=\"http://www.w3.org/1999/xlink\" width=\"712.773125pt\" height=\"711.034375pt\" viewBox=\"0 0 712.773125 711.034375\" xmlns=\"http://www.w3.org/2000/svg\" version=\"1.1\">\n",
       " <metadata>\n",
       "  <rdf:RDF xmlns:dc=\"http://purl.org/dc/elements/1.1/\" xmlns:cc=\"http://creativecommons.org/ns#\" xmlns:rdf=\"http://www.w3.org/1999/02/22-rdf-syntax-ns#\">\n",
       "   <cc:Work>\n",
       "    <dc:type rdf:resource=\"http://purl.org/dc/dcmitype/StillImage\"/>\n",
       "    <dc:date>2025-03-16T15:28:57.584040</dc:date>\n",
       "    <dc:format>image/svg+xml</dc:format>\n",
       "    <dc:creator>\n",
       "     <cc:Agent>\n",
       "      <dc:title>Matplotlib v3.7.1, https://matplotlib.org/</dc:title>\n",
       "     </cc:Agent>\n",
       "    </dc:creator>\n",
       "   </cc:Work>\n",
       "  </rdf:RDF>\n",
       " </metadata>\n",
       " <defs>\n",
       "  <style type=\"text/css\">*{stroke-linejoin: round; stroke-linecap: butt}</style>\n",
       " </defs>\n",
       " <g id=\"figure_1\">\n",
       "  <g id=\"patch_1\">\n",
       "   <path d=\"M 0 711.034375 \n",
       "L 712.773125 711.034375 \n",
       "L 712.773125 0 \n",
       "L 0 0 \n",
       "z\n",
       "\" style=\"fill: #ffffff\"/>\n",
       "  </g>\n",
       "  <g id=\"axes_1\">\n",
       "   <g id=\"patch_2\">\n",
       "    <path d=\"M 30.103125 318.878125 \n",
       "L 705.573125 318.878125 \n",
       "L 705.573125 22.318125 \n",
       "L 30.103125 22.318125 \n",
       "z\n",
       "\" style=\"fill: #ffffff\"/>\n",
       "   </g>\n",
       "   <g id=\"matplotlib.axis_1\">\n",
       "    <g id=\"xtick_1\">\n",
       "     <g id=\"line2d_1\">\n",
       "      <path d=\"M 60.806307 318.878125 \n",
       "L 60.806307 22.318125 \n",
       "\" clip-path=\"url(#p9215c2db52)\" style=\"fill: none; stroke: #b0b0b0; stroke-width: 0.8; stroke-linecap: square\"/>\n",
       "     </g>\n",
       "     <g id=\"line2d_2\">\n",
       "      <defs>\n",
       "       <path id=\"m6fb3d6cdcc\" d=\"M 0 0 \n",
       "L 0 3.5 \n",
       "\" style=\"stroke: #000000; stroke-width: 0.8\"/>\n",
       "      </defs>\n",
       "      <g>\n",
       "       <use xlink:href=\"#m6fb3d6cdcc\" x=\"60.806307\" y=\"318.878125\" style=\"stroke: #000000; stroke-width: 0.8\"/>\n",
       "      </g>\n",
       "     </g>\n",
       "     <g id=\"text_1\">\n",
       "      <!-- 0 -->\n",
       "      <g transform=\"translate(57.625057 333.476562) scale(0.1 -0.1)\">\n",
       "       <defs>\n",
       "        <path id=\"DejaVuSans-30\" d=\"M 2034 4250 \n",
       "Q 1547 4250 1301 3770 \n",
       "Q 1056 3291 1056 2328 \n",
       "Q 1056 1369 1301 889 \n",
       "Q 1547 409 2034 409 \n",
       "Q 2525 409 2770 889 \n",
       "Q 3016 1369 3016 2328 \n",
       "Q 3016 3291 2770 3770 \n",
       "Q 2525 4250 2034 4250 \n",
       "z\n",
       "M 2034 4750 \n",
       "Q 2819 4750 3233 4129 \n",
       "Q 3647 3509 3647 2328 \n",
       "Q 3647 1150 3233 529 \n",
       "Q 2819 -91 2034 -91 \n",
       "Q 1250 -91 836 529 \n",
       "Q 422 1150 422 2328 \n",
       "Q 422 3509 836 4129 \n",
       "Q 1250 4750 2034 4750 \n",
       "z\n",
       "\" transform=\"scale(0.015625)\"/>\n",
       "       </defs>\n",
       "       <use xlink:href=\"#DejaVuSans-30\"/>\n",
       "      </g>\n",
       "     </g>\n",
       "    </g>\n",
       "    <g id=\"xtick_2\">\n",
       "     <g id=\"line2d_3\">\n",
       "      <path d=\"M 148.529683 318.878125 \n",
       "L 148.529683 22.318125 \n",
       "\" clip-path=\"url(#p9215c2db52)\" style=\"fill: none; stroke: #b0b0b0; stroke-width: 0.8; stroke-linecap: square\"/>\n",
       "     </g>\n",
       "     <g id=\"line2d_4\">\n",
       "      <g>\n",
       "       <use xlink:href=\"#m6fb3d6cdcc\" x=\"148.529683\" y=\"318.878125\" style=\"stroke: #000000; stroke-width: 0.8\"/>\n",
       "      </g>\n",
       "     </g>\n",
       "     <g id=\"text_2\">\n",
       "      <!-- 2 -->\n",
       "      <g transform=\"translate(145.348433 333.476562) scale(0.1 -0.1)\">\n",
       "       <defs>\n",
       "        <path id=\"DejaVuSans-32\" d=\"M 1228 531 \n",
       "L 3431 531 \n",
       "L 3431 0 \n",
       "L 469 0 \n",
       "L 469 531 \n",
       "Q 828 903 1448 1529 \n",
       "Q 2069 2156 2228 2338 \n",
       "Q 2531 2678 2651 2914 \n",
       "Q 2772 3150 2772 3378 \n",
       "Q 2772 3750 2511 3984 \n",
       "Q 2250 4219 1831 4219 \n",
       "Q 1534 4219 1204 4116 \n",
       "Q 875 4013 500 3803 \n",
       "L 500 4441 \n",
       "Q 881 4594 1212 4672 \n",
       "Q 1544 4750 1819 4750 \n",
       "Q 2544 4750 2975 4387 \n",
       "Q 3406 4025 3406 3419 \n",
       "Q 3406 3131 3298 2873 \n",
       "Q 3191 2616 2906 2266 \n",
       "Q 2828 2175 2409 1742 \n",
       "Q 1991 1309 1228 531 \n",
       "z\n",
       "\" transform=\"scale(0.015625)\"/>\n",
       "       </defs>\n",
       "       <use xlink:href=\"#DejaVuSans-32\"/>\n",
       "      </g>\n",
       "     </g>\n",
       "    </g>\n",
       "    <g id=\"xtick_3\">\n",
       "     <g id=\"line2d_5\">\n",
       "      <path d=\"M 236.25306 318.878125 \n",
       "L 236.25306 22.318125 \n",
       "\" clip-path=\"url(#p9215c2db52)\" style=\"fill: none; stroke: #b0b0b0; stroke-width: 0.8; stroke-linecap: square\"/>\n",
       "     </g>\n",
       "     <g id=\"line2d_6\">\n",
       "      <g>\n",
       "       <use xlink:href=\"#m6fb3d6cdcc\" x=\"236.25306\" y=\"318.878125\" style=\"stroke: #000000; stroke-width: 0.8\"/>\n",
       "      </g>\n",
       "     </g>\n",
       "     <g id=\"text_3\">\n",
       "      <!-- 4 -->\n",
       "      <g transform=\"translate(233.07181 333.476562) scale(0.1 -0.1)\">\n",
       "       <defs>\n",
       "        <path id=\"DejaVuSans-34\" d=\"M 2419 4116 \n",
       "L 825 1625 \n",
       "L 2419 1625 \n",
       "L 2419 4116 \n",
       "z\n",
       "M 2253 4666 \n",
       "L 3047 4666 \n",
       "L 3047 1625 \n",
       "L 3713 1625 \n",
       "L 3713 1100 \n",
       "L 3047 1100 \n",
       "L 3047 0 \n",
       "L 2419 0 \n",
       "L 2419 1100 \n",
       "L 313 1100 \n",
       "L 313 1709 \n",
       "L 2253 4666 \n",
       "z\n",
       "\" transform=\"scale(0.015625)\"/>\n",
       "       </defs>\n",
       "       <use xlink:href=\"#DejaVuSans-34\"/>\n",
       "      </g>\n",
       "     </g>\n",
       "    </g>\n",
       "    <g id=\"xtick_4\">\n",
       "     <g id=\"line2d_7\">\n",
       "      <path d=\"M 323.976437 318.878125 \n",
       "L 323.976437 22.318125 \n",
       "\" clip-path=\"url(#p9215c2db52)\" style=\"fill: none; stroke: #b0b0b0; stroke-width: 0.8; stroke-linecap: square\"/>\n",
       "     </g>\n",
       "     <g id=\"line2d_8\">\n",
       "      <g>\n",
       "       <use xlink:href=\"#m6fb3d6cdcc\" x=\"323.976437\" y=\"318.878125\" style=\"stroke: #000000; stroke-width: 0.8\"/>\n",
       "      </g>\n",
       "     </g>\n",
       "     <g id=\"text_4\">\n",
       "      <!-- 6 -->\n",
       "      <g transform=\"translate(320.795187 333.476562) scale(0.1 -0.1)\">\n",
       "       <defs>\n",
       "        <path id=\"DejaVuSans-36\" d=\"M 2113 2584 \n",
       "Q 1688 2584 1439 2293 \n",
       "Q 1191 2003 1191 1497 \n",
       "Q 1191 994 1439 701 \n",
       "Q 1688 409 2113 409 \n",
       "Q 2538 409 2786 701 \n",
       "Q 3034 994 3034 1497 \n",
       "Q 3034 2003 2786 2293 \n",
       "Q 2538 2584 2113 2584 \n",
       "z\n",
       "M 3366 4563 \n",
       "L 3366 3988 \n",
       "Q 3128 4100 2886 4159 \n",
       "Q 2644 4219 2406 4219 \n",
       "Q 1781 4219 1451 3797 \n",
       "Q 1122 3375 1075 2522 \n",
       "Q 1259 2794 1537 2939 \n",
       "Q 1816 3084 2150 3084 \n",
       "Q 2853 3084 3261 2657 \n",
       "Q 3669 2231 3669 1497 \n",
       "Q 3669 778 3244 343 \n",
       "Q 2819 -91 2113 -91 \n",
       "Q 1303 -91 875 529 \n",
       "Q 447 1150 447 2328 \n",
       "Q 447 3434 972 4092 \n",
       "Q 1497 4750 2381 4750 \n",
       "Q 2619 4750 2861 4703 \n",
       "Q 3103 4656 3366 4563 \n",
       "z\n",
       "\" transform=\"scale(0.015625)\"/>\n",
       "       </defs>\n",
       "       <use xlink:href=\"#DejaVuSans-36\"/>\n",
       "      </g>\n",
       "     </g>\n",
       "    </g>\n",
       "    <g id=\"xtick_5\">\n",
       "     <g id=\"line2d_9\">\n",
       "      <path d=\"M 411.699813 318.878125 \n",
       "L 411.699813 22.318125 \n",
       "\" clip-path=\"url(#p9215c2db52)\" style=\"fill: none; stroke: #b0b0b0; stroke-width: 0.8; stroke-linecap: square\"/>\n",
       "     </g>\n",
       "     <g id=\"line2d_10\">\n",
       "      <g>\n",
       "       <use xlink:href=\"#m6fb3d6cdcc\" x=\"411.699813\" y=\"318.878125\" style=\"stroke: #000000; stroke-width: 0.8\"/>\n",
       "      </g>\n",
       "     </g>\n",
       "     <g id=\"text_5\">\n",
       "      <!-- 8 -->\n",
       "      <g transform=\"translate(408.518563 333.476562) scale(0.1 -0.1)\">\n",
       "       <defs>\n",
       "        <path id=\"DejaVuSans-38\" d=\"M 2034 2216 \n",
       "Q 1584 2216 1326 1975 \n",
       "Q 1069 1734 1069 1313 \n",
       "Q 1069 891 1326 650 \n",
       "Q 1584 409 2034 409 \n",
       "Q 2484 409 2743 651 \n",
       "Q 3003 894 3003 1313 \n",
       "Q 3003 1734 2745 1975 \n",
       "Q 2488 2216 2034 2216 \n",
       "z\n",
       "M 1403 2484 \n",
       "Q 997 2584 770 2862 \n",
       "Q 544 3141 544 3541 \n",
       "Q 544 4100 942 4425 \n",
       "Q 1341 4750 2034 4750 \n",
       "Q 2731 4750 3128 4425 \n",
       "Q 3525 4100 3525 3541 \n",
       "Q 3525 3141 3298 2862 \n",
       "Q 3072 2584 2669 2484 \n",
       "Q 3125 2378 3379 2068 \n",
       "Q 3634 1759 3634 1313 \n",
       "Q 3634 634 3220 271 \n",
       "Q 2806 -91 2034 -91 \n",
       "Q 1263 -91 848 271 \n",
       "Q 434 634 434 1313 \n",
       "Q 434 1759 690 2068 \n",
       "Q 947 2378 1403 2484 \n",
       "z\n",
       "M 1172 3481 \n",
       "Q 1172 3119 1398 2916 \n",
       "Q 1625 2713 2034 2713 \n",
       "Q 2441 2713 2670 2916 \n",
       "Q 2900 3119 2900 3481 \n",
       "Q 2900 3844 2670 4047 \n",
       "Q 2441 4250 2034 4250 \n",
       "Q 1625 4250 1398 4047 \n",
       "Q 1172 3844 1172 3481 \n",
       "z\n",
       "\" transform=\"scale(0.015625)\"/>\n",
       "       </defs>\n",
       "       <use xlink:href=\"#DejaVuSans-38\"/>\n",
       "      </g>\n",
       "     </g>\n",
       "    </g>\n",
       "    <g id=\"xtick_6\">\n",
       "     <g id=\"line2d_11\">\n",
       "      <path d=\"M 499.42319 318.878125 \n",
       "L 499.42319 22.318125 \n",
       "\" clip-path=\"url(#p9215c2db52)\" style=\"fill: none; stroke: #b0b0b0; stroke-width: 0.8; stroke-linecap: square\"/>\n",
       "     </g>\n",
       "     <g id=\"line2d_12\">\n",
       "      <g>\n",
       "       <use xlink:href=\"#m6fb3d6cdcc\" x=\"499.42319\" y=\"318.878125\" style=\"stroke: #000000; stroke-width: 0.8\"/>\n",
       "      </g>\n",
       "     </g>\n",
       "     <g id=\"text_6\">\n",
       "      <!-- 10 -->\n",
       "      <g transform=\"translate(493.06069 333.476562) scale(0.1 -0.1)\">\n",
       "       <defs>\n",
       "        <path id=\"DejaVuSans-31\" d=\"M 794 531 \n",
       "L 1825 531 \n",
       "L 1825 4091 \n",
       "L 703 3866 \n",
       "L 703 4441 \n",
       "L 1819 4666 \n",
       "L 2450 4666 \n",
       "L 2450 531 \n",
       "L 3481 531 \n",
       "L 3481 0 \n",
       "L 794 0 \n",
       "L 794 531 \n",
       "z\n",
       "\" transform=\"scale(0.015625)\"/>\n",
       "       </defs>\n",
       "       <use xlink:href=\"#DejaVuSans-31\"/>\n",
       "       <use xlink:href=\"#DejaVuSans-30\" x=\"63.623047\"/>\n",
       "      </g>\n",
       "     </g>\n",
       "    </g>\n",
       "    <g id=\"xtick_7\">\n",
       "     <g id=\"line2d_13\">\n",
       "      <path d=\"M 587.146567 318.878125 \n",
       "L 587.146567 22.318125 \n",
       "\" clip-path=\"url(#p9215c2db52)\" style=\"fill: none; stroke: #b0b0b0; stroke-width: 0.8; stroke-linecap: square\"/>\n",
       "     </g>\n",
       "     <g id=\"line2d_14\">\n",
       "      <g>\n",
       "       <use xlink:href=\"#m6fb3d6cdcc\" x=\"587.146567\" y=\"318.878125\" style=\"stroke: #000000; stroke-width: 0.8\"/>\n",
       "      </g>\n",
       "     </g>\n",
       "     <g id=\"text_7\">\n",
       "      <!-- 12 -->\n",
       "      <g transform=\"translate(580.784067 333.476562) scale(0.1 -0.1)\">\n",
       "       <use xlink:href=\"#DejaVuSans-31\"/>\n",
       "       <use xlink:href=\"#DejaVuSans-32\" x=\"63.623047\"/>\n",
       "      </g>\n",
       "     </g>\n",
       "    </g>\n",
       "    <g id=\"xtick_8\">\n",
       "     <g id=\"line2d_15\">\n",
       "      <path d=\"M 674.869943 318.878125 \n",
       "L 674.869943 22.318125 \n",
       "\" clip-path=\"url(#p9215c2db52)\" style=\"fill: none; stroke: #b0b0b0; stroke-width: 0.8; stroke-linecap: square\"/>\n",
       "     </g>\n",
       "     <g id=\"line2d_16\">\n",
       "      <g>\n",
       "       <use xlink:href=\"#m6fb3d6cdcc\" x=\"674.869943\" y=\"318.878125\" style=\"stroke: #000000; stroke-width: 0.8\"/>\n",
       "      </g>\n",
       "     </g>\n",
       "     <g id=\"text_8\">\n",
       "      <!-- 14 -->\n",
       "      <g transform=\"translate(668.507443 333.476562) scale(0.1 -0.1)\">\n",
       "       <use xlink:href=\"#DejaVuSans-31\"/>\n",
       "       <use xlink:href=\"#DejaVuSans-34\" x=\"63.623047\"/>\n",
       "      </g>\n",
       "     </g>\n",
       "    </g>\n",
       "    <g id=\"text_9\">\n",
       "     <!-- Epoch -->\n",
       "     <g transform=\"translate(352.527187 347.154687) scale(0.1 -0.1)\">\n",
       "      <defs>\n",
       "       <path id=\"DejaVuSans-45\" d=\"M 628 4666 \n",
       "L 3578 4666 \n",
       "L 3578 4134 \n",
       "L 1259 4134 \n",
       "L 1259 2753 \n",
       "L 3481 2753 \n",
       "L 3481 2222 \n",
       "L 1259 2222 \n",
       "L 1259 531 \n",
       "L 3634 531 \n",
       "L 3634 0 \n",
       "L 628 0 \n",
       "L 628 4666 \n",
       "z\n",
       "\" transform=\"scale(0.015625)\"/>\n",
       "       <path id=\"DejaVuSans-70\" d=\"M 1159 525 \n",
       "L 1159 -1331 \n",
       "L 581 -1331 \n",
       "L 581 3500 \n",
       "L 1159 3500 \n",
       "L 1159 2969 \n",
       "Q 1341 3281 1617 3432 \n",
       "Q 1894 3584 2278 3584 \n",
       "Q 2916 3584 3314 3078 \n",
       "Q 3713 2572 3713 1747 \n",
       "Q 3713 922 3314 415 \n",
       "Q 2916 -91 2278 -91 \n",
       "Q 1894 -91 1617 61 \n",
       "Q 1341 213 1159 525 \n",
       "z\n",
       "M 3116 1747 \n",
       "Q 3116 2381 2855 2742 \n",
       "Q 2594 3103 2138 3103 \n",
       "Q 1681 3103 1420 2742 \n",
       "Q 1159 2381 1159 1747 \n",
       "Q 1159 1113 1420 752 \n",
       "Q 1681 391 2138 391 \n",
       "Q 2594 391 2855 752 \n",
       "Q 3116 1113 3116 1747 \n",
       "z\n",
       "\" transform=\"scale(0.015625)\"/>\n",
       "       <path id=\"DejaVuSans-6f\" d=\"M 1959 3097 \n",
       "Q 1497 3097 1228 2736 \n",
       "Q 959 2375 959 1747 \n",
       "Q 959 1119 1226 758 \n",
       "Q 1494 397 1959 397 \n",
       "Q 2419 397 2687 759 \n",
       "Q 2956 1122 2956 1747 \n",
       "Q 2956 2369 2687 2733 \n",
       "Q 2419 3097 1959 3097 \n",
       "z\n",
       "M 1959 3584 \n",
       "Q 2709 3584 3137 3096 \n",
       "Q 3566 2609 3566 1747 \n",
       "Q 3566 888 3137 398 \n",
       "Q 2709 -91 1959 -91 \n",
       "Q 1206 -91 779 398 \n",
       "Q 353 888 353 1747 \n",
       "Q 353 2609 779 3096 \n",
       "Q 1206 3584 1959 3584 \n",
       "z\n",
       "\" transform=\"scale(0.015625)\"/>\n",
       "       <path id=\"DejaVuSans-63\" d=\"M 3122 3366 \n",
       "L 3122 2828 \n",
       "Q 2878 2963 2633 3030 \n",
       "Q 2388 3097 2138 3097 \n",
       "Q 1578 3097 1268 2742 \n",
       "Q 959 2388 959 1747 \n",
       "Q 959 1106 1268 751 \n",
       "Q 1578 397 2138 397 \n",
       "Q 2388 397 2633 464 \n",
       "Q 2878 531 3122 666 \n",
       "L 3122 134 \n",
       "Q 2881 22 2623 -34 \n",
       "Q 2366 -91 2075 -91 \n",
       "Q 1284 -91 818 406 \n",
       "Q 353 903 353 1747 \n",
       "Q 353 2603 823 3093 \n",
       "Q 1294 3584 2113 3584 \n",
       "Q 2378 3584 2631 3529 \n",
       "Q 2884 3475 3122 3366 \n",
       "z\n",
       "\" transform=\"scale(0.015625)\"/>\n",
       "       <path id=\"DejaVuSans-68\" d=\"M 3513 2113 \n",
       "L 3513 0 \n",
       "L 2938 0 \n",
       "L 2938 2094 \n",
       "Q 2938 2591 2744 2837 \n",
       "Q 2550 3084 2163 3084 \n",
       "Q 1697 3084 1428 2787 \n",
       "Q 1159 2491 1159 1978 \n",
       "L 1159 0 \n",
       "L 581 0 \n",
       "L 581 4863 \n",
       "L 1159 4863 \n",
       "L 1159 2956 \n",
       "Q 1366 3272 1645 3428 \n",
       "Q 1925 3584 2291 3584 \n",
       "Q 2894 3584 3203 3211 \n",
       "Q 3513 2838 3513 2113 \n",
       "z\n",
       "\" transform=\"scale(0.015625)\"/>\n",
       "      </defs>\n",
       "      <use xlink:href=\"#DejaVuSans-45\"/>\n",
       "      <use xlink:href=\"#DejaVuSans-70\" x=\"63.183594\"/>\n",
       "      <use xlink:href=\"#DejaVuSans-6f\" x=\"126.660156\"/>\n",
       "      <use xlink:href=\"#DejaVuSans-63\" x=\"187.841797\"/>\n",
       "      <use xlink:href=\"#DejaVuSans-68\" x=\"242.822266\"/>\n",
       "     </g>\n",
       "    </g>\n",
       "   </g>\n",
       "   <g id=\"matplotlib.axis_2\">\n",
       "    <g id=\"ytick_1\">\n",
       "     <g id=\"line2d_17\">\n",
       "      <path d=\"M 30.103125 288.437138 \n",
       "L 705.573125 288.437138 \n",
       "\" clip-path=\"url(#p9215c2db52)\" style=\"fill: none; stroke: #b0b0b0; stroke-width: 0.8; stroke-linecap: square\"/>\n",
       "     </g>\n",
       "     <g id=\"line2d_18\">\n",
       "      <defs>\n",
       "       <path id=\"m206d7242cf\" d=\"M 0 0 \n",
       "L -3.5 0 \n",
       "\" style=\"stroke: #000000; stroke-width: 0.8\"/>\n",
       "      </defs>\n",
       "      <g>\n",
       "       <use xlink:href=\"#m206d7242cf\" x=\"30.103125\" y=\"288.437138\" style=\"stroke: #000000; stroke-width: 0.8\"/>\n",
       "      </g>\n",
       "     </g>\n",
       "     <g id=\"text_10\">\n",
       "      <!-- 0.8 -->\n",
       "      <g transform=\"translate(7.2 292.236357) scale(0.1 -0.1)\">\n",
       "       <defs>\n",
       "        <path id=\"DejaVuSans-2e\" d=\"M 684 794 \n",
       "L 1344 794 \n",
       "L 1344 0 \n",
       "L 684 0 \n",
       "L 684 794 \n",
       "z\n",
       "\" transform=\"scale(0.015625)\"/>\n",
       "       </defs>\n",
       "       <use xlink:href=\"#DejaVuSans-30\"/>\n",
       "       <use xlink:href=\"#DejaVuSans-2e\" x=\"63.623047\"/>\n",
       "       <use xlink:href=\"#DejaVuSans-38\" x=\"95.410156\"/>\n",
       "      </g>\n",
       "     </g>\n",
       "    </g>\n",
       "    <g id=\"ytick_2\">\n",
       "     <g id=\"line2d_19\">\n",
       "      <path d=\"M 30.103125 247.948257 \n",
       "L 705.573125 247.948257 \n",
       "\" clip-path=\"url(#p9215c2db52)\" style=\"fill: none; stroke: #b0b0b0; stroke-width: 0.8; stroke-linecap: square\"/>\n",
       "     </g>\n",
       "     <g id=\"line2d_20\">\n",
       "      <g>\n",
       "       <use xlink:href=\"#m206d7242cf\" x=\"30.103125\" y=\"247.948257\" style=\"stroke: #000000; stroke-width: 0.8\"/>\n",
       "      </g>\n",
       "     </g>\n",
       "     <g id=\"text_11\">\n",
       "      <!-- 1.0 -->\n",
       "      <g transform=\"translate(7.2 251.747476) scale(0.1 -0.1)\">\n",
       "       <use xlink:href=\"#DejaVuSans-31\"/>\n",
       "       <use xlink:href=\"#DejaVuSans-2e\" x=\"63.623047\"/>\n",
       "       <use xlink:href=\"#DejaVuSans-30\" x=\"95.410156\"/>\n",
       "      </g>\n",
       "     </g>\n",
       "    </g>\n",
       "    <g id=\"ytick_3\">\n",
       "     <g id=\"line2d_21\">\n",
       "      <path d=\"M 30.103125 207.459376 \n",
       "L 705.573125 207.459376 \n",
       "\" clip-path=\"url(#p9215c2db52)\" style=\"fill: none; stroke: #b0b0b0; stroke-width: 0.8; stroke-linecap: square\"/>\n",
       "     </g>\n",
       "     <g id=\"line2d_22\">\n",
       "      <g>\n",
       "       <use xlink:href=\"#m206d7242cf\" x=\"30.103125\" y=\"207.459376\" style=\"stroke: #000000; stroke-width: 0.8\"/>\n",
       "      </g>\n",
       "     </g>\n",
       "     <g id=\"text_12\">\n",
       "      <!-- 1.2 -->\n",
       "      <g transform=\"translate(7.2 211.258595) scale(0.1 -0.1)\">\n",
       "       <use xlink:href=\"#DejaVuSans-31\"/>\n",
       "       <use xlink:href=\"#DejaVuSans-2e\" x=\"63.623047\"/>\n",
       "       <use xlink:href=\"#DejaVuSans-32\" x=\"95.410156\"/>\n",
       "      </g>\n",
       "     </g>\n",
       "    </g>\n",
       "    <g id=\"ytick_4\">\n",
       "     <g id=\"line2d_23\">\n",
       "      <path d=\"M 30.103125 166.970495 \n",
       "L 705.573125 166.970495 \n",
       "\" clip-path=\"url(#p9215c2db52)\" style=\"fill: none; stroke: #b0b0b0; stroke-width: 0.8; stroke-linecap: square\"/>\n",
       "     </g>\n",
       "     <g id=\"line2d_24\">\n",
       "      <g>\n",
       "       <use xlink:href=\"#m206d7242cf\" x=\"30.103125\" y=\"166.970495\" style=\"stroke: #000000; stroke-width: 0.8\"/>\n",
       "      </g>\n",
       "     </g>\n",
       "     <g id=\"text_13\">\n",
       "      <!-- 1.4 -->\n",
       "      <g transform=\"translate(7.2 170.769714) scale(0.1 -0.1)\">\n",
       "       <use xlink:href=\"#DejaVuSans-31\"/>\n",
       "       <use xlink:href=\"#DejaVuSans-2e\" x=\"63.623047\"/>\n",
       "       <use xlink:href=\"#DejaVuSans-34\" x=\"95.410156\"/>\n",
       "      </g>\n",
       "     </g>\n",
       "    </g>\n",
       "    <g id=\"ytick_5\">\n",
       "     <g id=\"line2d_25\">\n",
       "      <path d=\"M 30.103125 126.481614 \n",
       "L 705.573125 126.481614 \n",
       "\" clip-path=\"url(#p9215c2db52)\" style=\"fill: none; stroke: #b0b0b0; stroke-width: 0.8; stroke-linecap: square\"/>\n",
       "     </g>\n",
       "     <g id=\"line2d_26\">\n",
       "      <g>\n",
       "       <use xlink:href=\"#m206d7242cf\" x=\"30.103125\" y=\"126.481614\" style=\"stroke: #000000; stroke-width: 0.8\"/>\n",
       "      </g>\n",
       "     </g>\n",
       "     <g id=\"text_14\">\n",
       "      <!-- 1.6 -->\n",
       "      <g transform=\"translate(7.2 130.280833) scale(0.1 -0.1)\">\n",
       "       <use xlink:href=\"#DejaVuSans-31\"/>\n",
       "       <use xlink:href=\"#DejaVuSans-2e\" x=\"63.623047\"/>\n",
       "       <use xlink:href=\"#DejaVuSans-36\" x=\"95.410156\"/>\n",
       "      </g>\n",
       "     </g>\n",
       "    </g>\n",
       "    <g id=\"ytick_6\">\n",
       "     <g id=\"line2d_27\">\n",
       "      <path d=\"M 30.103125 85.992733 \n",
       "L 705.573125 85.992733 \n",
       "\" clip-path=\"url(#p9215c2db52)\" style=\"fill: none; stroke: #b0b0b0; stroke-width: 0.8; stroke-linecap: square\"/>\n",
       "     </g>\n",
       "     <g id=\"line2d_28\">\n",
       "      <g>\n",
       "       <use xlink:href=\"#m206d7242cf\" x=\"30.103125\" y=\"85.992733\" style=\"stroke: #000000; stroke-width: 0.8\"/>\n",
       "      </g>\n",
       "     </g>\n",
       "     <g id=\"text_15\">\n",
       "      <!-- 1.8 -->\n",
       "      <g transform=\"translate(7.2 89.791952) scale(0.1 -0.1)\">\n",
       "       <use xlink:href=\"#DejaVuSans-31\"/>\n",
       "       <use xlink:href=\"#DejaVuSans-2e\" x=\"63.623047\"/>\n",
       "       <use xlink:href=\"#DejaVuSans-38\" x=\"95.410156\"/>\n",
       "      </g>\n",
       "     </g>\n",
       "    </g>\n",
       "    <g id=\"ytick_7\">\n",
       "     <g id=\"line2d_29\">\n",
       "      <path d=\"M 30.103125 45.503852 \n",
       "L 705.573125 45.503852 \n",
       "\" clip-path=\"url(#p9215c2db52)\" style=\"fill: none; stroke: #b0b0b0; stroke-width: 0.8; stroke-linecap: square\"/>\n",
       "     </g>\n",
       "     <g id=\"line2d_30\">\n",
       "      <g>\n",
       "       <use xlink:href=\"#m206d7242cf\" x=\"30.103125\" y=\"45.503852\" style=\"stroke: #000000; stroke-width: 0.8\"/>\n",
       "      </g>\n",
       "     </g>\n",
       "     <g id=\"text_16\">\n",
       "      <!-- 2.0 -->\n",
       "      <g transform=\"translate(7.2 49.303071) scale(0.1 -0.1)\">\n",
       "       <use xlink:href=\"#DejaVuSans-32\"/>\n",
       "       <use xlink:href=\"#DejaVuSans-2e\" x=\"63.623047\"/>\n",
       "       <use xlink:href=\"#DejaVuSans-30\" x=\"95.410156\"/>\n",
       "      </g>\n",
       "     </g>\n",
       "    </g>\n",
       "   </g>\n",
       "   <g id=\"line2d_31\">\n",
       "    <path d=\"M 60.806307 59.320595 \n",
       "L 104.667995 120.525088 \n",
       "L 148.529683 144.249034 \n",
       "L 192.391372 153.79475 \n",
       "L 236.25306 165.671074 \n",
       "L 280.114748 178.013544 \n",
       "L 323.976437 188.361098 \n",
       "L 367.838125 200.278643 \n",
       "L 411.699813 213.678556 \n",
       "L 455.561502 224.721104 \n",
       "L 499.42319 237.942377 \n",
       "L 543.284878 251.62449 \n",
       "L 587.146567 270.146181 \n",
       "L 631.008255 287.729567 \n",
       "L 674.869943 302.519668 \n",
       "\" clip-path=\"url(#p9215c2db52)\" style=\"fill: none; stroke: #000000; stroke-width: 2; stroke-linecap: square\"/>\n",
       "   </g>\n",
       "   <g id=\"line2d_32\">\n",
       "    <path d=\"M 60.806307 51.596105 \n",
       "L 104.667995 115.863936 \n",
       "L 148.529683 141.159962 \n",
       "L 192.391372 152.602424 \n",
       "L 236.25306 165.805879 \n",
       "L 280.114748 177.293482 \n",
       "L 323.976437 187.785898 \n",
       "L 367.838125 197.430253 \n",
       "L 411.699813 212.155742 \n",
       "L 455.561502 222.728569 \n",
       "L 499.42319 237.420558 \n",
       "L 543.284878 250.42695 \n",
       "L 587.146567 269.07781 \n",
       "L 631.008255 288.16559 \n",
       "L 674.869943 304.634851 \n",
       "\" clip-path=\"url(#p9215c2db52)\" style=\"fill: none; stroke: #ff0000; stroke-linecap: square\"/>\n",
       "   </g>\n",
       "   <g id=\"line2d_33\">\n",
       "    <path d=\"M 60.806307 44.569088 \n",
       "L 104.667995 94.796827 \n",
       "L 148.529683 117.424607 \n",
       "L 192.391372 134.093723 \n",
       "L 236.25306 140.512187 \n",
       "L 280.114748 153.109516 \n",
       "L 323.976437 160.86062 \n",
       "L 367.838125 167.469891 \n",
       "L 411.699813 170.10701 \n",
       "L 455.561502 176.685094 \n",
       "L 499.42319 180.531307 \n",
       "L 543.284878 184.854562 \n",
       "L 587.146567 190.349163 \n",
       "L 631.008255 193.188782 \n",
       "L 674.869943 196.426242 \n",
       "\" clip-path=\"url(#p9215c2db52)\" style=\"fill: none; stroke: #0000ff; stroke-linecap: square\"/>\n",
       "   </g>\n",
       "   <g id=\"line2d_34\">\n",
       "    <path d=\"M 60.806307 59.320595 \n",
       "L 104.667995 120.525088 \n",
       "L 148.529683 144.249034 \n",
       "L 192.391372 153.79475 \n",
       "L 236.25306 165.671074 \n",
       "L 280.114748 178.013544 \n",
       "L 323.976437 188.361098 \n",
       "L 367.838125 200.278643 \n",
       "L 411.699813 213.678556 \n",
       "L 455.561502 224.721104 \n",
       "L 499.42319 237.942377 \n",
       "L 543.284878 251.62449 \n",
       "L 587.146567 270.146181 \n",
       "L 631.008255 287.729567 \n",
       "L 674.869943 302.519668 \n",
       "\" clip-path=\"url(#p9215c2db52)\" style=\"fill: none; stroke: #008000; stroke-linecap: square\"/>\n",
       "   </g>\n",
       "   <g id=\"line2d_35\">\n",
       "    <path d=\"M 60.806307 45.177118 \n",
       "L 104.667995 88.139187 \n",
       "L 148.529683 114.767312 \n",
       "L 192.391372 131.047922 \n",
       "L 236.25306 142.076356 \n",
       "L 280.114748 150.880424 \n",
       "L 323.976437 159.351992 \n",
       "L 367.838125 164.982813 \n",
       "L 411.699813 169.529787 \n",
       "L 455.561502 172.208101 \n",
       "L 499.42319 177.498299 \n",
       "L 543.284878 182.054759 \n",
       "L 587.146567 187.537623 \n",
       "L 631.008255 188.781538 \n",
       "L 674.869943 192.895587 \n",
       "\" clip-path=\"url(#p9215c2db52)\" style=\"fill: none; stroke: #ffa500; stroke-linecap: square\"/>\n",
       "   </g>\n",
       "   <g id=\"line2d_36\">\n",
       "    <path d=\"M 60.806307 67.873651 \n",
       "L 104.667995 118.092546 \n",
       "L 148.529683 139.963655 \n",
       "L 192.391372 147.963643 \n",
       "L 236.25306 160.490383 \n",
       "L 280.114748 171.715321 \n",
       "L 323.976437 188.418872 \n",
       "L 367.838125 198.795395 \n",
       "L 411.699813 207.896963 \n",
       "L 455.561502 221.909092 \n",
       "L 499.42319 236.062393 \n",
       "L 543.284878 249.950678 \n",
       "L 587.146567 269.041395 \n",
       "L 631.008255 286.784657 \n",
       "L 674.869943 305.398125 \n",
       "\" clip-path=\"url(#p9215c2db52)\" style=\"fill: none; stroke: #800080; stroke-linecap: square\"/>\n",
       "   </g>\n",
       "   <g id=\"line2d_37\">\n",
       "    <path d=\"M 60.806307 43.968517 \n",
       "L 104.667995 89.500178 \n",
       "L 148.529683 116.445679 \n",
       "L 192.391372 130.962976 \n",
       "L 236.25306 137.395341 \n",
       "L 280.114748 148.878531 \n",
       "L 323.976437 154.97103 \n",
       "L 367.838125 159.935405 \n",
       "L 411.699813 165.13472 \n",
       "L 455.561502 167.589803 \n",
       "L 499.42319 172.016037 \n",
       "L 543.284878 172.83781 \n",
       "L 587.146567 179.994 \n",
       "L 631.008255 179.997398 \n",
       "L 674.869943 186.252204 \n",
       "\" clip-path=\"url(#p9215c2db52)\" style=\"fill: none; stroke: #00ffff; stroke-linecap: square\"/>\n",
       "   </g>\n",
       "   <g id=\"line2d_38\">\n",
       "    <path d=\"M 60.806307 58.526611 \n",
       "L 104.667995 111.282052 \n",
       "L 148.529683 128.158864 \n",
       "L 192.391372 130.580754 \n",
       "L 236.25306 133.938861 \n",
       "L 280.114748 132.865271 \n",
       "L 323.976437 135.590472 \n",
       "L 367.838125 129.25189 \n",
       "L 411.699813 125.194679 \n",
       "L 455.561502 116.944521 \n",
       "L 499.42319 107.145974 \n",
       "L 543.284878 95.157419 \n",
       "L 587.146567 71.178898 \n",
       "L 631.008255 54.12342 \n",
       "L 674.869943 35.798125 \n",
       "\" clip-path=\"url(#p9215c2db52)\" style=\"fill: none; stroke-dasharray: 7.4,3.2; stroke-dashoffset: 0; stroke: #000000; stroke-width: 2\"/>\n",
       "   </g>\n",
       "   <g id=\"line2d_39\">\n",
       "    <path d=\"M 60.806307 50.114178 \n",
       "L 104.667995 107.986513 \n",
       "L 148.529683 125.286675 \n",
       "L 192.391372 130.257304 \n",
       "L 236.25306 134.152232 \n",
       "L 280.114748 132.011638 \n",
       "L 323.976437 134.655926 \n",
       "L 367.838125 127.028612 \n",
       "L 411.699813 124.882264 \n",
       "L 455.561502 119.462607 \n",
       "L 499.42319 104.287702 \n",
       "L 543.284878 94.097495 \n",
       "L 587.146567 72.466846 \n",
       "L 631.008255 58.606408 \n",
       "L 674.869943 37.269805 \n",
       "\" clip-path=\"url(#p9215c2db52)\" style=\"fill: none; stroke-dasharray: 3.7,1.6; stroke-dashoffset: 0; stroke: #ff0000\"/>\n",
       "   </g>\n",
       "   <g id=\"line2d_40\">\n",
       "    <path d=\"M 60.806307 44.223073 \n",
       "L 104.667995 91.226873 \n",
       "L 148.529683 110.059615 \n",
       "L 192.391372 124.547198 \n",
       "L 236.25306 127.237826 \n",
       "L 280.114748 134.609528 \n",
       "L 323.976437 139.419459 \n",
       "L 367.838125 142.732844 \n",
       "L 411.699813 141.425104 \n",
       "L 455.561502 144.234187 \n",
       "L 499.42319 145.793119 \n",
       "L 543.284878 146.177361 \n",
       "L 587.146567 146.580715 \n",
       "L 631.008255 144.066725 \n",
       "L 674.869943 143.909851 \n",
       "\" clip-path=\"url(#p9215c2db52)\" style=\"fill: none; stroke-dasharray: 3.7,1.6; stroke-dashoffset: 0; stroke: #0000ff\"/>\n",
       "   </g>\n",
       "   <g id=\"line2d_41\">\n",
       "    <path d=\"M 60.806307 58.526611 \n",
       "L 104.667995 111.282052 \n",
       "L 148.529683 128.158864 \n",
       "L 192.391372 130.580754 \n",
       "L 236.25306 133.938861 \n",
       "L 280.114748 132.865271 \n",
       "L 323.976437 135.590472 \n",
       "L 367.838125 129.25189 \n",
       "L 411.699813 125.194679 \n",
       "L 455.561502 116.944521 \n",
       "L 499.42319 107.145974 \n",
       "L 543.284878 95.157419 \n",
       "L 587.146567 71.178898 \n",
       "L 631.008255 54.12342 \n",
       "L 674.869943 35.798125 \n",
       "\" clip-path=\"url(#p9215c2db52)\" style=\"fill: none; stroke-dasharray: 3.7,1.6; stroke-dashoffset: 0; stroke: #008000\"/>\n",
       "   </g>\n",
       "   <g id=\"line2d_42\">\n",
       "    <path d=\"M 60.806307 44.899661 \n",
       "L 104.667995 84.106349 \n",
       "L 148.529683 108.043743 \n",
       "L 192.391372 121.842619 \n",
       "L 236.25306 129.904372 \n",
       "L 280.114748 132.751971 \n",
       "L 323.976437 139.498309 \n",
       "L 367.838125 142.190633 \n",
       "L 411.699813 142.150444 \n",
       "L 455.561502 142.331005 \n",
       "L 499.42319 145.22481 \n",
       "L 543.284878 145.331903 \n",
       "L 587.146567 145.761784 \n",
       "L 631.008255 142.350463 \n",
       "L 674.869943 142.050114 \n",
       "\" clip-path=\"url(#p9215c2db52)\" style=\"fill: none; stroke-dasharray: 3.7,1.6; stroke-dashoffset: 0; stroke: #ffa500\"/>\n",
       "   </g>\n",
       "   <g id=\"line2d_43\">\n",
       "    <path d=\"M 60.806307 65.883622 \n",
       "L 104.667995 109.006687 \n",
       "L 148.529683 124.029487 \n",
       "L 192.391372 129.066664 \n",
       "L 236.25306 128.261486 \n",
       "L 280.114748 134.862665 \n",
       "L 323.976437 134.259661 \n",
       "L 367.838125 132.085963 \n",
       "L 411.699813 127.13422 \n",
       "L 455.561502 117.469848 \n",
       "L 499.42319 107.518367 \n",
       "L 543.284878 95.974009 \n",
       "L 587.146567 73.931586 \n",
       "L 631.008255 54.062091 \n",
       "L 674.869943 37.010586 \n",
       "\" clip-path=\"url(#p9215c2db52)\" style=\"fill: none; stroke-dasharray: 3.7,1.6; stroke-dashoffset: 0; stroke: #800080\"/>\n",
       "   </g>\n",
       "   <g id=\"line2d_44\">\n",
       "    <path d=\"M 60.806307 44.028636 \n",
       "L 104.667995 86.919854 \n",
       "L 148.529683 108.923745 \n",
       "L 192.391372 120.129181 \n",
       "L 236.25306 123.782171 \n",
       "L 280.114748 132.982026 \n",
       "L 323.976437 135.733604 \n",
       "L 367.838125 137.863062 \n",
       "L 411.699813 139.365206 \n",
       "L 455.561502 138.863737 \n",
       "L 499.42319 141.471592 \n",
       "L 543.284878 141.181724 \n",
       "L 587.146567 141.264788 \n",
       "L 631.008255 138.370719 \n",
       "L 674.869943 144.230201 \n",
       "\" clip-path=\"url(#p9215c2db52)\" style=\"fill: none; stroke-dasharray: 3.7,1.6; stroke-dashoffset: 0; stroke: #00ffff\"/>\n",
       "   </g>\n",
       "   <g id=\"patch_3\">\n",
       "    <path d=\"M 30.103125 318.878125 \n",
       "L 30.103125 22.318125 \n",
       "\" style=\"fill: none; stroke: #000000; stroke-width: 0.8; stroke-linejoin: miter; stroke-linecap: square\"/>\n",
       "   </g>\n",
       "   <g id=\"patch_4\">\n",
       "    <path d=\"M 705.573125 318.878125 \n",
       "L 705.573125 22.318125 \n",
       "\" style=\"fill: none; stroke: #000000; stroke-width: 0.8; stroke-linejoin: miter; stroke-linecap: square\"/>\n",
       "   </g>\n",
       "   <g id=\"patch_5\">\n",
       "    <path d=\"M 30.103125 318.878125 \n",
       "L 705.573125 318.878125 \n",
       "\" style=\"fill: none; stroke: #000000; stroke-width: 0.8; stroke-linejoin: miter; stroke-linecap: square\"/>\n",
       "   </g>\n",
       "   <g id=\"patch_6\">\n",
       "    <path d=\"M 30.103125 22.318125 \n",
       "L 705.573125 22.318125 \n",
       "\" style=\"fill: none; stroke: #000000; stroke-width: 0.8; stroke-linejoin: miter; stroke-linecap: square\"/>\n",
       "   </g>\n",
       "   <g id=\"text_17\">\n",
       "    <!-- CrossEntropy Loss -->\n",
       "    <g transform=\"translate(313.017812 16.318125) scale(0.12 -0.12)\">\n",
       "     <defs>\n",
       "      <path id=\"DejaVuSans-43\" d=\"M 4122 4306 \n",
       "L 4122 3641 \n",
       "Q 3803 3938 3442 4084 \n",
       "Q 3081 4231 2675 4231 \n",
       "Q 1875 4231 1450 3742 \n",
       "Q 1025 3253 1025 2328 \n",
       "Q 1025 1406 1450 917 \n",
       "Q 1875 428 2675 428 \n",
       "Q 3081 428 3442 575 \n",
       "Q 3803 722 4122 1019 \n",
       "L 4122 359 \n",
       "Q 3791 134 3420 21 \n",
       "Q 3050 -91 2638 -91 \n",
       "Q 1578 -91 968 557 \n",
       "Q 359 1206 359 2328 \n",
       "Q 359 3453 968 4101 \n",
       "Q 1578 4750 2638 4750 \n",
       "Q 3056 4750 3426 4639 \n",
       "Q 3797 4528 4122 4306 \n",
       "z\n",
       "\" transform=\"scale(0.015625)\"/>\n",
       "      <path id=\"DejaVuSans-72\" d=\"M 2631 2963 \n",
       "Q 2534 3019 2420 3045 \n",
       "Q 2306 3072 2169 3072 \n",
       "Q 1681 3072 1420 2755 \n",
       "Q 1159 2438 1159 1844 \n",
       "L 1159 0 \n",
       "L 581 0 \n",
       "L 581 3500 \n",
       "L 1159 3500 \n",
       "L 1159 2956 \n",
       "Q 1341 3275 1631 3429 \n",
       "Q 1922 3584 2338 3584 \n",
       "Q 2397 3584 2469 3576 \n",
       "Q 2541 3569 2628 3553 \n",
       "L 2631 2963 \n",
       "z\n",
       "\" transform=\"scale(0.015625)\"/>\n",
       "      <path id=\"DejaVuSans-73\" d=\"M 2834 3397 \n",
       "L 2834 2853 \n",
       "Q 2591 2978 2328 3040 \n",
       "Q 2066 3103 1784 3103 \n",
       "Q 1356 3103 1142 2972 \n",
       "Q 928 2841 928 2578 \n",
       "Q 928 2378 1081 2264 \n",
       "Q 1234 2150 1697 2047 \n",
       "L 1894 2003 \n",
       "Q 2506 1872 2764 1633 \n",
       "Q 3022 1394 3022 966 \n",
       "Q 3022 478 2636 193 \n",
       "Q 2250 -91 1575 -91 \n",
       "Q 1294 -91 989 -36 \n",
       "Q 684 19 347 128 \n",
       "L 347 722 \n",
       "Q 666 556 975 473 \n",
       "Q 1284 391 1588 391 \n",
       "Q 1994 391 2212 530 \n",
       "Q 2431 669 2431 922 \n",
       "Q 2431 1156 2273 1281 \n",
       "Q 2116 1406 1581 1522 \n",
       "L 1381 1569 \n",
       "Q 847 1681 609 1914 \n",
       "Q 372 2147 372 2553 \n",
       "Q 372 3047 722 3315 \n",
       "Q 1072 3584 1716 3584 \n",
       "Q 2034 3584 2315 3537 \n",
       "Q 2597 3491 2834 3397 \n",
       "z\n",
       "\" transform=\"scale(0.015625)\"/>\n",
       "      <path id=\"DejaVuSans-6e\" d=\"M 3513 2113 \n",
       "L 3513 0 \n",
       "L 2938 0 \n",
       "L 2938 2094 \n",
       "Q 2938 2591 2744 2837 \n",
       "Q 2550 3084 2163 3084 \n",
       "Q 1697 3084 1428 2787 \n",
       "Q 1159 2491 1159 1978 \n",
       "L 1159 0 \n",
       "L 581 0 \n",
       "L 581 3500 \n",
       "L 1159 3500 \n",
       "L 1159 2956 \n",
       "Q 1366 3272 1645 3428 \n",
       "Q 1925 3584 2291 3584 \n",
       "Q 2894 3584 3203 3211 \n",
       "Q 3513 2838 3513 2113 \n",
       "z\n",
       "\" transform=\"scale(0.015625)\"/>\n",
       "      <path id=\"DejaVuSans-74\" d=\"M 1172 4494 \n",
       "L 1172 3500 \n",
       "L 2356 3500 \n",
       "L 2356 3053 \n",
       "L 1172 3053 \n",
       "L 1172 1153 \n",
       "Q 1172 725 1289 603 \n",
       "Q 1406 481 1766 481 \n",
       "L 2356 481 \n",
       "L 2356 0 \n",
       "L 1766 0 \n",
       "Q 1100 0 847 248 \n",
       "Q 594 497 594 1153 \n",
       "L 594 3053 \n",
       "L 172 3053 \n",
       "L 172 3500 \n",
       "L 594 3500 \n",
       "L 594 4494 \n",
       "L 1172 4494 \n",
       "z\n",
       "\" transform=\"scale(0.015625)\"/>\n",
       "      <path id=\"DejaVuSans-79\" d=\"M 2059 -325 \n",
       "Q 1816 -950 1584 -1140 \n",
       "Q 1353 -1331 966 -1331 \n",
       "L 506 -1331 \n",
       "L 506 -850 \n",
       "L 844 -850 \n",
       "Q 1081 -850 1212 -737 \n",
       "Q 1344 -625 1503 -206 \n",
       "L 1606 56 \n",
       "L 191 3500 \n",
       "L 800 3500 \n",
       "L 1894 763 \n",
       "L 2988 3500 \n",
       "L 3597 3500 \n",
       "L 2059 -325 \n",
       "z\n",
       "\" transform=\"scale(0.015625)\"/>\n",
       "      <path id=\"DejaVuSans-20\" transform=\"scale(0.015625)\"/>\n",
       "      <path id=\"DejaVuSans-4c\" d=\"M 628 4666 \n",
       "L 1259 4666 \n",
       "L 1259 531 \n",
       "L 3531 531 \n",
       "L 3531 0 \n",
       "L 628 0 \n",
       "L 628 4666 \n",
       "z\n",
       "\" transform=\"scale(0.015625)\"/>\n",
       "     </defs>\n",
       "     <use xlink:href=\"#DejaVuSans-43\"/>\n",
       "     <use xlink:href=\"#DejaVuSans-72\" x=\"69.824219\"/>\n",
       "     <use xlink:href=\"#DejaVuSans-6f\" x=\"108.6875\"/>\n",
       "     <use xlink:href=\"#DejaVuSans-73\" x=\"169.869141\"/>\n",
       "     <use xlink:href=\"#DejaVuSans-73\" x=\"221.96875\"/>\n",
       "     <use xlink:href=\"#DejaVuSans-45\" x=\"274.068359\"/>\n",
       "     <use xlink:href=\"#DejaVuSans-6e\" x=\"337.251953\"/>\n",
       "     <use xlink:href=\"#DejaVuSans-74\" x=\"400.630859\"/>\n",
       "     <use xlink:href=\"#DejaVuSans-72\" x=\"439.839844\"/>\n",
       "     <use xlink:href=\"#DejaVuSans-6f\" x=\"478.703125\"/>\n",
       "     <use xlink:href=\"#DejaVuSans-70\" x=\"539.884766\"/>\n",
       "     <use xlink:href=\"#DejaVuSans-79\" x=\"603.361328\"/>\n",
       "     <use xlink:href=\"#DejaVuSans-20\" x=\"662.541016\"/>\n",
       "     <use xlink:href=\"#DejaVuSans-4c\" x=\"694.328125\"/>\n",
       "     <use xlink:href=\"#DejaVuSans-6f\" x=\"748.291016\"/>\n",
       "     <use xlink:href=\"#DejaVuSans-73\" x=\"809.472656\"/>\n",
       "     <use xlink:href=\"#DejaVuSans-73\" x=\"861.572266\"/>\n",
       "    </g>\n",
       "   </g>\n",
       "   <g id=\"legend_1\">\n",
       "    <g id=\"patch_7\">\n",
       "     <path d=\"M 37.103125 313.878125 \n",
       "L 160.320313 313.878125 \n",
       "Q 162.320313 313.878125 162.320313 311.878125 \n",
       "L 162.320313 107.384375 \n",
       "Q 162.320313 105.384375 160.320313 105.384375 \n",
       "L 37.103125 105.384375 \n",
       "Q 35.103125 105.384375 35.103125 107.384375 \n",
       "L 35.103125 311.878125 \n",
       "Q 35.103125 313.878125 37.103125 313.878125 \n",
       "z\n",
       "\" style=\"fill: #ffffff; opacity: 0.8; stroke: #cccccc; stroke-linejoin: miter\"/>\n",
       "    </g>\n",
       "    <g id=\"line2d_45\">\n",
       "     <path d=\"M 39.103125 113.482812 \n",
       "L 49.103125 113.482812 \n",
       "L 59.103125 113.482812 \n",
       "\" style=\"fill: none; stroke: #000000; stroke-width: 2; stroke-linecap: square\"/>\n",
       "    </g>\n",
       "    <g id=\"text_18\">\n",
       "     <!-- Base -->\n",
       "     <g transform=\"translate(67.103125 116.982812) scale(0.1 -0.1)\">\n",
       "      <defs>\n",
       "       <path id=\"DejaVuSans-42\" d=\"M 1259 2228 \n",
       "L 1259 519 \n",
       "L 2272 519 \n",
       "Q 2781 519 3026 730 \n",
       "Q 3272 941 3272 1375 \n",
       "Q 3272 1813 3026 2020 \n",
       "Q 2781 2228 2272 2228 \n",
       "L 1259 2228 \n",
       "z\n",
       "M 1259 4147 \n",
       "L 1259 2741 \n",
       "L 2194 2741 \n",
       "Q 2656 2741 2882 2914 \n",
       "Q 3109 3088 3109 3444 \n",
       "Q 3109 3797 2882 3972 \n",
       "Q 2656 4147 2194 4147 \n",
       "L 1259 4147 \n",
       "z\n",
       "M 628 4666 \n",
       "L 2241 4666 \n",
       "Q 2963 4666 3353 4366 \n",
       "Q 3744 4066 3744 3513 \n",
       "Q 3744 3084 3544 2831 \n",
       "Q 3344 2578 2956 2516 \n",
       "Q 3422 2416 3680 2098 \n",
       "Q 3938 1781 3938 1306 \n",
       "Q 3938 681 3513 340 \n",
       "Q 3088 0 2303 0 \n",
       "L 628 0 \n",
       "L 628 4666 \n",
       "z\n",
       "\" transform=\"scale(0.015625)\"/>\n",
       "       <path id=\"DejaVuSans-61\" d=\"M 2194 1759 \n",
       "Q 1497 1759 1228 1600 \n",
       "Q 959 1441 959 1056 \n",
       "Q 959 750 1161 570 \n",
       "Q 1363 391 1709 391 \n",
       "Q 2188 391 2477 730 \n",
       "Q 2766 1069 2766 1631 \n",
       "L 2766 1759 \n",
       "L 2194 1759 \n",
       "z\n",
       "M 3341 1997 \n",
       "L 3341 0 \n",
       "L 2766 0 \n",
       "L 2766 531 \n",
       "Q 2569 213 2275 61 \n",
       "Q 1981 -91 1556 -91 \n",
       "Q 1019 -91 701 211 \n",
       "Q 384 513 384 1019 \n",
       "Q 384 1609 779 1909 \n",
       "Q 1175 2209 1959 2209 \n",
       "L 2766 2209 \n",
       "L 2766 2266 \n",
       "Q 2766 2663 2505 2880 \n",
       "Q 2244 3097 1772 3097 \n",
       "Q 1472 3097 1187 3025 \n",
       "Q 903 2953 641 2809 \n",
       "L 641 3341 \n",
       "Q 956 3463 1253 3523 \n",
       "Q 1550 3584 1831 3584 \n",
       "Q 2591 3584 2966 3190 \n",
       "Q 3341 2797 3341 1997 \n",
       "z\n",
       "\" transform=\"scale(0.015625)\"/>\n",
       "       <path id=\"DejaVuSans-65\" d=\"M 3597 1894 \n",
       "L 3597 1613 \n",
       "L 953 1613 \n",
       "Q 991 1019 1311 708 \n",
       "Q 1631 397 2203 397 \n",
       "Q 2534 397 2845 478 \n",
       "Q 3156 559 3463 722 \n",
       "L 3463 178 \n",
       "Q 3153 47 2828 -22 \n",
       "Q 2503 -91 2169 -91 \n",
       "Q 1331 -91 842 396 \n",
       "Q 353 884 353 1716 \n",
       "Q 353 2575 817 3079 \n",
       "Q 1281 3584 2069 3584 \n",
       "Q 2775 3584 3186 3129 \n",
       "Q 3597 2675 3597 1894 \n",
       "z\n",
       "M 3022 2063 \n",
       "Q 3016 2534 2758 2815 \n",
       "Q 2500 3097 2075 3097 \n",
       "Q 1594 3097 1305 2825 \n",
       "Q 1016 2553 972 2059 \n",
       "L 3022 2063 \n",
       "z\n",
       "\" transform=\"scale(0.015625)\"/>\n",
       "      </defs>\n",
       "      <use xlink:href=\"#DejaVuSans-42\"/>\n",
       "      <use xlink:href=\"#DejaVuSans-61\" x=\"68.603516\"/>\n",
       "      <use xlink:href=\"#DejaVuSans-73\" x=\"129.882812\"/>\n",
       "      <use xlink:href=\"#DejaVuSans-65\" x=\"181.982422\"/>\n",
       "     </g>\n",
       "    </g>\n",
       "    <g id=\"line2d_46\">\n",
       "     <path d=\"M 39.103125 128.160937 \n",
       "L 49.103125 128.160937 \n",
       "L 59.103125 128.160937 \n",
       "\" style=\"fill: none; stroke: #ff0000; stroke-linecap: square\"/>\n",
       "    </g>\n",
       "    <g id=\"text_19\">\n",
       "     <!-- VarDropCheck -->\n",
       "     <g transform=\"translate(67.103125 131.660937) scale(0.1 -0.1)\">\n",
       "      <defs>\n",
       "       <path id=\"DejaVuSans-56\" d=\"M 1831 0 \n",
       "L 50 4666 \n",
       "L 709 4666 \n",
       "L 2188 738 \n",
       "L 3669 4666 \n",
       "L 4325 4666 \n",
       "L 2547 0 \n",
       "L 1831 0 \n",
       "z\n",
       "\" transform=\"scale(0.015625)\"/>\n",
       "       <path id=\"DejaVuSans-44\" d=\"M 1259 4147 \n",
       "L 1259 519 \n",
       "L 2022 519 \n",
       "Q 2988 519 3436 956 \n",
       "Q 3884 1394 3884 2338 \n",
       "Q 3884 3275 3436 3711 \n",
       "Q 2988 4147 2022 4147 \n",
       "L 1259 4147 \n",
       "z\n",
       "M 628 4666 \n",
       "L 1925 4666 \n",
       "Q 3281 4666 3915 4102 \n",
       "Q 4550 3538 4550 2338 \n",
       "Q 4550 1131 3912 565 \n",
       "Q 3275 0 1925 0 \n",
       "L 628 0 \n",
       "L 628 4666 \n",
       "z\n",
       "\" transform=\"scale(0.015625)\"/>\n",
       "       <path id=\"DejaVuSans-6b\" d=\"M 581 4863 \n",
       "L 1159 4863 \n",
       "L 1159 1991 \n",
       "L 2875 3500 \n",
       "L 3609 3500 \n",
       "L 1753 1863 \n",
       "L 3688 0 \n",
       "L 2938 0 \n",
       "L 1159 1709 \n",
       "L 1159 0 \n",
       "L 581 0 \n",
       "L 581 4863 \n",
       "z\n",
       "\" transform=\"scale(0.015625)\"/>\n",
       "      </defs>\n",
       "      <use xlink:href=\"#DejaVuSans-56\"/>\n",
       "      <use xlink:href=\"#DejaVuSans-61\" x=\"60.658203\"/>\n",
       "      <use xlink:href=\"#DejaVuSans-72\" x=\"121.9375\"/>\n",
       "      <use xlink:href=\"#DejaVuSans-44\" x=\"163.050781\"/>\n",
       "      <use xlink:href=\"#DejaVuSans-72\" x=\"240.052734\"/>\n",
       "      <use xlink:href=\"#DejaVuSans-6f\" x=\"278.916016\"/>\n",
       "      <use xlink:href=\"#DejaVuSans-70\" x=\"340.097656\"/>\n",
       "      <use xlink:href=\"#DejaVuSans-43\" x=\"403.574219\"/>\n",
       "      <use xlink:href=\"#DejaVuSans-68\" x=\"473.398438\"/>\n",
       "      <use xlink:href=\"#DejaVuSans-65\" x=\"536.777344\"/>\n",
       "      <use xlink:href=\"#DejaVuSans-63\" x=\"598.300781\"/>\n",
       "      <use xlink:href=\"#DejaVuSans-6b\" x=\"653.28125\"/>\n",
       "     </g>\n",
       "    </g>\n",
       "    <g id=\"line2d_47\">\n",
       "     <path d=\"M 39.103125 142.839062 \n",
       "L 49.103125 142.839062 \n",
       "L 59.103125 142.839062 \n",
       "\" style=\"fill: none; stroke: #0000ff; stroke-linecap: square\"/>\n",
       "    </g>\n",
       "    <g id=\"text_20\">\n",
       "     <!-- VarDrop -->\n",
       "     <g transform=\"translate(67.103125 146.339062) scale(0.1 -0.1)\">\n",
       "      <use xlink:href=\"#DejaVuSans-56\"/>\n",
       "      <use xlink:href=\"#DejaVuSans-61\" x=\"60.658203\"/>\n",
       "      <use xlink:href=\"#DejaVuSans-72\" x=\"121.9375\"/>\n",
       "      <use xlink:href=\"#DejaVuSans-44\" x=\"163.050781\"/>\n",
       "      <use xlink:href=\"#DejaVuSans-72\" x=\"240.052734\"/>\n",
       "      <use xlink:href=\"#DejaVuSans-6f\" x=\"278.916016\"/>\n",
       "      <use xlink:href=\"#DejaVuSans-70\" x=\"340.097656\"/>\n",
       "     </g>\n",
       "    </g>\n",
       "    <g id=\"line2d_48\">\n",
       "     <path d=\"M 39.103125 157.517187 \n",
       "L 49.103125 157.517187 \n",
       "L 59.103125 157.517187 \n",
       "\" style=\"fill: none; stroke: #008000; stroke-linecap: square\"/>\n",
       "    </g>\n",
       "    <g id=\"text_21\">\n",
       "     <!-- FastVarDropCheck -->\n",
       "     <g transform=\"translate(67.103125 161.017187) scale(0.1 -0.1)\">\n",
       "      <defs>\n",
       "       <path id=\"DejaVuSans-46\" d=\"M 628 4666 \n",
       "L 3309 4666 \n",
       "L 3309 4134 \n",
       "L 1259 4134 \n",
       "L 1259 2759 \n",
       "L 3109 2759 \n",
       "L 3109 2228 \n",
       "L 1259 2228 \n",
       "L 1259 0 \n",
       "L 628 0 \n",
       "L 628 4666 \n",
       "z\n",
       "\" transform=\"scale(0.015625)\"/>\n",
       "      </defs>\n",
       "      <use xlink:href=\"#DejaVuSans-46\"/>\n",
       "      <use xlink:href=\"#DejaVuSans-61\" x=\"48.394531\"/>\n",
       "      <use xlink:href=\"#DejaVuSans-73\" x=\"109.673828\"/>\n",
       "      <use xlink:href=\"#DejaVuSans-74\" x=\"161.773438\"/>\n",
       "      <use xlink:href=\"#DejaVuSans-56\" x=\"200.982422\"/>\n",
       "      <use xlink:href=\"#DejaVuSans-61\" x=\"261.640625\"/>\n",
       "      <use xlink:href=\"#DejaVuSans-72\" x=\"322.919922\"/>\n",
       "      <use xlink:href=\"#DejaVuSans-44\" x=\"364.033203\"/>\n",
       "      <use xlink:href=\"#DejaVuSans-72\" x=\"441.035156\"/>\n",
       "      <use xlink:href=\"#DejaVuSans-6f\" x=\"479.898438\"/>\n",
       "      <use xlink:href=\"#DejaVuSans-70\" x=\"541.080078\"/>\n",
       "      <use xlink:href=\"#DejaVuSans-43\" x=\"604.556641\"/>\n",
       "      <use xlink:href=\"#DejaVuSans-68\" x=\"674.380859\"/>\n",
       "      <use xlink:href=\"#DejaVuSans-65\" x=\"737.759766\"/>\n",
       "      <use xlink:href=\"#DejaVuSans-63\" x=\"799.283203\"/>\n",
       "      <use xlink:href=\"#DejaVuSans-6b\" x=\"854.263672\"/>\n",
       "     </g>\n",
       "    </g>\n",
       "    <g id=\"line2d_49\">\n",
       "     <path d=\"M 39.103125 172.195312 \n",
       "L 49.103125 172.195312 \n",
       "L 59.103125 172.195312 \n",
       "\" style=\"fill: none; stroke: #ffa500; stroke-linecap: square\"/>\n",
       "    </g>\n",
       "    <g id=\"text_22\">\n",
       "     <!-- FastVarDrop -->\n",
       "     <g transform=\"translate(67.103125 175.695312) scale(0.1 -0.1)\">\n",
       "      <use xlink:href=\"#DejaVuSans-46\"/>\n",
       "      <use xlink:href=\"#DejaVuSans-61\" x=\"48.394531\"/>\n",
       "      <use xlink:href=\"#DejaVuSans-73\" x=\"109.673828\"/>\n",
       "      <use xlink:href=\"#DejaVuSans-74\" x=\"161.773438\"/>\n",
       "      <use xlink:href=\"#DejaVuSans-56\" x=\"200.982422\"/>\n",
       "      <use xlink:href=\"#DejaVuSans-61\" x=\"261.640625\"/>\n",
       "      <use xlink:href=\"#DejaVuSans-72\" x=\"322.919922\"/>\n",
       "      <use xlink:href=\"#DejaVuSans-44\" x=\"364.033203\"/>\n",
       "      <use xlink:href=\"#DejaVuSans-72\" x=\"441.035156\"/>\n",
       "      <use xlink:href=\"#DejaVuSans-6f\" x=\"479.898438\"/>\n",
       "      <use xlink:href=\"#DejaVuSans-70\" x=\"541.080078\"/>\n",
       "     </g>\n",
       "    </g>\n",
       "    <g id=\"line2d_50\">\n",
       "     <path d=\"M 39.103125 186.873437 \n",
       "L 49.103125 186.873437 \n",
       "L 59.103125 186.873437 \n",
       "\" style=\"fill: none; stroke: #800080; stroke-linecap: square\"/>\n",
       "    </g>\n",
       "    <g id=\"text_23\">\n",
       "     <!-- HandmadeCheck -->\n",
       "     <g transform=\"translate(67.103125 190.373437) scale(0.1 -0.1)\">\n",
       "      <defs>\n",
       "       <path id=\"DejaVuSans-48\" d=\"M 628 4666 \n",
       "L 1259 4666 \n",
       "L 1259 2753 \n",
       "L 3553 2753 \n",
       "L 3553 4666 \n",
       "L 4184 4666 \n",
       "L 4184 0 \n",
       "L 3553 0 \n",
       "L 3553 2222 \n",
       "L 1259 2222 \n",
       "L 1259 0 \n",
       "L 628 0 \n",
       "L 628 4666 \n",
       "z\n",
       "\" transform=\"scale(0.015625)\"/>\n",
       "       <path id=\"DejaVuSans-64\" d=\"M 2906 2969 \n",
       "L 2906 4863 \n",
       "L 3481 4863 \n",
       "L 3481 0 \n",
       "L 2906 0 \n",
       "L 2906 525 \n",
       "Q 2725 213 2448 61 \n",
       "Q 2172 -91 1784 -91 \n",
       "Q 1150 -91 751 415 \n",
       "Q 353 922 353 1747 \n",
       "Q 353 2572 751 3078 \n",
       "Q 1150 3584 1784 3584 \n",
       "Q 2172 3584 2448 3432 \n",
       "Q 2725 3281 2906 2969 \n",
       "z\n",
       "M 947 1747 \n",
       "Q 947 1113 1208 752 \n",
       "Q 1469 391 1925 391 \n",
       "Q 2381 391 2643 752 \n",
       "Q 2906 1113 2906 1747 \n",
       "Q 2906 2381 2643 2742 \n",
       "Q 2381 3103 1925 3103 \n",
       "Q 1469 3103 1208 2742 \n",
       "Q 947 2381 947 1747 \n",
       "z\n",
       "\" transform=\"scale(0.015625)\"/>\n",
       "       <path id=\"DejaVuSans-6d\" d=\"M 3328 2828 \n",
       "Q 3544 3216 3844 3400 \n",
       "Q 4144 3584 4550 3584 \n",
       "Q 5097 3584 5394 3201 \n",
       "Q 5691 2819 5691 2113 \n",
       "L 5691 0 \n",
       "L 5113 0 \n",
       "L 5113 2094 \n",
       "Q 5113 2597 4934 2840 \n",
       "Q 4756 3084 4391 3084 \n",
       "Q 3944 3084 3684 2787 \n",
       "Q 3425 2491 3425 1978 \n",
       "L 3425 0 \n",
       "L 2847 0 \n",
       "L 2847 2094 \n",
       "Q 2847 2600 2669 2842 \n",
       "Q 2491 3084 2119 3084 \n",
       "Q 1678 3084 1418 2786 \n",
       "Q 1159 2488 1159 1978 \n",
       "L 1159 0 \n",
       "L 581 0 \n",
       "L 581 3500 \n",
       "L 1159 3500 \n",
       "L 1159 2956 \n",
       "Q 1356 3278 1631 3431 \n",
       "Q 1906 3584 2284 3584 \n",
       "Q 2666 3584 2933 3390 \n",
       "Q 3200 3197 3328 2828 \n",
       "z\n",
       "\" transform=\"scale(0.015625)\"/>\n",
       "      </defs>\n",
       "      <use xlink:href=\"#DejaVuSans-48\"/>\n",
       "      <use xlink:href=\"#DejaVuSans-61\" x=\"75.195312\"/>\n",
       "      <use xlink:href=\"#DejaVuSans-6e\" x=\"136.474609\"/>\n",
       "      <use xlink:href=\"#DejaVuSans-64\" x=\"199.853516\"/>\n",
       "      <use xlink:href=\"#DejaVuSans-6d\" x=\"263.330078\"/>\n",
       "      <use xlink:href=\"#DejaVuSans-61\" x=\"360.742188\"/>\n",
       "      <use xlink:href=\"#DejaVuSans-64\" x=\"422.021484\"/>\n",
       "      <use xlink:href=\"#DejaVuSans-65\" x=\"485.498047\"/>\n",
       "      <use xlink:href=\"#DejaVuSans-43\" x=\"547.021484\"/>\n",
       "      <use xlink:href=\"#DejaVuSans-68\" x=\"616.845703\"/>\n",
       "      <use xlink:href=\"#DejaVuSans-65\" x=\"680.224609\"/>\n",
       "      <use xlink:href=\"#DejaVuSans-63\" x=\"741.748047\"/>\n",
       "      <use xlink:href=\"#DejaVuSans-6b\" x=\"796.728516\"/>\n",
       "     </g>\n",
       "    </g>\n",
       "    <g id=\"line2d_51\">\n",
       "     <path d=\"M 39.103125 201.551562 \n",
       "L 49.103125 201.551562 \n",
       "L 59.103125 201.551562 \n",
       "\" style=\"fill: none; stroke: #00ffff; stroke-linecap: square\"/>\n",
       "    </g>\n",
       "    <g id=\"text_24\">\n",
       "     <!-- Handmade -->\n",
       "     <g transform=\"translate(67.103125 205.051562) scale(0.1 -0.1)\">\n",
       "      <use xlink:href=\"#DejaVuSans-48\"/>\n",
       "      <use xlink:href=\"#DejaVuSans-61\" x=\"75.195312\"/>\n",
       "      <use xlink:href=\"#DejaVuSans-6e\" x=\"136.474609\"/>\n",
       "      <use xlink:href=\"#DejaVuSans-64\" x=\"199.853516\"/>\n",
       "      <use xlink:href=\"#DejaVuSans-6d\" x=\"263.330078\"/>\n",
       "      <use xlink:href=\"#DejaVuSans-61\" x=\"360.742188\"/>\n",
       "      <use xlink:href=\"#DejaVuSans-64\" x=\"422.021484\"/>\n",
       "      <use xlink:href=\"#DejaVuSans-65\" x=\"485.498047\"/>\n",
       "     </g>\n",
       "    </g>\n",
       "    <g id=\"line2d_52\">\n",
       "     <path d=\"M 39.103125 216.229687 \n",
       "L 49.103125 216.229687 \n",
       "L 59.103125 216.229687 \n",
       "\" style=\"fill: none; stroke-dasharray: 7.4,3.2; stroke-dashoffset: 0; stroke: #000000; stroke-width: 2\"/>\n",
       "    </g>\n",
       "    <g id=\"text_25\">\n",
       "     <!-- Base -->\n",
       "     <g transform=\"translate(67.103125 219.729687) scale(0.1 -0.1)\">\n",
       "      <use xlink:href=\"#DejaVuSans-42\"/>\n",
       "      <use xlink:href=\"#DejaVuSans-61\" x=\"68.603516\"/>\n",
       "      <use xlink:href=\"#DejaVuSans-73\" x=\"129.882812\"/>\n",
       "      <use xlink:href=\"#DejaVuSans-65\" x=\"181.982422\"/>\n",
       "     </g>\n",
       "    </g>\n",
       "    <g id=\"line2d_53\">\n",
       "     <path d=\"M 39.103125 230.907812 \n",
       "L 49.103125 230.907812 \n",
       "L 59.103125 230.907812 \n",
       "\" style=\"fill: none; stroke-dasharray: 3.7,1.6; stroke-dashoffset: 0; stroke: #ff0000\"/>\n",
       "    </g>\n",
       "    <g id=\"text_26\">\n",
       "     <!-- VarDropCheck -->\n",
       "     <g transform=\"translate(67.103125 234.407812) scale(0.1 -0.1)\">\n",
       "      <use xlink:href=\"#DejaVuSans-56\"/>\n",
       "      <use xlink:href=\"#DejaVuSans-61\" x=\"60.658203\"/>\n",
       "      <use xlink:href=\"#DejaVuSans-72\" x=\"121.9375\"/>\n",
       "      <use xlink:href=\"#DejaVuSans-44\" x=\"163.050781\"/>\n",
       "      <use xlink:href=\"#DejaVuSans-72\" x=\"240.052734\"/>\n",
       "      <use xlink:href=\"#DejaVuSans-6f\" x=\"278.916016\"/>\n",
       "      <use xlink:href=\"#DejaVuSans-70\" x=\"340.097656\"/>\n",
       "      <use xlink:href=\"#DejaVuSans-43\" x=\"403.574219\"/>\n",
       "      <use xlink:href=\"#DejaVuSans-68\" x=\"473.398438\"/>\n",
       "      <use xlink:href=\"#DejaVuSans-65\" x=\"536.777344\"/>\n",
       "      <use xlink:href=\"#DejaVuSans-63\" x=\"598.300781\"/>\n",
       "      <use xlink:href=\"#DejaVuSans-6b\" x=\"653.28125\"/>\n",
       "     </g>\n",
       "    </g>\n",
       "    <g id=\"line2d_54\">\n",
       "     <path d=\"M 39.103125 245.585937 \n",
       "L 49.103125 245.585937 \n",
       "L 59.103125 245.585937 \n",
       "\" style=\"fill: none; stroke-dasharray: 3.7,1.6; stroke-dashoffset: 0; stroke: #0000ff\"/>\n",
       "    </g>\n",
       "    <g id=\"text_27\">\n",
       "     <!-- VarDrop -->\n",
       "     <g transform=\"translate(67.103125 249.085937) scale(0.1 -0.1)\">\n",
       "      <use xlink:href=\"#DejaVuSans-56\"/>\n",
       "      <use xlink:href=\"#DejaVuSans-61\" x=\"60.658203\"/>\n",
       "      <use xlink:href=\"#DejaVuSans-72\" x=\"121.9375\"/>\n",
       "      <use xlink:href=\"#DejaVuSans-44\" x=\"163.050781\"/>\n",
       "      <use xlink:href=\"#DejaVuSans-72\" x=\"240.052734\"/>\n",
       "      <use xlink:href=\"#DejaVuSans-6f\" x=\"278.916016\"/>\n",
       "      <use xlink:href=\"#DejaVuSans-70\" x=\"340.097656\"/>\n",
       "     </g>\n",
       "    </g>\n",
       "    <g id=\"line2d_55\">\n",
       "     <path d=\"M 39.103125 260.264062 \n",
       "L 49.103125 260.264062 \n",
       "L 59.103125 260.264062 \n",
       "\" style=\"fill: none; stroke-dasharray: 3.7,1.6; stroke-dashoffset: 0; stroke: #008000\"/>\n",
       "    </g>\n",
       "    <g id=\"text_28\">\n",
       "     <!-- FastVarDropCheck -->\n",
       "     <g transform=\"translate(67.103125 263.764062) scale(0.1 -0.1)\">\n",
       "      <use xlink:href=\"#DejaVuSans-46\"/>\n",
       "      <use xlink:href=\"#DejaVuSans-61\" x=\"48.394531\"/>\n",
       "      <use xlink:href=\"#DejaVuSans-73\" x=\"109.673828\"/>\n",
       "      <use xlink:href=\"#DejaVuSans-74\" x=\"161.773438\"/>\n",
       "      <use xlink:href=\"#DejaVuSans-56\" x=\"200.982422\"/>\n",
       "      <use xlink:href=\"#DejaVuSans-61\" x=\"261.640625\"/>\n",
       "      <use xlink:href=\"#DejaVuSans-72\" x=\"322.919922\"/>\n",
       "      <use xlink:href=\"#DejaVuSans-44\" x=\"364.033203\"/>\n",
       "      <use xlink:href=\"#DejaVuSans-72\" x=\"441.035156\"/>\n",
       "      <use xlink:href=\"#DejaVuSans-6f\" x=\"479.898438\"/>\n",
       "      <use xlink:href=\"#DejaVuSans-70\" x=\"541.080078\"/>\n",
       "      <use xlink:href=\"#DejaVuSans-43\" x=\"604.556641\"/>\n",
       "      <use xlink:href=\"#DejaVuSans-68\" x=\"674.380859\"/>\n",
       "      <use xlink:href=\"#DejaVuSans-65\" x=\"737.759766\"/>\n",
       "      <use xlink:href=\"#DejaVuSans-63\" x=\"799.283203\"/>\n",
       "      <use xlink:href=\"#DejaVuSans-6b\" x=\"854.263672\"/>\n",
       "     </g>\n",
       "    </g>\n",
       "    <g id=\"line2d_56\">\n",
       "     <path d=\"M 39.103125 274.942187 \n",
       "L 49.103125 274.942187 \n",
       "L 59.103125 274.942187 \n",
       "\" style=\"fill: none; stroke-dasharray: 3.7,1.6; stroke-dashoffset: 0; stroke: #ffa500\"/>\n",
       "    </g>\n",
       "    <g id=\"text_29\">\n",
       "     <!-- FastVarDrop -->\n",
       "     <g transform=\"translate(67.103125 278.442187) scale(0.1 -0.1)\">\n",
       "      <use xlink:href=\"#DejaVuSans-46\"/>\n",
       "      <use xlink:href=\"#DejaVuSans-61\" x=\"48.394531\"/>\n",
       "      <use xlink:href=\"#DejaVuSans-73\" x=\"109.673828\"/>\n",
       "      <use xlink:href=\"#DejaVuSans-74\" x=\"161.773438\"/>\n",
       "      <use xlink:href=\"#DejaVuSans-56\" x=\"200.982422\"/>\n",
       "      <use xlink:href=\"#DejaVuSans-61\" x=\"261.640625\"/>\n",
       "      <use xlink:href=\"#DejaVuSans-72\" x=\"322.919922\"/>\n",
       "      <use xlink:href=\"#DejaVuSans-44\" x=\"364.033203\"/>\n",
       "      <use xlink:href=\"#DejaVuSans-72\" x=\"441.035156\"/>\n",
       "      <use xlink:href=\"#DejaVuSans-6f\" x=\"479.898438\"/>\n",
       "      <use xlink:href=\"#DejaVuSans-70\" x=\"541.080078\"/>\n",
       "     </g>\n",
       "    </g>\n",
       "    <g id=\"line2d_57\">\n",
       "     <path d=\"M 39.103125 289.620312 \n",
       "L 49.103125 289.620312 \n",
       "L 59.103125 289.620312 \n",
       "\" style=\"fill: none; stroke-dasharray: 3.7,1.6; stroke-dashoffset: 0; stroke: #800080\"/>\n",
       "    </g>\n",
       "    <g id=\"text_30\">\n",
       "     <!-- HandmadeCheck -->\n",
       "     <g transform=\"translate(67.103125 293.120312) scale(0.1 -0.1)\">\n",
       "      <use xlink:href=\"#DejaVuSans-48\"/>\n",
       "      <use xlink:href=\"#DejaVuSans-61\" x=\"75.195312\"/>\n",
       "      <use xlink:href=\"#DejaVuSans-6e\" x=\"136.474609\"/>\n",
       "      <use xlink:href=\"#DejaVuSans-64\" x=\"199.853516\"/>\n",
       "      <use xlink:href=\"#DejaVuSans-6d\" x=\"263.330078\"/>\n",
       "      <use xlink:href=\"#DejaVuSans-61\" x=\"360.742188\"/>\n",
       "      <use xlink:href=\"#DejaVuSans-64\" x=\"422.021484\"/>\n",
       "      <use xlink:href=\"#DejaVuSans-65\" x=\"485.498047\"/>\n",
       "      <use xlink:href=\"#DejaVuSans-43\" x=\"547.021484\"/>\n",
       "      <use xlink:href=\"#DejaVuSans-68\" x=\"616.845703\"/>\n",
       "      <use xlink:href=\"#DejaVuSans-65\" x=\"680.224609\"/>\n",
       "      <use xlink:href=\"#DejaVuSans-63\" x=\"741.748047\"/>\n",
       "      <use xlink:href=\"#DejaVuSans-6b\" x=\"796.728516\"/>\n",
       "     </g>\n",
       "    </g>\n",
       "    <g id=\"line2d_58\">\n",
       "     <path d=\"M 39.103125 304.298437 \n",
       "L 49.103125 304.298437 \n",
       "L 59.103125 304.298437 \n",
       "\" style=\"fill: none; stroke-dasharray: 3.7,1.6; stroke-dashoffset: 0; stroke: #00ffff\"/>\n",
       "    </g>\n",
       "    <g id=\"text_31\">\n",
       "     <!-- Handmade -->\n",
       "     <g transform=\"translate(67.103125 307.798437) scale(0.1 -0.1)\">\n",
       "      <use xlink:href=\"#DejaVuSans-48\"/>\n",
       "      <use xlink:href=\"#DejaVuSans-61\" x=\"75.195312\"/>\n",
       "      <use xlink:href=\"#DejaVuSans-6e\" x=\"136.474609\"/>\n",
       "      <use xlink:href=\"#DejaVuSans-64\" x=\"199.853516\"/>\n",
       "      <use xlink:href=\"#DejaVuSans-6d\" x=\"263.330078\"/>\n",
       "      <use xlink:href=\"#DejaVuSans-61\" x=\"360.742188\"/>\n",
       "      <use xlink:href=\"#DejaVuSans-64\" x=\"422.021484\"/>\n",
       "      <use xlink:href=\"#DejaVuSans-65\" x=\"485.498047\"/>\n",
       "     </g>\n",
       "    </g>\n",
       "   </g>\n",
       "  </g>\n",
       "  <g id=\"axes_2\">\n",
       "   <g id=\"patch_8\">\n",
       "    <path d=\"M 30.103125 673.478125 \n",
       "L 705.573125 673.478125 \n",
       "L 705.573125 376.918125 \n",
       "L 30.103125 376.918125 \n",
       "z\n",
       "\" style=\"fill: #ffffff\"/>\n",
       "   </g>\n",
       "   <g id=\"matplotlib.axis_3\">\n",
       "    <g id=\"xtick_9\">\n",
       "     <g id=\"line2d_59\">\n",
       "      <path d=\"M 60.806307 673.478125 \n",
       "L 60.806307 376.918125 \n",
       "\" clip-path=\"url(#pfebeb56f5e)\" style=\"fill: none; stroke: #b0b0b0; stroke-width: 0.8; stroke-linecap: square\"/>\n",
       "     </g>\n",
       "     <g id=\"line2d_60\">\n",
       "      <g>\n",
       "       <use xlink:href=\"#m6fb3d6cdcc\" x=\"60.806307\" y=\"673.478125\" style=\"stroke: #000000; stroke-width: 0.8\"/>\n",
       "      </g>\n",
       "     </g>\n",
       "     <g id=\"text_32\">\n",
       "      <!-- 0 -->\n",
       "      <g transform=\"translate(57.625057 688.076562) scale(0.1 -0.1)\">\n",
       "       <use xlink:href=\"#DejaVuSans-30\"/>\n",
       "      </g>\n",
       "     </g>\n",
       "    </g>\n",
       "    <g id=\"xtick_10\">\n",
       "     <g id=\"line2d_61\">\n",
       "      <path d=\"M 148.529683 673.478125 \n",
       "L 148.529683 376.918125 \n",
       "\" clip-path=\"url(#pfebeb56f5e)\" style=\"fill: none; stroke: #b0b0b0; stroke-width: 0.8; stroke-linecap: square\"/>\n",
       "     </g>\n",
       "     <g id=\"line2d_62\">\n",
       "      <g>\n",
       "       <use xlink:href=\"#m6fb3d6cdcc\" x=\"148.529683\" y=\"673.478125\" style=\"stroke: #000000; stroke-width: 0.8\"/>\n",
       "      </g>\n",
       "     </g>\n",
       "     <g id=\"text_33\">\n",
       "      <!-- 2 -->\n",
       "      <g transform=\"translate(145.348433 688.076562) scale(0.1 -0.1)\">\n",
       "       <use xlink:href=\"#DejaVuSans-32\"/>\n",
       "      </g>\n",
       "     </g>\n",
       "    </g>\n",
       "    <g id=\"xtick_11\">\n",
       "     <g id=\"line2d_63\">\n",
       "      <path d=\"M 236.25306 673.478125 \n",
       "L 236.25306 376.918125 \n",
       "\" clip-path=\"url(#pfebeb56f5e)\" style=\"fill: none; stroke: #b0b0b0; stroke-width: 0.8; stroke-linecap: square\"/>\n",
       "     </g>\n",
       "     <g id=\"line2d_64\">\n",
       "      <g>\n",
       "       <use xlink:href=\"#m6fb3d6cdcc\" x=\"236.25306\" y=\"673.478125\" style=\"stroke: #000000; stroke-width: 0.8\"/>\n",
       "      </g>\n",
       "     </g>\n",
       "     <g id=\"text_34\">\n",
       "      <!-- 4 -->\n",
       "      <g transform=\"translate(233.07181 688.076562) scale(0.1 -0.1)\">\n",
       "       <use xlink:href=\"#DejaVuSans-34\"/>\n",
       "      </g>\n",
       "     </g>\n",
       "    </g>\n",
       "    <g id=\"xtick_12\">\n",
       "     <g id=\"line2d_65\">\n",
       "      <path d=\"M 323.976437 673.478125 \n",
       "L 323.976437 376.918125 \n",
       "\" clip-path=\"url(#pfebeb56f5e)\" style=\"fill: none; stroke: #b0b0b0; stroke-width: 0.8; stroke-linecap: square\"/>\n",
       "     </g>\n",
       "     <g id=\"line2d_66\">\n",
       "      <g>\n",
       "       <use xlink:href=\"#m6fb3d6cdcc\" x=\"323.976437\" y=\"673.478125\" style=\"stroke: #000000; stroke-width: 0.8\"/>\n",
       "      </g>\n",
       "     </g>\n",
       "     <g id=\"text_35\">\n",
       "      <!-- 6 -->\n",
       "      <g transform=\"translate(320.795187 688.076562) scale(0.1 -0.1)\">\n",
       "       <use xlink:href=\"#DejaVuSans-36\"/>\n",
       "      </g>\n",
       "     </g>\n",
       "    </g>\n",
       "    <g id=\"xtick_13\">\n",
       "     <g id=\"line2d_67\">\n",
       "      <path d=\"M 411.699813 673.478125 \n",
       "L 411.699813 376.918125 \n",
       "\" clip-path=\"url(#pfebeb56f5e)\" style=\"fill: none; stroke: #b0b0b0; stroke-width: 0.8; stroke-linecap: square\"/>\n",
       "     </g>\n",
       "     <g id=\"line2d_68\">\n",
       "      <g>\n",
       "       <use xlink:href=\"#m6fb3d6cdcc\" x=\"411.699813\" y=\"673.478125\" style=\"stroke: #000000; stroke-width: 0.8\"/>\n",
       "      </g>\n",
       "     </g>\n",
       "     <g id=\"text_36\">\n",
       "      <!-- 8 -->\n",
       "      <g transform=\"translate(408.518563 688.076562) scale(0.1 -0.1)\">\n",
       "       <use xlink:href=\"#DejaVuSans-38\"/>\n",
       "      </g>\n",
       "     </g>\n",
       "    </g>\n",
       "    <g id=\"xtick_14\">\n",
       "     <g id=\"line2d_69\">\n",
       "      <path d=\"M 499.42319 673.478125 \n",
       "L 499.42319 376.918125 \n",
       "\" clip-path=\"url(#pfebeb56f5e)\" style=\"fill: none; stroke: #b0b0b0; stroke-width: 0.8; stroke-linecap: square\"/>\n",
       "     </g>\n",
       "     <g id=\"line2d_70\">\n",
       "      <g>\n",
       "       <use xlink:href=\"#m6fb3d6cdcc\" x=\"499.42319\" y=\"673.478125\" style=\"stroke: #000000; stroke-width: 0.8\"/>\n",
       "      </g>\n",
       "     </g>\n",
       "     <g id=\"text_37\">\n",
       "      <!-- 10 -->\n",
       "      <g transform=\"translate(493.06069 688.076562) scale(0.1 -0.1)\">\n",
       "       <use xlink:href=\"#DejaVuSans-31\"/>\n",
       "       <use xlink:href=\"#DejaVuSans-30\" x=\"63.623047\"/>\n",
       "      </g>\n",
       "     </g>\n",
       "    </g>\n",
       "    <g id=\"xtick_15\">\n",
       "     <g id=\"line2d_71\">\n",
       "      <path d=\"M 587.146567 673.478125 \n",
       "L 587.146567 376.918125 \n",
       "\" clip-path=\"url(#pfebeb56f5e)\" style=\"fill: none; stroke: #b0b0b0; stroke-width: 0.8; stroke-linecap: square\"/>\n",
       "     </g>\n",
       "     <g id=\"line2d_72\">\n",
       "      <g>\n",
       "       <use xlink:href=\"#m6fb3d6cdcc\" x=\"587.146567\" y=\"673.478125\" style=\"stroke: #000000; stroke-width: 0.8\"/>\n",
       "      </g>\n",
       "     </g>\n",
       "     <g id=\"text_38\">\n",
       "      <!-- 12 -->\n",
       "      <g transform=\"translate(580.784067 688.076562) scale(0.1 -0.1)\">\n",
       "       <use xlink:href=\"#DejaVuSans-31\"/>\n",
       "       <use xlink:href=\"#DejaVuSans-32\" x=\"63.623047\"/>\n",
       "      </g>\n",
       "     </g>\n",
       "    </g>\n",
       "    <g id=\"xtick_16\">\n",
       "     <g id=\"line2d_73\">\n",
       "      <path d=\"M 674.869943 673.478125 \n",
       "L 674.869943 376.918125 \n",
       "\" clip-path=\"url(#pfebeb56f5e)\" style=\"fill: none; stroke: #b0b0b0; stroke-width: 0.8; stroke-linecap: square\"/>\n",
       "     </g>\n",
       "     <g id=\"line2d_74\">\n",
       "      <g>\n",
       "       <use xlink:href=\"#m6fb3d6cdcc\" x=\"674.869943\" y=\"673.478125\" style=\"stroke: #000000; stroke-width: 0.8\"/>\n",
       "      </g>\n",
       "     </g>\n",
       "     <g id=\"text_39\">\n",
       "      <!-- 14 -->\n",
       "      <g transform=\"translate(668.507443 688.076562) scale(0.1 -0.1)\">\n",
       "       <use xlink:href=\"#DejaVuSans-31\"/>\n",
       "       <use xlink:href=\"#DejaVuSans-34\" x=\"63.623047\"/>\n",
       "      </g>\n",
       "     </g>\n",
       "    </g>\n",
       "    <g id=\"text_40\">\n",
       "     <!-- Epoch -->\n",
       "     <g transform=\"translate(352.527187 701.754687) scale(0.1 -0.1)\">\n",
       "      <use xlink:href=\"#DejaVuSans-45\"/>\n",
       "      <use xlink:href=\"#DejaVuSans-70\" x=\"63.183594\"/>\n",
       "      <use xlink:href=\"#DejaVuSans-6f\" x=\"126.660156\"/>\n",
       "      <use xlink:href=\"#DejaVuSans-63\" x=\"187.841797\"/>\n",
       "      <use xlink:href=\"#DejaVuSans-68\" x=\"242.822266\"/>\n",
       "     </g>\n",
       "    </g>\n",
       "   </g>\n",
       "   <g id=\"matplotlib.axis_4\">\n",
       "    <g id=\"ytick_8\">\n",
       "     <g id=\"line2d_75\">\n",
       "      <path d=\"M 30.103125 623.455581 \n",
       "L 705.573125 623.455581 \n",
       "\" clip-path=\"url(#pfebeb56f5e)\" style=\"fill: none; stroke: #b0b0b0; stroke-width: 0.8; stroke-linecap: square\"/>\n",
       "     </g>\n",
       "     <g id=\"line2d_76\">\n",
       "      <g>\n",
       "       <use xlink:href=\"#m206d7242cf\" x=\"30.103125\" y=\"623.455581\" style=\"stroke: #000000; stroke-width: 0.8\"/>\n",
       "      </g>\n",
       "     </g>\n",
       "     <g id=\"text_41\">\n",
       "      <!-- 0.3 -->\n",
       "      <g transform=\"translate(7.2 627.254799) scale(0.1 -0.1)\">\n",
       "       <defs>\n",
       "        <path id=\"DejaVuSans-33\" d=\"M 2597 2516 \n",
       "Q 3050 2419 3304 2112 \n",
       "Q 3559 1806 3559 1356 \n",
       "Q 3559 666 3084 287 \n",
       "Q 2609 -91 1734 -91 \n",
       "Q 1441 -91 1130 -33 \n",
       "Q 819 25 488 141 \n",
       "L 488 750 \n",
       "Q 750 597 1062 519 \n",
       "Q 1375 441 1716 441 \n",
       "Q 2309 441 2620 675 \n",
       "Q 2931 909 2931 1356 \n",
       "Q 2931 1769 2642 2001 \n",
       "Q 2353 2234 1838 2234 \n",
       "L 1294 2234 \n",
       "L 1294 2753 \n",
       "L 1863 2753 \n",
       "Q 2328 2753 2575 2939 \n",
       "Q 2822 3125 2822 3475 \n",
       "Q 2822 3834 2567 4026 \n",
       "Q 2313 4219 1838 4219 \n",
       "Q 1578 4219 1281 4162 \n",
       "Q 984 4106 628 3988 \n",
       "L 628 4550 \n",
       "Q 988 4650 1302 4700 \n",
       "Q 1616 4750 1894 4750 \n",
       "Q 2613 4750 3031 4423 \n",
       "Q 3450 4097 3450 3541 \n",
       "Q 3450 3153 3228 2886 \n",
       "Q 3006 2619 2597 2516 \n",
       "z\n",
       "\" transform=\"scale(0.015625)\"/>\n",
       "       </defs>\n",
       "       <use xlink:href=\"#DejaVuSans-30\"/>\n",
       "       <use xlink:href=\"#DejaVuSans-2e\" x=\"63.623047\"/>\n",
       "       <use xlink:href=\"#DejaVuSans-33\" x=\"95.410156\"/>\n",
       "      </g>\n",
       "     </g>\n",
       "    </g>\n",
       "    <g id=\"ytick_9\">\n",
       "     <g id=\"line2d_77\">\n",
       "      <path d=\"M 30.103125 571.489505 \n",
       "L 705.573125 571.489505 \n",
       "\" clip-path=\"url(#pfebeb56f5e)\" style=\"fill: none; stroke: #b0b0b0; stroke-width: 0.8; stroke-linecap: square\"/>\n",
       "     </g>\n",
       "     <g id=\"line2d_78\">\n",
       "      <g>\n",
       "       <use xlink:href=\"#m206d7242cf\" x=\"30.103125\" y=\"571.489505\" style=\"stroke: #000000; stroke-width: 0.8\"/>\n",
       "      </g>\n",
       "     </g>\n",
       "     <g id=\"text_42\">\n",
       "      <!-- 0.4 -->\n",
       "      <g transform=\"translate(7.2 575.288724) scale(0.1 -0.1)\">\n",
       "       <use xlink:href=\"#DejaVuSans-30\"/>\n",
       "       <use xlink:href=\"#DejaVuSans-2e\" x=\"63.623047\"/>\n",
       "       <use xlink:href=\"#DejaVuSans-34\" x=\"95.410156\"/>\n",
       "      </g>\n",
       "     </g>\n",
       "    </g>\n",
       "    <g id=\"ytick_10\">\n",
       "     <g id=\"line2d_79\">\n",
       "      <path d=\"M 30.103125 519.52343 \n",
       "L 705.573125 519.52343 \n",
       "\" clip-path=\"url(#pfebeb56f5e)\" style=\"fill: none; stroke: #b0b0b0; stroke-width: 0.8; stroke-linecap: square\"/>\n",
       "     </g>\n",
       "     <g id=\"line2d_80\">\n",
       "      <g>\n",
       "       <use xlink:href=\"#m206d7242cf\" x=\"30.103125\" y=\"519.52343\" style=\"stroke: #000000; stroke-width: 0.8\"/>\n",
       "      </g>\n",
       "     </g>\n",
       "     <g id=\"text_43\">\n",
       "      <!-- 0.5 -->\n",
       "      <g transform=\"translate(7.2 523.322648) scale(0.1 -0.1)\">\n",
       "       <defs>\n",
       "        <path id=\"DejaVuSans-35\" d=\"M 691 4666 \n",
       "L 3169 4666 \n",
       "L 3169 4134 \n",
       "L 1269 4134 \n",
       "L 1269 2991 \n",
       "Q 1406 3038 1543 3061 \n",
       "Q 1681 3084 1819 3084 \n",
       "Q 2600 3084 3056 2656 \n",
       "Q 3513 2228 3513 1497 \n",
       "Q 3513 744 3044 326 \n",
       "Q 2575 -91 1722 -91 \n",
       "Q 1428 -91 1123 -41 \n",
       "Q 819 9 494 109 \n",
       "L 494 744 \n",
       "Q 775 591 1075 516 \n",
       "Q 1375 441 1709 441 \n",
       "Q 2250 441 2565 725 \n",
       "Q 2881 1009 2881 1497 \n",
       "Q 2881 1984 2565 2268 \n",
       "Q 2250 2553 1709 2553 \n",
       "Q 1456 2553 1204 2497 \n",
       "Q 953 2441 691 2322 \n",
       "L 691 4666 \n",
       "z\n",
       "\" transform=\"scale(0.015625)\"/>\n",
       "       </defs>\n",
       "       <use xlink:href=\"#DejaVuSans-30\"/>\n",
       "       <use xlink:href=\"#DejaVuSans-2e\" x=\"63.623047\"/>\n",
       "       <use xlink:href=\"#DejaVuSans-35\" x=\"95.410156\"/>\n",
       "      </g>\n",
       "     </g>\n",
       "    </g>\n",
       "    <g id=\"ytick_11\">\n",
       "     <g id=\"line2d_81\">\n",
       "      <path d=\"M 30.103125 467.557354 \n",
       "L 705.573125 467.557354 \n",
       "\" clip-path=\"url(#pfebeb56f5e)\" style=\"fill: none; stroke: #b0b0b0; stroke-width: 0.8; stroke-linecap: square\"/>\n",
       "     </g>\n",
       "     <g id=\"line2d_82\">\n",
       "      <g>\n",
       "       <use xlink:href=\"#m206d7242cf\" x=\"30.103125\" y=\"467.557354\" style=\"stroke: #000000; stroke-width: 0.8\"/>\n",
       "      </g>\n",
       "     </g>\n",
       "     <g id=\"text_44\">\n",
       "      <!-- 0.6 -->\n",
       "      <g transform=\"translate(7.2 471.356573) scale(0.1 -0.1)\">\n",
       "       <use xlink:href=\"#DejaVuSans-30\"/>\n",
       "       <use xlink:href=\"#DejaVuSans-2e\" x=\"63.623047\"/>\n",
       "       <use xlink:href=\"#DejaVuSans-36\" x=\"95.410156\"/>\n",
       "      </g>\n",
       "     </g>\n",
       "    </g>\n",
       "    <g id=\"ytick_12\">\n",
       "     <g id=\"line2d_83\">\n",
       "      <path d=\"M 30.103125 415.591278 \n",
       "L 705.573125 415.591278 \n",
       "\" clip-path=\"url(#pfebeb56f5e)\" style=\"fill: none; stroke: #b0b0b0; stroke-width: 0.8; stroke-linecap: square\"/>\n",
       "     </g>\n",
       "     <g id=\"line2d_84\">\n",
       "      <g>\n",
       "       <use xlink:href=\"#m206d7242cf\" x=\"30.103125\" y=\"415.591278\" style=\"stroke: #000000; stroke-width: 0.8\"/>\n",
       "      </g>\n",
       "     </g>\n",
       "     <g id=\"text_45\">\n",
       "      <!-- 0.7 -->\n",
       "      <g transform=\"translate(7.2 419.390497) scale(0.1 -0.1)\">\n",
       "       <defs>\n",
       "        <path id=\"DejaVuSans-37\" d=\"M 525 4666 \n",
       "L 3525 4666 \n",
       "L 3525 4397 \n",
       "L 1831 0 \n",
       "L 1172 0 \n",
       "L 2766 4134 \n",
       "L 525 4134 \n",
       "L 525 4666 \n",
       "z\n",
       "\" transform=\"scale(0.015625)\"/>\n",
       "       </defs>\n",
       "       <use xlink:href=\"#DejaVuSans-30\"/>\n",
       "       <use xlink:href=\"#DejaVuSans-2e\" x=\"63.623047\"/>\n",
       "       <use xlink:href=\"#DejaVuSans-37\" x=\"95.410156\"/>\n",
       "      </g>\n",
       "     </g>\n",
       "    </g>\n",
       "   </g>\n",
       "   <g id=\"line2d_85\">\n",
       "    <path d=\"M 60.806307 638.338665 \n",
       "L 104.667995 585.354054 \n",
       "L 148.529683 566.854131 \n",
       "L 192.391372 560.784494 \n",
       "L 236.25306 546.400284 \n",
       "L 280.114748 538.605372 \n",
       "L 323.976437 526.071155 \n",
       "L 367.838125 514.971201 \n",
       "L 411.699813 500.275195 \n",
       "L 455.561502 488.634794 \n",
       "L 499.42319 469.448919 \n",
       "L 543.284878 451.364725 \n",
       "L 587.146567 433.197385 \n",
       "L 631.008255 413.616568 \n",
       "L 674.869943 394.118896 \n",
       "\" clip-path=\"url(#pfebeb56f5e)\" style=\"fill: none; stroke: #000000; stroke-width: 2; stroke-linecap: square\"/>\n",
       "   </g>\n",
       "   <g id=\"line2d_86\">\n",
       "    <path d=\"M 60.806307 638.899898 \n",
       "L 104.667995 588.305727 \n",
       "L 148.529683 570.699621 \n",
       "L 192.391372 560.368765 \n",
       "L 236.25306 546.732867 \n",
       "L 280.114748 539.37447 \n",
       "L 323.976437 527.505419 \n",
       "L 367.838125 518.733545 \n",
       "L 411.699813 502.208333 \n",
       "L 455.561502 487.865696 \n",
       "L 499.42319 468.866899 \n",
       "L 543.284878 453.297863 \n",
       "L 587.146567 434.673221 \n",
       "L 631.008255 410.519389 \n",
       "L 674.869943 390.398125 \n",
       "\" clip-path=\"url(#pfebeb56f5e)\" style=\"fill: none; stroke: #ff0000; stroke-linecap: square\"/>\n",
       "   </g>\n",
       "   <g id=\"line2d_87\">\n",
       "    <path d=\"M 60.806307 659.998125 \n",
       "L 104.667995 605.579251 \n",
       "L 148.529683 585.125403 \n",
       "L 192.391372 576.914763 \n",
       "L 236.25306 569.223784 \n",
       "L 280.114748 559.412589 \n",
       "L 323.976437 554.423846 \n",
       "L 367.838125 546.816012 \n",
       "L 411.699813 542.284571 \n",
       "L 455.561502 538.355935 \n",
       "L 499.42319 535.030106 \n",
       "L 543.284878 529.355411 \n",
       "L 587.146567 520.749829 \n",
       "L 631.008255 523.098696 \n",
       "L 674.869943 518.317817 \n",
       "\" clip-path=\"url(#pfebeb56f5e)\" style=\"fill: none; stroke: #0000ff; stroke-linecap: square\"/>\n",
       "   </g>\n",
       "   <g id=\"line2d_88\">\n",
       "    <path d=\"M 60.806307 638.338665 \n",
       "L 104.667995 585.354054 \n",
       "L 148.529683 566.854131 \n",
       "L 192.391372 560.784494 \n",
       "L 236.25306 546.400284 \n",
       "L 280.114748 538.605372 \n",
       "L 323.976437 526.071155 \n",
       "L 367.838125 514.971201 \n",
       "L 411.699813 500.275195 \n",
       "L 455.561502 488.634794 \n",
       "L 499.42319 469.448919 \n",
       "L 543.284878 451.364725 \n",
       "L 587.146567 433.197385 \n",
       "L 631.008255 413.616568 \n",
       "L 674.869943 394.118896 \n",
       "\" clip-path=\"url(#pfebeb56f5e)\" style=\"fill: none; stroke: #008000; stroke-linecap: square\"/>\n",
       "   </g>\n",
       "   <g id=\"line2d_89\">\n",
       "    <path d=\"M 60.806307 654.739158 \n",
       "L 104.667995 605.454532 \n",
       "L 148.529683 586.497308 \n",
       "L 192.391372 580.199019 \n",
       "L 236.25306 566.251325 \n",
       "L 280.114748 561.595164 \n",
       "L 323.976437 555.421595 \n",
       "L 367.838125 548.74915 \n",
       "L 411.699813 543.614902 \n",
       "L 455.561502 541.868842 \n",
       "L 499.42319 535.965496 \n",
       "L 543.284878 531.392481 \n",
       "L 587.146567 523.743075 \n",
       "L 631.008255 525.946436 \n",
       "L 674.869943 521.830723 \n",
       "\" clip-path=\"url(#pfebeb56f5e)\" style=\"fill: none; stroke: #ffa500; stroke-linecap: square\"/>\n",
       "   </g>\n",
       "   <g id=\"line2d_90\">\n",
       "    <path d=\"M 60.806307 625.243214 \n",
       "L 104.667995 589.490554 \n",
       "L 148.529683 570.408611 \n",
       "L 192.391372 563.902458 \n",
       "L 236.25306 551.867115 \n",
       "L 280.114748 542.471649 \n",
       "L 323.976437 526.195874 \n",
       "L 367.838125 513.827948 \n",
       "L 411.699813 508.319544 \n",
       "L 455.561502 489.549397 \n",
       "L 499.42319 469.012404 \n",
       "L 543.284878 456.727624 \n",
       "L 587.146567 432.158063 \n",
       "L 631.008255 412.889043 \n",
       "L 674.869943 393.287439 \n",
       "\" clip-path=\"url(#pfebeb56f5e)\" style=\"fill: none; stroke: #800080; stroke-linecap: square\"/>\n",
       "   </g>\n",
       "   <g id=\"line2d_91\">\n",
       "    <path d=\"M 60.806307 656.027917 \n",
       "L 104.667995 612.792142 \n",
       "L 148.529683 591.382119 \n",
       "L 192.391372 579.908009 \n",
       "L 236.25306 575.231063 \n",
       "L 280.114748 563.902458 \n",
       "L 323.976437 558.622705 \n",
       "L 367.838125 552.989582 \n",
       "L 411.699813 550.973298 \n",
       "L 455.561502 549.144093 \n",
       "L 499.42319 544.030631 \n",
       "L 543.284878 543.074455 \n",
       "L 587.146567 536.900885 \n",
       "L 631.008255 535.00932 \n",
       "L 674.869943 530.436305 \n",
       "\" clip-path=\"url(#pfebeb56f5e)\" style=\"fill: none; stroke: #00ffff; stroke-linecap: square\"/>\n",
       "   </g>\n",
       "   <g id=\"line2d_92\">\n",
       "    <path d=\"M 60.806307 634.992049 \n",
       "L 104.667995 592.961888 \n",
       "L 148.529683 580.344524 \n",
       "L 192.391372 576.145665 \n",
       "L 236.25306 575.542859 \n",
       "L 280.114748 572.466467 \n",
       "L 323.976437 571.302427 \n",
       "L 367.838125 572.404108 \n",
       "L 411.699813 572.79905 \n",
       "L 455.561502 574.919266 \n",
       "L 499.42319 584.065295 \n",
       "L 543.284878 587.889999 \n",
       "L 587.146567 589.490554 \n",
       "L 631.008255 586.351803 \n",
       "L 674.869943 591.361332 \n",
       "\" clip-path=\"url(#pfebeb56f5e)\" style=\"fill: none; stroke-dasharray: 7.4,3.2; stroke-dashoffset: 0; stroke: #000000; stroke-width: 2\"/>\n",
       "   </g>\n",
       "   <g id=\"line2d_93\">\n",
       "    <path d=\"M 60.806307 639.211695 \n",
       "L 104.667995 595.830415 \n",
       "L 148.529683 581.508564 \n",
       "L 192.391372 576.540608 \n",
       "L 236.25306 574.89848 \n",
       "L 280.114748 573.110847 \n",
       "L 323.976437 570.595689 \n",
       "L 367.838125 573.235565 \n",
       "L 411.699813 572.840623 \n",
       "L 455.561502 577.475997 \n",
       "L 499.42319 584.730461 \n",
       "L 543.284878 586.622026 \n",
       "L 587.146567 589.636059 \n",
       "L 631.008255 587.848426 \n",
       "L 674.869943 590.841672 \n",
       "\" clip-path=\"url(#pfebeb56f5e)\" style=\"fill: none; stroke-dasharray: 3.7,1.6; stroke-dashoffset: 0; stroke: #ff0000\"/>\n",
       "   </g>\n",
       "   <g id=\"line2d_94\">\n",
       "    <path d=\"M 60.806307 657.191957 \n",
       "L 104.667995 604.165773 \n",
       "L 148.529683 595.497832 \n",
       "L 192.391372 583.40013 \n",
       "L 236.25306 579.284416 \n",
       "L 280.114748 575.896228 \n",
       "L 323.976437 568.891201 \n",
       "L 367.838125 567.727161 \n",
       "L 411.699813 569.494008 \n",
       "L 455.561502 567.124355 \n",
       "L 499.42319 565.710878 \n",
       "L 543.284878 565.336722 \n",
       "L 587.146567 565.669305 \n",
       "L 631.008255 565.482227 \n",
       "L 674.869943 565.004139 \n",
       "\" clip-path=\"url(#pfebeb56f5e)\" style=\"fill: none; stroke-dasharray: 3.7,1.6; stroke-dashoffset: 0; stroke: #0000ff\"/>\n",
       "   </g>\n",
       "   <g id=\"line2d_95\">\n",
       "    <path d=\"M 60.806307 634.992049 \n",
       "L 104.667995 592.961888 \n",
       "L 148.529683 580.344524 \n",
       "L 192.391372 576.145665 \n",
       "L 236.25306 575.542859 \n",
       "L 280.114748 572.466467 \n",
       "L 323.976437 571.302427 \n",
       "L 367.838125 572.404108 \n",
       "L 411.699813 572.79905 \n",
       "L 455.561502 574.919266 \n",
       "L 499.42319 584.065295 \n",
       "L 543.284878 587.889999 \n",
       "L 587.146567 589.490554 \n",
       "L 631.008255 586.351803 \n",
       "L 674.869943 591.361332 \n",
       "\" clip-path=\"url(#pfebeb56f5e)\" style=\"fill: none; stroke-dasharray: 3.7,1.6; stroke-dashoffset: 0; stroke: #008000\"/>\n",
       "   </g>\n",
       "   <g id=\"line2d_96\">\n",
       "    <path d=\"M 60.806307 652.369505 \n",
       "L 104.667995 608.302273 \n",
       "L 148.529683 592.754023 \n",
       "L 192.391372 583.379343 \n",
       "L 236.25306 577.870939 \n",
       "L 280.114748 576.166452 \n",
       "L 323.976437 570.263106 \n",
       "L 367.838125 568.059744 \n",
       "L 411.699813 569.681086 \n",
       "L 455.561502 567.789521 \n",
       "L 499.42319 566.479975 \n",
       "L 543.284878 566.812558 \n",
       "L 587.146567 566.064247 \n",
       "L 631.008255 565.357508 \n",
       "L 674.869943 565.315935 \n",
       "\" clip-path=\"url(#pfebeb56f5e)\" style=\"fill: none; stroke-dasharray: 3.7,1.6; stroke-dashoffset: 0; stroke: #ffa500\"/>\n",
       "   </g>\n",
       "   <g id=\"line2d_97\">\n",
       "    <path d=\"M 60.806307 623.975241 \n",
       "L 104.667995 595.747269 \n",
       "L 148.529683 582.423167 \n",
       "L 192.391372 579.658572 \n",
       "L 236.25306 578.619251 \n",
       "L 280.114748 573.568148 \n",
       "L 323.976437 572.175457 \n",
       "L 367.838125 574.233314 \n",
       "L 411.699813 570.845126 \n",
       "L 455.561502 577.725434 \n",
       "L 499.42319 585.208549 \n",
       "L 543.284878 586.933823 \n",
       "L 587.146567 589.906282 \n",
       "L 631.008255 590.67538 \n",
       "L 674.869943 589.428194 \n",
       "\" clip-path=\"url(#pfebeb56f5e)\" style=\"fill: none; stroke-dasharray: 3.7,1.6; stroke-dashoffset: 0; stroke: #800080\"/>\n",
       "   </g>\n",
       "   <g id=\"line2d_98\">\n",
       "    <path d=\"M 60.806307 657.067238 \n",
       "L 104.667995 610.484848 \n",
       "L 148.529683 595.539405 \n",
       "L 192.391372 586.01922 \n",
       "L 236.25306 587.973144 \n",
       "L 280.114748 576.270384 \n",
       "L 323.976437 573.817585 \n",
       "L 367.838125 571.447932 \n",
       "L 411.699813 568.870415 \n",
       "L 455.561502 567.664802 \n",
       "L 499.42319 567.061995 \n",
       "L 543.284878 567.644016 \n",
       "L 587.146567 564.255827 \n",
       "L 631.008255 566.97885 \n",
       "L 674.869943 564.629983 \n",
       "\" clip-path=\"url(#pfebeb56f5e)\" style=\"fill: none; stroke-dasharray: 3.7,1.6; stroke-dashoffset: 0; stroke: #00ffff\"/>\n",
       "   </g>\n",
       "   <g id=\"patch_9\">\n",
       "    <path d=\"M 30.103125 673.478125 \n",
       "L 30.103125 376.918125 \n",
       "\" style=\"fill: none; stroke: #000000; stroke-width: 0.8; stroke-linejoin: miter; stroke-linecap: square\"/>\n",
       "   </g>\n",
       "   <g id=\"patch_10\">\n",
       "    <path d=\"M 705.573125 673.478125 \n",
       "L 705.573125 376.918125 \n",
       "\" style=\"fill: none; stroke: #000000; stroke-width: 0.8; stroke-linejoin: miter; stroke-linecap: square\"/>\n",
       "   </g>\n",
       "   <g id=\"patch_11\">\n",
       "    <path d=\"M 30.103125 673.478125 \n",
       "L 705.573125 673.478125 \n",
       "\" style=\"fill: none; stroke: #000000; stroke-width: 0.8; stroke-linejoin: miter; stroke-linecap: square\"/>\n",
       "   </g>\n",
       "   <g id=\"patch_12\">\n",
       "    <path d=\"M 30.103125 376.918125 \n",
       "L 705.573125 376.918125 \n",
       "\" style=\"fill: none; stroke: #000000; stroke-width: 0.8; stroke-linejoin: miter; stroke-linecap: square\"/>\n",
       "   </g>\n",
       "   <g id=\"text_46\">\n",
       "    <!-- Accuracy -->\n",
       "    <g transform=\"translate(340.444375 370.918125) scale(0.12 -0.12)\">\n",
       "     <defs>\n",
       "      <path id=\"DejaVuSans-41\" d=\"M 2188 4044 \n",
       "L 1331 1722 \n",
       "L 3047 1722 \n",
       "L 2188 4044 \n",
       "z\n",
       "M 1831 4666 \n",
       "L 2547 4666 \n",
       "L 4325 0 \n",
       "L 3669 0 \n",
       "L 3244 1197 \n",
       "L 1141 1197 \n",
       "L 716 0 \n",
       "L 50 0 \n",
       "L 1831 4666 \n",
       "z\n",
       "\" transform=\"scale(0.015625)\"/>\n",
       "      <path id=\"DejaVuSans-75\" d=\"M 544 1381 \n",
       "L 544 3500 \n",
       "L 1119 3500 \n",
       "L 1119 1403 \n",
       "Q 1119 906 1312 657 \n",
       "Q 1506 409 1894 409 \n",
       "Q 2359 409 2629 706 \n",
       "Q 2900 1003 2900 1516 \n",
       "L 2900 3500 \n",
       "L 3475 3500 \n",
       "L 3475 0 \n",
       "L 2900 0 \n",
       "L 2900 538 \n",
       "Q 2691 219 2414 64 \n",
       "Q 2138 -91 1772 -91 \n",
       "Q 1169 -91 856 284 \n",
       "Q 544 659 544 1381 \n",
       "z\n",
       "M 1991 3584 \n",
       "L 1991 3584 \n",
       "z\n",
       "\" transform=\"scale(0.015625)\"/>\n",
       "     </defs>\n",
       "     <use xlink:href=\"#DejaVuSans-41\"/>\n",
       "     <use xlink:href=\"#DejaVuSans-63\" x=\"66.658203\"/>\n",
       "     <use xlink:href=\"#DejaVuSans-63\" x=\"121.638672\"/>\n",
       "     <use xlink:href=\"#DejaVuSans-75\" x=\"176.619141\"/>\n",
       "     <use xlink:href=\"#DejaVuSans-72\" x=\"239.998047\"/>\n",
       "     <use xlink:href=\"#DejaVuSans-61\" x=\"281.111328\"/>\n",
       "     <use xlink:href=\"#DejaVuSans-63\" x=\"342.390625\"/>\n",
       "     <use xlink:href=\"#DejaVuSans-79\" x=\"397.371094\"/>\n",
       "    </g>\n",
       "   </g>\n",
       "   <g id=\"legend_2\">\n",
       "    <g id=\"patch_13\">\n",
       "     <path d=\"M 37.103125 590.411875 \n",
       "L 160.320313 590.411875 \n",
       "Q 162.320313 590.411875 162.320313 588.411875 \n",
       "L 162.320313 383.918125 \n",
       "Q 162.320313 381.918125 160.320313 381.918125 \n",
       "L 37.103125 381.918125 \n",
       "Q 35.103125 381.918125 35.103125 383.918125 \n",
       "L 35.103125 588.411875 \n",
       "Q 35.103125 590.411875 37.103125 590.411875 \n",
       "z\n",
       "\" style=\"fill: #ffffff; opacity: 0.8; stroke: #cccccc; stroke-linejoin: miter\"/>\n",
       "    </g>\n",
       "    <g id=\"line2d_99\">\n",
       "     <path d=\"M 39.103125 390.016562 \n",
       "L 49.103125 390.016562 \n",
       "L 59.103125 390.016562 \n",
       "\" style=\"fill: none; stroke: #000000; stroke-width: 2; stroke-linecap: square\"/>\n",
       "    </g>\n",
       "    <g id=\"text_47\">\n",
       "     <!-- Base -->\n",
       "     <g transform=\"translate(67.103125 393.516562) scale(0.1 -0.1)\">\n",
       "      <use xlink:href=\"#DejaVuSans-42\"/>\n",
       "      <use xlink:href=\"#DejaVuSans-61\" x=\"68.603516\"/>\n",
       "      <use xlink:href=\"#DejaVuSans-73\" x=\"129.882812\"/>\n",
       "      <use xlink:href=\"#DejaVuSans-65\" x=\"181.982422\"/>\n",
       "     </g>\n",
       "    </g>\n",
       "    <g id=\"line2d_100\">\n",
       "     <path d=\"M 39.103125 404.694687 \n",
       "L 49.103125 404.694687 \n",
       "L 59.103125 404.694687 \n",
       "\" style=\"fill: none; stroke: #ff0000; stroke-linecap: square\"/>\n",
       "    </g>\n",
       "    <g id=\"text_48\">\n",
       "     <!-- VarDropCheck -->\n",
       "     <g transform=\"translate(67.103125 408.194687) scale(0.1 -0.1)\">\n",
       "      <use xlink:href=\"#DejaVuSans-56\"/>\n",
       "      <use xlink:href=\"#DejaVuSans-61\" x=\"60.658203\"/>\n",
       "      <use xlink:href=\"#DejaVuSans-72\" x=\"121.9375\"/>\n",
       "      <use xlink:href=\"#DejaVuSans-44\" x=\"163.050781\"/>\n",
       "      <use xlink:href=\"#DejaVuSans-72\" x=\"240.052734\"/>\n",
       "      <use xlink:href=\"#DejaVuSans-6f\" x=\"278.916016\"/>\n",
       "      <use xlink:href=\"#DejaVuSans-70\" x=\"340.097656\"/>\n",
       "      <use xlink:href=\"#DejaVuSans-43\" x=\"403.574219\"/>\n",
       "      <use xlink:href=\"#DejaVuSans-68\" x=\"473.398438\"/>\n",
       "      <use xlink:href=\"#DejaVuSans-65\" x=\"536.777344\"/>\n",
       "      <use xlink:href=\"#DejaVuSans-63\" x=\"598.300781\"/>\n",
       "      <use xlink:href=\"#DejaVuSans-6b\" x=\"653.28125\"/>\n",
       "     </g>\n",
       "    </g>\n",
       "    <g id=\"line2d_101\">\n",
       "     <path d=\"M 39.103125 419.372812 \n",
       "L 49.103125 419.372812 \n",
       "L 59.103125 419.372812 \n",
       "\" style=\"fill: none; stroke: #0000ff; stroke-linecap: square\"/>\n",
       "    </g>\n",
       "    <g id=\"text_49\">\n",
       "     <!-- VarDrop -->\n",
       "     <g transform=\"translate(67.103125 422.872812) scale(0.1 -0.1)\">\n",
       "      <use xlink:href=\"#DejaVuSans-56\"/>\n",
       "      <use xlink:href=\"#DejaVuSans-61\" x=\"60.658203\"/>\n",
       "      <use xlink:href=\"#DejaVuSans-72\" x=\"121.9375\"/>\n",
       "      <use xlink:href=\"#DejaVuSans-44\" x=\"163.050781\"/>\n",
       "      <use xlink:href=\"#DejaVuSans-72\" x=\"240.052734\"/>\n",
       "      <use xlink:href=\"#DejaVuSans-6f\" x=\"278.916016\"/>\n",
       "      <use xlink:href=\"#DejaVuSans-70\" x=\"340.097656\"/>\n",
       "     </g>\n",
       "    </g>\n",
       "    <g id=\"line2d_102\">\n",
       "     <path d=\"M 39.103125 434.050937 \n",
       "L 49.103125 434.050937 \n",
       "L 59.103125 434.050937 \n",
       "\" style=\"fill: none; stroke: #008000; stroke-linecap: square\"/>\n",
       "    </g>\n",
       "    <g id=\"text_50\">\n",
       "     <!-- FastVarDropCheck -->\n",
       "     <g transform=\"translate(67.103125 437.550937) scale(0.1 -0.1)\">\n",
       "      <use xlink:href=\"#DejaVuSans-46\"/>\n",
       "      <use xlink:href=\"#DejaVuSans-61\" x=\"48.394531\"/>\n",
       "      <use xlink:href=\"#DejaVuSans-73\" x=\"109.673828\"/>\n",
       "      <use xlink:href=\"#DejaVuSans-74\" x=\"161.773438\"/>\n",
       "      <use xlink:href=\"#DejaVuSans-56\" x=\"200.982422\"/>\n",
       "      <use xlink:href=\"#DejaVuSans-61\" x=\"261.640625\"/>\n",
       "      <use xlink:href=\"#DejaVuSans-72\" x=\"322.919922\"/>\n",
       "      <use xlink:href=\"#DejaVuSans-44\" x=\"364.033203\"/>\n",
       "      <use xlink:href=\"#DejaVuSans-72\" x=\"441.035156\"/>\n",
       "      <use xlink:href=\"#DejaVuSans-6f\" x=\"479.898438\"/>\n",
       "      <use xlink:href=\"#DejaVuSans-70\" x=\"541.080078\"/>\n",
       "      <use xlink:href=\"#DejaVuSans-43\" x=\"604.556641\"/>\n",
       "      <use xlink:href=\"#DejaVuSans-68\" x=\"674.380859\"/>\n",
       "      <use xlink:href=\"#DejaVuSans-65\" x=\"737.759766\"/>\n",
       "      <use xlink:href=\"#DejaVuSans-63\" x=\"799.283203\"/>\n",
       "      <use xlink:href=\"#DejaVuSans-6b\" x=\"854.263672\"/>\n",
       "     </g>\n",
       "    </g>\n",
       "    <g id=\"line2d_103\">\n",
       "     <path d=\"M 39.103125 448.729062 \n",
       "L 49.103125 448.729062 \n",
       "L 59.103125 448.729062 \n",
       "\" style=\"fill: none; stroke: #ffa500; stroke-linecap: square\"/>\n",
       "    </g>\n",
       "    <g id=\"text_51\">\n",
       "     <!-- FastVarDrop -->\n",
       "     <g transform=\"translate(67.103125 452.229062) scale(0.1 -0.1)\">\n",
       "      <use xlink:href=\"#DejaVuSans-46\"/>\n",
       "      <use xlink:href=\"#DejaVuSans-61\" x=\"48.394531\"/>\n",
       "      <use xlink:href=\"#DejaVuSans-73\" x=\"109.673828\"/>\n",
       "      <use xlink:href=\"#DejaVuSans-74\" x=\"161.773438\"/>\n",
       "      <use xlink:href=\"#DejaVuSans-56\" x=\"200.982422\"/>\n",
       "      <use xlink:href=\"#DejaVuSans-61\" x=\"261.640625\"/>\n",
       "      <use xlink:href=\"#DejaVuSans-72\" x=\"322.919922\"/>\n",
       "      <use xlink:href=\"#DejaVuSans-44\" x=\"364.033203\"/>\n",
       "      <use xlink:href=\"#DejaVuSans-72\" x=\"441.035156\"/>\n",
       "      <use xlink:href=\"#DejaVuSans-6f\" x=\"479.898438\"/>\n",
       "      <use xlink:href=\"#DejaVuSans-70\" x=\"541.080078\"/>\n",
       "     </g>\n",
       "    </g>\n",
       "    <g id=\"line2d_104\">\n",
       "     <path d=\"M 39.103125 463.407187 \n",
       "L 49.103125 463.407187 \n",
       "L 59.103125 463.407187 \n",
       "\" style=\"fill: none; stroke: #800080; stroke-linecap: square\"/>\n",
       "    </g>\n",
       "    <g id=\"text_52\">\n",
       "     <!-- HandmadeCheck -->\n",
       "     <g transform=\"translate(67.103125 466.907187) scale(0.1 -0.1)\">\n",
       "      <use xlink:href=\"#DejaVuSans-48\"/>\n",
       "      <use xlink:href=\"#DejaVuSans-61\" x=\"75.195312\"/>\n",
       "      <use xlink:href=\"#DejaVuSans-6e\" x=\"136.474609\"/>\n",
       "      <use xlink:href=\"#DejaVuSans-64\" x=\"199.853516\"/>\n",
       "      <use xlink:href=\"#DejaVuSans-6d\" x=\"263.330078\"/>\n",
       "      <use xlink:href=\"#DejaVuSans-61\" x=\"360.742188\"/>\n",
       "      <use xlink:href=\"#DejaVuSans-64\" x=\"422.021484\"/>\n",
       "      <use xlink:href=\"#DejaVuSans-65\" x=\"485.498047\"/>\n",
       "      <use xlink:href=\"#DejaVuSans-43\" x=\"547.021484\"/>\n",
       "      <use xlink:href=\"#DejaVuSans-68\" x=\"616.845703\"/>\n",
       "      <use xlink:href=\"#DejaVuSans-65\" x=\"680.224609\"/>\n",
       "      <use xlink:href=\"#DejaVuSans-63\" x=\"741.748047\"/>\n",
       "      <use xlink:href=\"#DejaVuSans-6b\" x=\"796.728516\"/>\n",
       "     </g>\n",
       "    </g>\n",
       "    <g id=\"line2d_105\">\n",
       "     <path d=\"M 39.103125 478.085312 \n",
       "L 49.103125 478.085312 \n",
       "L 59.103125 478.085312 \n",
       "\" style=\"fill: none; stroke: #00ffff; stroke-linecap: square\"/>\n",
       "    </g>\n",
       "    <g id=\"text_53\">\n",
       "     <!-- Handmade -->\n",
       "     <g transform=\"translate(67.103125 481.585312) scale(0.1 -0.1)\">\n",
       "      <use xlink:href=\"#DejaVuSans-48\"/>\n",
       "      <use xlink:href=\"#DejaVuSans-61\" x=\"75.195312\"/>\n",
       "      <use xlink:href=\"#DejaVuSans-6e\" x=\"136.474609\"/>\n",
       "      <use xlink:href=\"#DejaVuSans-64\" x=\"199.853516\"/>\n",
       "      <use xlink:href=\"#DejaVuSans-6d\" x=\"263.330078\"/>\n",
       "      <use xlink:href=\"#DejaVuSans-61\" x=\"360.742188\"/>\n",
       "      <use xlink:href=\"#DejaVuSans-64\" x=\"422.021484\"/>\n",
       "      <use xlink:href=\"#DejaVuSans-65\" x=\"485.498047\"/>\n",
       "     </g>\n",
       "    </g>\n",
       "    <g id=\"line2d_106\">\n",
       "     <path d=\"M 39.103125 492.763437 \n",
       "L 49.103125 492.763437 \n",
       "L 59.103125 492.763437 \n",
       "\" style=\"fill: none; stroke-dasharray: 7.4,3.2; stroke-dashoffset: 0; stroke: #000000; stroke-width: 2\"/>\n",
       "    </g>\n",
       "    <g id=\"text_54\">\n",
       "     <!-- Base -->\n",
       "     <g transform=\"translate(67.103125 496.263437) scale(0.1 -0.1)\">\n",
       "      <use xlink:href=\"#DejaVuSans-42\"/>\n",
       "      <use xlink:href=\"#DejaVuSans-61\" x=\"68.603516\"/>\n",
       "      <use xlink:href=\"#DejaVuSans-73\" x=\"129.882812\"/>\n",
       "      <use xlink:href=\"#DejaVuSans-65\" x=\"181.982422\"/>\n",
       "     </g>\n",
       "    </g>\n",
       "    <g id=\"line2d_107\">\n",
       "     <path d=\"M 39.103125 507.441562 \n",
       "L 49.103125 507.441562 \n",
       "L 59.103125 507.441562 \n",
       "\" style=\"fill: none; stroke-dasharray: 3.7,1.6; stroke-dashoffset: 0; stroke: #ff0000\"/>\n",
       "    </g>\n",
       "    <g id=\"text_55\">\n",
       "     <!-- VarDropCheck -->\n",
       "     <g transform=\"translate(67.103125 510.941562) scale(0.1 -0.1)\">\n",
       "      <use xlink:href=\"#DejaVuSans-56\"/>\n",
       "      <use xlink:href=\"#DejaVuSans-61\" x=\"60.658203\"/>\n",
       "      <use xlink:href=\"#DejaVuSans-72\" x=\"121.9375\"/>\n",
       "      <use xlink:href=\"#DejaVuSans-44\" x=\"163.050781\"/>\n",
       "      <use xlink:href=\"#DejaVuSans-72\" x=\"240.052734\"/>\n",
       "      <use xlink:href=\"#DejaVuSans-6f\" x=\"278.916016\"/>\n",
       "      <use xlink:href=\"#DejaVuSans-70\" x=\"340.097656\"/>\n",
       "      <use xlink:href=\"#DejaVuSans-43\" x=\"403.574219\"/>\n",
       "      <use xlink:href=\"#DejaVuSans-68\" x=\"473.398438\"/>\n",
       "      <use xlink:href=\"#DejaVuSans-65\" x=\"536.777344\"/>\n",
       "      <use xlink:href=\"#DejaVuSans-63\" x=\"598.300781\"/>\n",
       "      <use xlink:href=\"#DejaVuSans-6b\" x=\"653.28125\"/>\n",
       "     </g>\n",
       "    </g>\n",
       "    <g id=\"line2d_108\">\n",
       "     <path d=\"M 39.103125 522.119687 \n",
       "L 49.103125 522.119687 \n",
       "L 59.103125 522.119687 \n",
       "\" style=\"fill: none; stroke-dasharray: 3.7,1.6; stroke-dashoffset: 0; stroke: #0000ff\"/>\n",
       "    </g>\n",
       "    <g id=\"text_56\">\n",
       "     <!-- VarDrop -->\n",
       "     <g transform=\"translate(67.103125 525.619687) scale(0.1 -0.1)\">\n",
       "      <use xlink:href=\"#DejaVuSans-56\"/>\n",
       "      <use xlink:href=\"#DejaVuSans-61\" x=\"60.658203\"/>\n",
       "      <use xlink:href=\"#DejaVuSans-72\" x=\"121.9375\"/>\n",
       "      <use xlink:href=\"#DejaVuSans-44\" x=\"163.050781\"/>\n",
       "      <use xlink:href=\"#DejaVuSans-72\" x=\"240.052734\"/>\n",
       "      <use xlink:href=\"#DejaVuSans-6f\" x=\"278.916016\"/>\n",
       "      <use xlink:href=\"#DejaVuSans-70\" x=\"340.097656\"/>\n",
       "     </g>\n",
       "    </g>\n",
       "    <g id=\"line2d_109\">\n",
       "     <path d=\"M 39.103125 536.797812 \n",
       "L 49.103125 536.797812 \n",
       "L 59.103125 536.797812 \n",
       "\" style=\"fill: none; stroke-dasharray: 3.7,1.6; stroke-dashoffset: 0; stroke: #008000\"/>\n",
       "    </g>\n",
       "    <g id=\"text_57\">\n",
       "     <!-- FastVarDropCheck -->\n",
       "     <g transform=\"translate(67.103125 540.297812) scale(0.1 -0.1)\">\n",
       "      <use xlink:href=\"#DejaVuSans-46\"/>\n",
       "      <use xlink:href=\"#DejaVuSans-61\" x=\"48.394531\"/>\n",
       "      <use xlink:href=\"#DejaVuSans-73\" x=\"109.673828\"/>\n",
       "      <use xlink:href=\"#DejaVuSans-74\" x=\"161.773438\"/>\n",
       "      <use xlink:href=\"#DejaVuSans-56\" x=\"200.982422\"/>\n",
       "      <use xlink:href=\"#DejaVuSans-61\" x=\"261.640625\"/>\n",
       "      <use xlink:href=\"#DejaVuSans-72\" x=\"322.919922\"/>\n",
       "      <use xlink:href=\"#DejaVuSans-44\" x=\"364.033203\"/>\n",
       "      <use xlink:href=\"#DejaVuSans-72\" x=\"441.035156\"/>\n",
       "      <use xlink:href=\"#DejaVuSans-6f\" x=\"479.898438\"/>\n",
       "      <use xlink:href=\"#DejaVuSans-70\" x=\"541.080078\"/>\n",
       "      <use xlink:href=\"#DejaVuSans-43\" x=\"604.556641\"/>\n",
       "      <use xlink:href=\"#DejaVuSans-68\" x=\"674.380859\"/>\n",
       "      <use xlink:href=\"#DejaVuSans-65\" x=\"737.759766\"/>\n",
       "      <use xlink:href=\"#DejaVuSans-63\" x=\"799.283203\"/>\n",
       "      <use xlink:href=\"#DejaVuSans-6b\" x=\"854.263672\"/>\n",
       "     </g>\n",
       "    </g>\n",
       "    <g id=\"line2d_110\">\n",
       "     <path d=\"M 39.103125 551.475937 \n",
       "L 49.103125 551.475937 \n",
       "L 59.103125 551.475937 \n",
       "\" style=\"fill: none; stroke-dasharray: 3.7,1.6; stroke-dashoffset: 0; stroke: #ffa500\"/>\n",
       "    </g>\n",
       "    <g id=\"text_58\">\n",
       "     <!-- FastVarDrop -->\n",
       "     <g transform=\"translate(67.103125 554.975937) scale(0.1 -0.1)\">\n",
       "      <use xlink:href=\"#DejaVuSans-46\"/>\n",
       "      <use xlink:href=\"#DejaVuSans-61\" x=\"48.394531\"/>\n",
       "      <use xlink:href=\"#DejaVuSans-73\" x=\"109.673828\"/>\n",
       "      <use xlink:href=\"#DejaVuSans-74\" x=\"161.773438\"/>\n",
       "      <use xlink:href=\"#DejaVuSans-56\" x=\"200.982422\"/>\n",
       "      <use xlink:href=\"#DejaVuSans-61\" x=\"261.640625\"/>\n",
       "      <use xlink:href=\"#DejaVuSans-72\" x=\"322.919922\"/>\n",
       "      <use xlink:href=\"#DejaVuSans-44\" x=\"364.033203\"/>\n",
       "      <use xlink:href=\"#DejaVuSans-72\" x=\"441.035156\"/>\n",
       "      <use xlink:href=\"#DejaVuSans-6f\" x=\"479.898438\"/>\n",
       "      <use xlink:href=\"#DejaVuSans-70\" x=\"541.080078\"/>\n",
       "     </g>\n",
       "    </g>\n",
       "    <g id=\"line2d_111\">\n",
       "     <path d=\"M 39.103125 566.154062 \n",
       "L 49.103125 566.154062 \n",
       "L 59.103125 566.154062 \n",
       "\" style=\"fill: none; stroke-dasharray: 3.7,1.6; stroke-dashoffset: 0; stroke: #800080\"/>\n",
       "    </g>\n",
       "    <g id=\"text_59\">\n",
       "     <!-- HandmadeCheck -->\n",
       "     <g transform=\"translate(67.103125 569.654062) scale(0.1 -0.1)\">\n",
       "      <use xlink:href=\"#DejaVuSans-48\"/>\n",
       "      <use xlink:href=\"#DejaVuSans-61\" x=\"75.195312\"/>\n",
       "      <use xlink:href=\"#DejaVuSans-6e\" x=\"136.474609\"/>\n",
       "      <use xlink:href=\"#DejaVuSans-64\" x=\"199.853516\"/>\n",
       "      <use xlink:href=\"#DejaVuSans-6d\" x=\"263.330078\"/>\n",
       "      <use xlink:href=\"#DejaVuSans-61\" x=\"360.742188\"/>\n",
       "      <use xlink:href=\"#DejaVuSans-64\" x=\"422.021484\"/>\n",
       "      <use xlink:href=\"#DejaVuSans-65\" x=\"485.498047\"/>\n",
       "      <use xlink:href=\"#DejaVuSans-43\" x=\"547.021484\"/>\n",
       "      <use xlink:href=\"#DejaVuSans-68\" x=\"616.845703\"/>\n",
       "      <use xlink:href=\"#DejaVuSans-65\" x=\"680.224609\"/>\n",
       "      <use xlink:href=\"#DejaVuSans-63\" x=\"741.748047\"/>\n",
       "      <use xlink:href=\"#DejaVuSans-6b\" x=\"796.728516\"/>\n",
       "     </g>\n",
       "    </g>\n",
       "    <g id=\"line2d_112\">\n",
       "     <path d=\"M 39.103125 580.832187 \n",
       "L 49.103125 580.832187 \n",
       "L 59.103125 580.832187 \n",
       "\" style=\"fill: none; stroke-dasharray: 3.7,1.6; stroke-dashoffset: 0; stroke: #00ffff\"/>\n",
       "    </g>\n",
       "    <g id=\"text_60\">\n",
       "     <!-- Handmade -->\n",
       "     <g transform=\"translate(67.103125 584.332187) scale(0.1 -0.1)\">\n",
       "      <use xlink:href=\"#DejaVuSans-48\"/>\n",
       "      <use xlink:href=\"#DejaVuSans-61\" x=\"75.195312\"/>\n",
       "      <use xlink:href=\"#DejaVuSans-6e\" x=\"136.474609\"/>\n",
       "      <use xlink:href=\"#DejaVuSans-64\" x=\"199.853516\"/>\n",
       "      <use xlink:href=\"#DejaVuSans-6d\" x=\"263.330078\"/>\n",
       "      <use xlink:href=\"#DejaVuSans-61\" x=\"360.742188\"/>\n",
       "      <use xlink:href=\"#DejaVuSans-64\" x=\"422.021484\"/>\n",
       "      <use xlink:href=\"#DejaVuSans-65\" x=\"485.498047\"/>\n",
       "     </g>\n",
       "    </g>\n",
       "   </g>\n",
       "  </g>\n",
       " </g>\n",
       " <defs>\n",
       "  <clipPath id=\"p9215c2db52\">\n",
       "   <rect x=\"30.103125\" y=\"22.318125\" width=\"675.47\" height=\"296.56\"/>\n",
       "  </clipPath>\n",
       "  <clipPath id=\"pfebeb56f5e\">\n",
       "   <rect x=\"30.103125\" y=\"376.918125\" width=\"675.47\" height=\"296.56\"/>\n",
       "  </clipPath>\n",
       " </defs>\n",
       "</svg>\n"
      ],
      "text/plain": [
       "<Figure size 1000x1000 with 2 Axes>"
      ]
     },
     "metadata": {},
     "output_type": "display_data"
    }
   ],
   "source": [
    "fig, axes = plt.subplots(2, 1, figsize=(10, 10))\n",
    "colors = ['black', 'red', 'blue', 'green', 'orange', 'purple', 'cyan']\n",
    "\n",
    "# YOUR CODE HERE\n",
    "...\n",
    "\n",
    "axes[0].legend()\n",
    "axes[0].grid(True)\n",
    "axes[0].set_xlabel('Epoch')\n",
    "axes[0].set_title('CrossEntropy Loss')\n",
    "\n",
    "axes[1].legend()\n",
    "axes[1].grid(True)\n",
    "axes[1].set_xlabel('Epoch')\n",
    "axes[1].set_title('Accuracy')\n",
    "\n",
    "fig.tight_layout()\n",
    "plt.savefig(\"results.png\")\n",
    "plt.show()"
   ]
  },
  {
   "cell_type": "markdown",
   "metadata": {},
   "source": [
    "Сделайте итоговые выводы о качестве работы моделей с разными реализациями DropOut:"
   ]
  },
  {
   "cell_type": "markdown",
   "metadata": {},
   "source": [
    "**Ответ:**"
   ]
  },
  {
   "cell_type": "markdown",
   "metadata": {
    "collapsed": true
   },
   "source": [
    "## `Бонус. Zoneout (0.5 балла)`"
   ]
  },
  {
   "cell_type": "markdown",
   "metadata": {
    "collapsed": true
   },
   "source": [
    "Это еще одна модификация идеи дропаута применительно к рекуррентным нейросетям. В Zoneout на каждом временном шаге с вероятностью $p$ компонента скрытого состояния обновляется, а с вероятностью $1-p$ берется с предыдущего шага. \n",
    "В Виде формул ($m^t_h$ - бинарная маска):\n",
    " \n",
    "(сначала обычный рекуррентный переход, например LSTM)\n",
    "$$\n",
    "i = \\sigma(h_{t-1}W^i + x_t U^i+b_i) \\quad\n",
    "o = \\sigma(h_{t-1}W^o + x_t U^o+b_o) \n",
    "$$\n",
    "$$\n",
    "f = \\sigma(h_{t-1}W^f + x_t U^f+b_f) \\quad \n",
    "g = tanh(h_{t-1} W^g + x_t U^g+b_g) \n",
    "$$\n",
    "$$\n",
    "c_t = f \\odot c_{t-1} +  i \\odot  g \\quad\n",
    "h_t =  o \\odot tanh(c_t)\n",
    "$$\n",
    "Затем Zoneout:\n",
    "$$\n",
    "h_t = h_t * m_h^t + h_{t-1}*(1-m_h^t)\n",
    "$$\n",
    "В этом методе маска уже должна быть разная во все моменты времени (иначе метод упрощается до дропаута Гала и Гарамани). На входы $x_t$ вновь можно накладывать маску до начала работы рекуррентного слоя.  \n",
    "\n",
    "Если у вас осталось время, вы можете реализовать этот метод. Выберите основу из трех рассмотренных случаев самостоятельно.\n",
    "\n",
    "**Полный балл ставится только при наличии качественного и количественного сравнения с предыдущими моделями.**"
   ]
  },
  {
   "cell_type": "markdown",
   "metadata": {
    "ExecuteTime": {
     "end_time": "2021-03-31T16:05:00.702763Z",
     "start_time": "2021-03-31T16:05:00.674835Z"
    }
   },
   "source": [
    "# `Часть 2. Language Modeling с помощью LSTM (5 баллов)`"
   ]
  },
  {
   "cell_type": "markdown",
   "metadata": {},
   "source": [
    "Во второй части мы попробуем обучить модель для генерации отзывов по их началу."
   ]
  },
  {
   "cell_type": "markdown",
   "metadata": {},
   "source": [
    "Концептуально модель будет выглядеть следующим образом:\n",
    "    \n",
    "![image info](https://www.researchgate.net/publication/350391597/figure/fig1/AS:1005416683167744@1616721425265/Structure-of-the-long-short-term-memory-language-model-LSTMLM.png)"
   ]
  },
  {
   "cell_type": "markdown",
   "metadata": {},
   "source": [
    "В процессе обучения будем тренировать сеть предсказывать вероятность следующего символа при условии всех предыдущих. Эту вероятность можно моделировать с помощью скрытого состояния $h^{(t)}$ пропуская его через линейный слой с выходной размерностью равной размерности словаря:\n",
    "$$\n",
    "p(x^{t}|x^{t-1}, ..., x^{1}) = SoftMax(Linear(h^{(t)}))\n",
    "$$"
   ]
  },
  {
   "cell_type": "markdown",
   "metadata": {},
   "source": [
    "Обратите внимание, что для вычисления $p(x^{t}|x^{t-1}, ..., x^{1})$ для всех моментов времени достаточно сделать один проход по RNN, а затем применить линейное преобразование ко всем скрытым состояниям."
   ]
  },
  {
   "cell_type": "markdown",
   "metadata": {
    "ExecuteTime": {
     "end_time": "2021-04-02T00:37:56.100520Z",
     "start_time": "2021-04-02T00:37:56.072747Z"
    }
   },
   "source": [
    "В качестве функции потерь необходимо использовать `CrossEntropy`."
   ]
  },
  {
   "cell_type": "markdown",
   "metadata": {},
   "source": [
    "Рассмотрим другой важный момент. Для того, чтобы решить данную задачу, модель должна уметь определять момент начала генерации предложения и оповещать о завершении генерации — конце предложения. Для этого добавим в словарь вспомогательные токены `<sos>`, `<eos>`. Добавив `<sos>` в начало каждого предложения и `<eos>` в конец.\n",
    "\n",
    "Модель сможет начинать генерацию как только ей будет передан токен `<sos>` и заканчивать генерацию, как только на очередном месте самым вероятным токеном оказывается `<eos>`."
   ]
  },
  {
   "cell_type": "markdown",
   "metadata": {},
   "source": [
    "Для решения этой задачи мы воспользуемся уже реализованной LSTM с дропаутом `FastRNNLayer` и классом `RNNClassifier`, то есть архитектура сети принципиально не поменяется. "
   ]
  },
  {
   "cell_type": "markdown",
   "metadata": {},
   "source": [
    "## `Реализация модели и цикла обучения (2 балла)`"
   ]
  },
  {
   "cell_type": "markdown",
   "metadata": {},
   "source": [
    "**Не используйте циклы в `RNNLM`, `LMCrossEntropyLoss`, `LMAccuracy`**"
   ]
  },
  {
   "cell_type": "code",
   "execution_count": 55,
   "metadata": {
    "ExecuteTime": {
     "end_time": "2024-03-30T22:43:32.296358Z",
     "start_time": "2024-03-30T22:43:32.292787Z"
    }
   },
   "outputs": [],
   "source": [
    "class RNNLM(RNNClassifier):\n",
    "    def __init__(\n",
    "        self, embedding_dim, hidden_dim, tokenizer, dropout=0.5, layers_dropout=0.5, num_layers=1\n",
    "    ):\n",
    "        super().__init__(\n",
    "            embedding_dim=embedding_dim, hidden_dim=hidden_dim, \n",
    "            output_size=tokenizer.get_vocab_size(), tokenizer=tokenizer,\n",
    "            rec_layer=FastRNNLayer, dropout=dropout, layers_dropout=layers_dropout, num_layers=num_layers\n",
    "        )\n",
    "    \n",
    "    def forward(self, tokens, tokens_lens):\n",
    "        \"\"\"\n",
    "        :param torch.Tensor(dtype=torch.long) tokens: \n",
    "            Batch of texts represented with tokens. Shape: [T, B]\n",
    "        :param torch.Tensor(dtype=torch.long) tokens_lens: \n",
    "            Number of non-padding tokens for each object in batch. Shape: [B]\n",
    "        :return torch.Tensor: \n",
    "            Distribution of next token for each time step. Shape: [T, B, V], V — size of vocabulary\n",
    "        \"\"\"\n",
    "        # Make embeddings for all tokens\n",
    "        # YOUR CODE HERE\n",
    "        ...\n",
    "        \n",
    "        # Forward pass embeddings through network\n",
    "        # YOUR CODE HERE\n",
    "        ...\n",
    "        \n",
    "        # Take all hidden states from the last layer of LSTM for each step and perform linear transformation\n",
    "        # YOUR CODE HERE\n",
    "        ..."
   ]
  },
  {
   "cell_type": "markdown",
   "metadata": {},
   "source": [
    "Реализуем функцию потерь для данной задачи. \n",
    "\n",
    "Моменты на которые нужно обратить внимание:\n",
    "1. Распределение вероятности следующего токена для последнего токена в последовательности не участвует в подсчёте функции потерь.\n",
    "2. Необходимо учитывать, что в одном батче могут быть тексты разной длины."
   ]
  },
  {
   "cell_type": "markdown",
   "metadata": {},
   "source": [
    "Для решения второй проблемы можно воспользоваться функцией `torch.nn.utils.rnn.pack_padded_sequence`. \n",
    "\n",
    "Принимая на вход батч тензоров и длину каждого тензора без учёта паддинга эта функция позволяет получить все элементы в тензорах, которые не относятся к паддингу в виде плоского массива:"
   ]
  },
  {
   "cell_type": "code",
   "execution_count": 56,
   "metadata": {
    "ExecuteTime": {
     "end_time": "2024-03-30T22:43:32.679509Z",
     "start_time": "2024-03-30T22:43:32.676456Z"
    }
   },
   "outputs": [],
   "source": [
    "padded_tensors = torch.tensor([\n",
    "    [[1, 11, 111], [2, 22, 222], [3, 33, 333]],\n",
    "    [[4, 44, 444], [5, 55, 555], [6, 66, 666]],\n",
    "    [[7, 77, 777], [0, 0, 0], [8, 88, 888]],\n",
    "    [[9, 99, 999], [0, 0, 0], [0, 0, 0]]\n",
    "])\n",
    "tensors_lens = torch.tensor([4, 2, 3])"
   ]
  },
  {
   "cell_type": "markdown",
   "metadata": {},
   "source": [
    "Обратите внимание, что `torch.nn.utils.rnn.pack_padded_sequence` автоматически переупорядочивает тензоры в батче по убыванию их длины."
   ]
  },
  {
   "cell_type": "code",
   "execution_count": 57,
   "metadata": {
    "ExecuteTime": {
     "end_time": "2024-03-30T22:43:32.986692Z",
     "start_time": "2024-03-30T22:43:32.982235Z"
    }
   },
   "outputs": [
    {
     "data": {
      "text/plain": [
       "PackedSequence(data=tensor([[  1,  11, 111],\n",
       "        [  3,  33, 333],\n",
       "        [  2,  22, 222],\n",
       "        [  4,  44, 444],\n",
       "        [  6,  66, 666],\n",
       "        [  5,  55, 555],\n",
       "        [  7,  77, 777],\n",
       "        [  8,  88, 888],\n",
       "        [  9,  99, 999]]), batch_sizes=tensor([3, 3, 2, 1]), sorted_indices=tensor([0, 2, 1]), unsorted_indices=tensor([0, 2, 1]))"
      ]
     },
     "execution_count": 57,
     "metadata": {},
     "output_type": "execute_result"
    }
   ],
   "source": [
    "torch.nn.utils.rnn.pack_padded_sequence(padded_tensors, tensors_lens, batch_first=False, enforce_sorted=False)"
   ]
  },
  {
   "cell_type": "code",
   "execution_count": 58,
   "metadata": {
    "ExecuteTime": {
     "end_time": "2024-03-30T22:43:33.678363Z",
     "start_time": "2024-03-30T22:43:33.675046Z"
    }
   },
   "outputs": [],
   "source": [
    "class LMCrossEntropyLoss(torch.nn.CrossEntropyLoss):\n",
    "    def __init__(self, *args, **kwargs):\n",
    "        super().__init__(*args, **kwargs)\n",
    "        \n",
    "    def forward(self, outputs, tokens, tokens_lens):\n",
    "        \"\"\"\n",
    "        :param torch.Tensor outputs: Output from RNNLM.forward. Shape: [T, B, V]\n",
    "        :param torch.Tensor tokens: Batch of tokens. Shape: [T, B]\n",
    "        :param torch.Tensor tokens_lens: Length of each sequence in batch\n",
    "        :return torch.Tensor: CrossEntropyLoss between corresponding logits and tokens\n",
    "        \"\"\"\n",
    "        # Use torch.nn.utils.rnn.pack_padded_sequence().data to remove padding and flatten logits and tokens\n",
    "        # Do not forget specify enforce_sorted=False and correct value of batch_first \n",
    "        # YOUR CODE HERE\n",
    "        packed_outputs = ...\n",
    "        packed_tokens = ...\n",
    "        \n",
    "        # Use super().forward(..., ...) to compute CrossEntropyLoss\n",
    "        # YOUR CODE HERE\n",
    "        ..."
   ]
  },
  {
   "cell_type": "markdown",
   "metadata": {},
   "source": [
    "Проверим как работает класс `LMCrossEntropyLoss`. Важно помнить, что при языковом моделировании мы предсказываем следующий токен, то есть `tokens` и `outputs` смещены друг относительно друга."
   ]
  },
  {
   "cell_type": "code",
   "execution_count": 59,
   "metadata": {},
   "outputs": [
    {
     "data": {
      "text/plain": [
       "tensor([ 3.3636,  0.4519, 23.0000])"
      ]
     },
     "execution_count": 59,
     "metadata": {},
     "output_type": "execute_result"
    }
   ],
   "source": [
    "loss = LMCrossEntropyLoss(reduction='none')\n",
    "max_len_testing    = 3\n",
    "batch_size_testing = 2\n",
    "vocab_size_testing = 5\n",
    "\n",
    "logits = torch.zeros((max_len_testing, batch_size_testing, vocab_size_testing))\n",
    "tokens = torch.zeros((max_len_testing, batch_size_testing)).long()\n",
    "lens   = torch.tensor([2, 3])\n",
    "\n",
    "logits[:, 0, 0] = torch.tensor([1, -1, 0])\n",
    "logits[:, 0, 1] = torch.tensor([2, 3,  0])\n",
    "logits[:, 0, 2] = torch.tensor([3, 2,  0])\n",
    "logits[:, 0, 3] = torch.tensor([4, 2,  0])\n",
    "logits[:, 0, 4] = torch.tensor([5, 2,  0])\n",
    "\n",
    "\n",
    "logits[:, 1, 0] = torch.tensor([-1, 10, 2])\n",
    "logits[:, 1, 1] = torch.tensor([2, 30,  1])\n",
    "logits[:, 1, 2] = torch.tensor([4, 20,  1])\n",
    "logits[:, 1, 3] = torch.tensor([5, -10, 4])\n",
    "logits[:, 1, 4] = torch.tensor([1, 7,  13])\n",
    "\n",
    "tokens[:, 0]    = torch.tensor([1, 4, 0])\n",
    "tokens[:, 1]    = torch.tensor([3, 1, 4])\n",
    "\n",
    "\n",
    "loss(outputs=logits, tokens=tokens, tokens_lens=lens)"
   ]
  },
  {
   "cell_type": "markdown",
   "metadata": {},
   "source": [
    "Для оценки качества нам также необходимо вычислять долю правильно предсказанных токенов. Реализуйте класс для вычисления точности."
   ]
  },
  {
   "cell_type": "code",
   "execution_count": 60,
   "metadata": {
    "ExecuteTime": {
     "end_time": "2024-03-30T22:43:34.348345Z",
     "start_time": "2024-03-30T22:43:34.343850Z"
    }
   },
   "outputs": [],
   "source": [
    "class LMAccuracy(torch.nn.Module):\n",
    "    def __init__(self):\n",
    "        super().__init__()\n",
    "        \n",
    "    def forward(self, outputs, tokens, tokens_lens):\n",
    "        \"\"\"\n",
    "        :param torch.Tensor outputs: Output from RNNLM.forward. Shape: [T, B, V]\n",
    "        :param torch.Tensor tokens: Batch of tokens. Shape: [T, B]\n",
    "        :param torch.Tensor tokens_lens: Length of each sequence in batch\n",
    "        :return torch.Tensor: Accuracy for given logits and tokens\n",
    "        \"\"\"\n",
    "        # Use torch.nn.utils.rnn.pack_padded_sequence().data to remove padding and flatten logits and tokens\n",
    "        # Do not forget specify enforce_sorted=False and correct value of batch_first \n",
    "        # YOUR CODE HERE\n",
    "        packed_outputs = ...\n",
    "        packed_tokens = ...\n",
    "        \n",
    "        ..."
   ]
  },
  {
   "cell_type": "markdown",
   "metadata": {},
   "source": [
    "Проверим как работает класс `LMAccuracy`."
   ]
  },
  {
   "cell_type": "code",
   "execution_count": 61,
   "metadata": {},
   "outputs": [
    {
     "data": {
      "text/plain": [
       "tensor(0.3333)"
      ]
     },
     "execution_count": 61,
     "metadata": {},
     "output_type": "execute_result"
    }
   ],
   "source": [
    "metric = LMAccuracy()\n",
    "max_len_testing    = 3\n",
    "batch_size_testing = 2\n",
    "vocab_size_testing = 5\n",
    "\n",
    "logits = torch.zeros((max_len_testing, batch_size_testing, vocab_size_testing))\n",
    "tokens = torch.zeros((max_len_testing, batch_size_testing)).long()\n",
    "lens   = torch.tensor([2, 3])\n",
    "\n",
    "logits[:, 0, 0] = torch.tensor([1, -1, 0])\n",
    "logits[:, 0, 1] = torch.tensor([2, 3,  0])\n",
    "logits[:, 0, 2] = torch.tensor([3, 2,  0])\n",
    "logits[:, 0, 3] = torch.tensor([4, 2,  0])\n",
    "logits[:, 0, 4] = torch.tensor([5, 2,  0])\n",
    "\n",
    "\n",
    "logits[:, 1, 0] = torch.tensor([-1, 10, 2])\n",
    "logits[:, 1, 1] = torch.tensor([2, 30,  1])\n",
    "logits[:, 1, 2] = torch.tensor([4, 20,  1])\n",
    "logits[:, 1, 3] = torch.tensor([5, -10, 4])\n",
    "logits[:, 1, 4] = torch.tensor([1, 7,  13])\n",
    "\n",
    "tokens[:, 0]    = torch.tensor([1, 4, 0])\n",
    "tokens[:, 1]    = torch.tensor([3, 1, 4])\n",
    "\n",
    "\n",
    "metric(outputs=logits, tokens=tokens, tokens_lens=lens)"
   ]
  },
  {
   "cell_type": "code",
   "execution_count": 62,
   "metadata": {},
   "outputs": [],
   "source": [
    "metric = LMAccuracy()\n",
    "max_len_testing    = 10\n",
    "batch_size_testing = 3\n",
    "vocab_size_testing = 200\n",
    "\n",
    "set_global_seed(42)\n",
    "logits = torch.randn((max_len_testing, batch_size_testing, vocab_size_testing))\n",
    "logits[:, :, 1] = 1000\n",
    "\n",
    "tokens = torch.randint(low=0, high=vocab_size_testing, size=(max_len_testing, batch_size_testing))\n",
    "tokens[:5, :] = 1\n",
    "lens   = torch.tensor([10, 4, 9])\n",
    "\n",
    "assert metric(outputs=logits, tokens=tokens, tokens_lens=lens) == (4 + 3 + 4) / (lens - 1).sum()"
   ]
  },
  {
   "cell_type": "markdown",
   "metadata": {},
   "source": [
    "Модифицируйте функции `train_epoch`, `evaluate`, `train` для обучения LM.\n",
    "\n",
    "**При вычислении точности, обратите внимание на то, что мы не предсказываем первый токен в каждой последовательности и токены, относящиеся к паддингу.**"
   ]
  },
  {
   "cell_type": "code",
   "execution_count": 63,
   "metadata": {
    "ExecuteTime": {
     "end_time": "2024-03-30T22:43:35.025284Z",
     "start_time": "2024-03-30T22:43:35.019283Z"
    }
   },
   "outputs": [],
   "source": [
    "def train_epoch_lm(dataloader, model, loss_fn, optimizer, device):\n",
    "    model.train()\n",
    "    for idx, data in enumerate(dataloader):\n",
    "        # 1. Take data from batch\n",
    "        # 2. Perform forward pass\n",
    "        # 3. Evaluate loss\n",
    "        # 4. Make optimizer step\n",
    "        # YOUR CODE HERE\n",
    "        ...\n",
    "    \n",
    "def evaluate_lm(dataloader, model, loss_fn, device):\n",
    "    model.eval()\n",
    "    \n",
    "    total_tokens = 0\n",
    "    total_loss = 0.0\n",
    "    total_accuracy = 0.0\n",
    "    \n",
    "    accuracy_fn = LMAccuracy()\n",
    "    with torch.no_grad():\n",
    "        for idx, data in enumerate(dataloader):\n",
    "            # 1. Take data from batch\n",
    "            # 2. Perform forward pass\n",
    "            # 3. Evaluate loss\n",
    "            # 4. Evaluate accuracy\n",
    "            # YOUR CODE HERE\n",
    "            ...\n",
    "            \n",
    "    return total_loss / total_tokens, total_accuracy / total_tokens\n",
    "\n",
    "def train_lm(\n",
    "    train_loader, test_loader, model, loss_fn, optimizer, device, num_epochs\n",
    "):\n",
    "    test_losses = []\n",
    "    train_losses = []\n",
    "    test_accuracies = []\n",
    "    train_accuracies = []\n",
    "    for epoch in range(num_epochs):\n",
    "        train_epoch_lm(train_loader, model, loss_fn, optimizer, device)\n",
    "        \n",
    "        train_loss, train_acc = evaluate_lm(train_loader, model, loss_fn, device)\n",
    "        train_accuracies.append(train_acc)\n",
    "        train_losses.append(train_loss)\n",
    "        \n",
    "        test_loss, test_acc = evaluate_lm(test_loader, model, loss_fn, device)\n",
    "        test_accuracies.append(test_acc)\n",
    "        test_losses.append(test_loss)\n",
    "        \n",
    "        print(\n",
    "            'Epoch: {0:d}/{1:d}. Loss (Train/Test): {2:.3f}/{3:.3f}. Accuracy (Train/Test): {4:.3f}/{5:.3f}'.format(\n",
    "                epoch + 1, num_epochs, train_losses[-1], test_losses[-1], train_accuracies[-1], test_accuracies[-1]\n",
    "            )\n",
    "        )\n",
    "    return train_losses, train_accuracies, test_losses, test_accuracies"
   ]
  },
  {
   "cell_type": "markdown",
   "metadata": {},
   "source": [
    "Теперь у нас всё готово для обучения модели."
   ]
  },
  {
   "cell_type": "markdown",
   "metadata": {
    "ExecuteTime": {
     "end_time": "2021-04-02T01:06:12.736180Z",
     "start_time": "2021-04-02T01:06:12.708814Z"
    }
   },
   "source": [
    "Создадим токенизатор с `<sos>`, `<eos>` токенами.\n",
    "\n",
    "Обратите внимание, что в отличие от классификации текстов нам необходимо значительно увеличить размер словаря, чтобы доля `<unk>` токенов была не велика.\n",
    "\n",
    "Так же, так как задача генерации значительно сложнее задачи классификации текстов будем обучать модель только на префиксах рецензий длины $20$. Это позволяет значительно ускорить обучение."
   ]
  },
  {
   "cell_type": "code",
   "execution_count": 64,
   "metadata": {},
   "outputs": [],
   "source": [
    "# min_freq=8 is approximately equivalent to max_size=30000. \n",
    "#   You can lower min_freq in order to make model vocabulary more diverse \n",
    "trainer = trainers.WordLevelTrainer(\n",
    "    min_frequency  = 8,\n",
    "    special_tokens = ['<pad>', '<unk>', '<sos>', '<eos>'],\n",
    ")\n",
    "\n",
    "tokenizer = tokenizers.Tokenizer(\n",
    "    model = tokenizers.models.WordLevel(unk_token=\"<unk>\")\n",
    ")"
   ]
  },
  {
   "cell_type": "code",
   "execution_count": 65,
   "metadata": {},
   "outputs": [
    {
     "name": "stderr",
     "output_type": "stream",
     "text": [
      "100%|█████████████████████████████████████████████| 50000/50000 [00:28<00:00, 1778.01it/s]\n"
     ]
    }
   ],
   "source": [
    "tokenizer.train_from_iterator(tqdm(get_data_iterator(), total=50_000), trainer=trainer)"
   ]
  },
  {
   "cell_type": "code",
   "execution_count": 66,
   "metadata": {},
   "outputs": [
    {
     "name": "stdout",
     "output_type": "stream",
     "text": [
      "ID = 0, token = <pad>\n",
      "ID = 1, token = <unk>\n",
      "ID = 2, token = <sos>\n",
      "ID = 3, token = <eos>\n",
      "ID = 4, token = movie\n",
      "ID = 5, token = film\n",
      "ID = 6, token = one\n",
      "ID = 7, token = like\n",
      "ID = 8, token = good\n",
      "ID = 9, token = time\n"
     ]
    }
   ],
   "source": [
    "assert tokenizer.get_vocab_size() == 30000\n",
    "\n",
    "for i in range(10):\n",
    "    token = tokenizer.id_to_token(i)\n",
    "    print(f\"ID = {i}, token = {token}\")\n"
   ]
  },
  {
   "cell_type": "code",
   "execution_count": 67,
   "metadata": {
    "ExecuteTime": {
     "end_time": "2024-03-30T22:43:49.510042Z",
     "start_time": "2024-03-30T22:43:36.069005Z"
    }
   },
   "outputs": [],
   "source": [
    "lm_test_dataset = LargeMovieReviewDataset(test_data_path, tokenizer, max_len=20, pad_sos=True, pad_eos=True)\n",
    "lm_train_dataset = LargeMovieReviewDataset(train_data_path, tokenizer, max_len=20, pad_sos=True, pad_eos=True)"
   ]
  },
  {
   "cell_type": "markdown",
   "metadata": {},
   "source": [
    "Создадим даталоадеры для тестовой и обучающей выборок:"
   ]
  },
  {
   "cell_type": "code",
   "execution_count": 68,
   "metadata": {
    "ExecuteTime": {
     "end_time": "2024-03-30T22:43:49.514599Z",
     "start_time": "2024-03-30T22:43:49.511905Z"
    }
   },
   "outputs": [],
   "source": [
    "lm_test_dataloader = DataLoader(\n",
    "    lm_test_dataset, batch_size=196, shuffle=False, num_workers=4, \n",
    "    collate_fn=partial(collate_fn, padding_value=tokenizer.token_to_id('<pad>'))\n",
    ")\n",
    "lm_train_dataloader = DataLoader(\n",
    "    lm_train_dataset, batch_size=196, shuffle=True, num_workers=4, \n",
    "    collate_fn=partial(collate_fn, padding_value=tokenizer.token_to_id('<pad>'))\n",
    ")"
   ]
  },
  {
   "cell_type": "markdown",
   "metadata": {},
   "source": [
    "Убедитесь, что все предложения имеют в начале `<sos>` токен, а в конце — `<eos>` токен."
   ]
  },
  {
   "cell_type": "code",
   "execution_count": 69,
   "metadata": {
    "ExecuteTime": {
     "end_time": "2024-03-30T22:43:49.750508Z",
     "start_time": "2024-03-30T22:43:49.516160Z"
    }
   },
   "outputs": [
    {
     "data": {
      "text/plain": [
       "(tensor([[    2,     2,     2,  ...,     2,     2,     2],\n",
       "         [    5,     4,    44,  ...,   873,   106, 24601],\n",
       "         [   67,   221,   135,  ...,    63,     1, 16032],\n",
       "         ...,\n",
       "         [18332,  2180,  3206,  ...,  3388,  7180,  6161],\n",
       "         [  207,    12, 14703,  ...,   763,     6,   990],\n",
       "         [    3,     3,     3,  ...,     3,     3,     3]]),\n",
       " tensor([20, 20, 20, 20, 20, 20, 20, 20, 20, 20, 20, 20, 20, 20, 20, 20, 20, 20,\n",
       "         20, 20, 20, 20, 20, 20, 20, 20, 20, 20, 20, 20, 20, 20, 20, 20, 20, 20,\n",
       "         20, 20, 20, 20, 20, 20, 20, 20, 20, 20, 20, 20, 20, 20, 20, 20, 20, 20,\n",
       "         20, 20, 20, 20, 20, 20, 20, 20, 20, 20, 20, 20, 20, 20, 20, 20, 20, 20,\n",
       "         20, 20, 20, 20, 20, 20, 20, 20, 20, 20, 20, 20, 20, 20, 20, 20, 20, 20,\n",
       "         20, 20, 20, 20, 20, 20, 20, 20, 20, 20, 20, 20, 20, 20, 20, 20, 20, 20,\n",
       "         20, 20, 20, 20, 20, 20, 20, 20, 20, 20, 20, 20, 20, 20, 20, 20, 20, 20,\n",
       "         20, 20, 20, 20, 20, 20, 20, 20, 20, 20, 20, 20, 20, 20, 20, 20, 20, 20,\n",
       "         20, 20, 20, 20, 20, 20, 20, 20, 20, 20, 20, 20, 20, 20, 20, 20, 20, 20,\n",
       "         20, 20, 20, 20, 20, 20, 20, 20, 20, 20, 20, 20, 20, 20, 20, 20, 20, 20,\n",
       "         20, 20, 20, 20, 20, 20, 20, 20, 20, 20, 20, 20, 20, 20, 20, 20]))"
      ]
     },
     "execution_count": 69,
     "metadata": {},
     "output_type": "execute_result"
    }
   ],
   "source": [
    "batch = next(iter(lm_train_dataloader))\n",
    "batch['tokens'], batch['tokens_lens']"
   ]
  },
  {
   "cell_type": "markdown",
   "metadata": {},
   "source": [
    "Создадим модель, функцию потерь и оптимизатор: "
   ]
  },
  {
   "cell_type": "code",
   "execution_count": 70,
   "metadata": {
    "ExecuteTime": {
     "end_time": "2024-03-30T22:44:12.583751Z",
     "start_time": "2024-03-30T22:44:12.396308Z"
    }
   },
   "outputs": [],
   "source": [
    "lm_model = RNNLM(\n",
    "    embedding_dim=512, hidden_dim=512, tokenizer=tokenizer, dropout=0.6, layers_dropout=0.6, num_layers=2\n",
    ").to(device=device)"
   ]
  },
  {
   "cell_type": "code",
   "execution_count": 71,
   "metadata": {
    "ExecuteTime": {
     "end_time": "2024-03-30T22:44:13.200355Z",
     "start_time": "2024-03-30T22:44:13.197422Z"
    }
   },
   "outputs": [],
   "source": [
    "lm_loss_fn = LMCrossEntropyLoss(reduction='mean')\n",
    "lm_optimizer = torch.optim.Adam(lm_model.parameters(), lr=0.005, weight_decay=1.2e-6)"
   ]
  },
  {
   "cell_type": "markdown",
   "metadata": {},
   "source": [
    "Обучим модель:"
   ]
  },
  {
   "cell_type": "code",
   "execution_count": 72,
   "metadata": {
    "ExecuteTime": {
     "end_time": "2024-03-30T22:43:49.959423Z",
     "start_time": "2024-03-30T22:43:49.950621Z"
    }
   },
   "outputs": [
    {
     "name": "stdout",
     "output_type": "stream",
     "text": [
      "CPU times: user 970 ms, sys: 79.9 ms, total: 1.05 s\n",
      "Wall time: 1.07 s\n"
     ]
    }
   ],
   "source": [
    "%%time\n",
    "lm_model = torch.compile(lm_model)"
   ]
  },
  {
   "cell_type": "code",
   "execution_count": 73,
   "metadata": {
    "ExecuteTime": {
     "end_time": "2024-03-30T22:45:24.729739Z",
     "start_time": "2024-03-30T22:44:15.095894Z"
    }
   },
   "outputs": [
    {
     "name": "stdout",
     "output_type": "stream",
     "text": [
      "Epoch: 1/10. Loss (Train/Test): 7.588/7.713. Accuracy (Train/Test): 0.077/0.077\n",
      "Epoch: 2/10. Loss (Train/Test): 7.499/7.667. Accuracy (Train/Test): 0.078/0.078\n",
      "Epoch: 3/10. Loss (Train/Test): 7.337/7.566. Accuracy (Train/Test): 0.085/0.084\n",
      "Epoch: 4/10. Loss (Train/Test): 7.158/7.466. Accuracy (Train/Test): 0.093/0.092\n",
      "Epoch: 5/10. Loss (Train/Test): 6.986/7.396. Accuracy (Train/Test): 0.097/0.095\n",
      "Epoch: 6/10. Loss (Train/Test): 6.813/7.356. Accuracy (Train/Test): 0.100/0.097\n",
      "Epoch: 7/10. Loss (Train/Test): 6.654/7.341. Accuracy (Train/Test): 0.104/0.101\n",
      "Epoch: 8/10. Loss (Train/Test): 6.539/7.372. Accuracy (Train/Test): 0.105/0.099\n",
      "Epoch: 9/10. Loss (Train/Test): 6.307/7.335. Accuracy (Train/Test): 0.112/0.103\n",
      "Epoch: 10/10. Loss (Train/Test): 6.148/7.364. Accuracy (Train/Test): 0.116/0.105\n"
     ]
    }
   ],
   "source": [
    "lm_train_losses, lm_train_accuracies, lm_test_losses, lm_test_accuracies = train_lm(\n",
    "    lm_train_dataloader, lm_test_dataloader, lm_model, lm_loss_fn, lm_optimizer, device, 10\n",
    ")"
   ]
  },
  {
   "cell_type": "markdown",
   "metadata": {},
   "source": [
    "## `Реализация декодера (1 балл)`"
   ]
  },
  {
   "cell_type": "markdown",
   "metadata": {},
   "source": [
    "Теперь, реализуем последнюю деталь — декодирование с использованием обученной модели.\n",
    "Есть несколько вариантов. Рассмотрим два самых простых:\n",
    "1. **Жадное декодирование.** На каждом шаге мы выбираем токен с максимальной вероятностью и используем его для обновления скрытого состояния RNN.\n",
    "2. **Top-k sampling.** На очередном шаге рассматриваются $k$ токенов с самыми большими вероятностями. Остальные токены игнорируются. Из выбранных токенов семплируется следующий токен пропорционально их вероятностям.\n",
    "\n",
    "Прочитать подробнее про разные варианты декодирования можно по ссылкам:\n",
    "1. [От huggingface](https://huggingface.co/blog/how-to-generate)\n",
    "2. [На towardsdatascience](https://towardsdatascience.com/decoding-strategies-that-you-need-to-know-for-response-generation-ba95ee0faadc)"
   ]
  },
  {
   "cell_type": "markdown",
   "metadata": {},
   "source": [
    "Существенным в процессе декодирования является критерий останова. Как только очередной самый вероятный символ оказался `<eos>`, то данная последовательность считается сгенерированной. Однако, может так оказаться, что `<eos>` никогда не будет выбран, тогда необходимо прекратить генерацию, как только длина последовательности перейдёт порог `max_generated_len`."
   ]
  },
  {
   "cell_type": "code",
   "execution_count": 74,
   "metadata": {
    "ExecuteTime": {
     "end_time": "2024-03-30T22:46:24.344570Z",
     "start_time": "2024-03-30T22:46:24.337751Z"
    }
   },
   "outputs": [],
   "source": [
    "@torch.no_grad()\n",
    "def decode(\n",
    "    model, start_tokens, start_tokens_lens, \n",
    "    max_generated_len=20, top_k=None, eos_idx=tokenizer.token_to_id('<eos>')\n",
    "):\n",
    "    \"\"\"\n",
    "    :param RNNLM model: Model\n",
    "    :param torch.Tensor start_tokens: Batch of seed tokens. Shape: [T, B]\n",
    "    :param torch.Tensor start_tokens_lens: Length of each sequence in batch. Shape: [B]\n",
    "    :param int max_generated_len: Maximum lenght of generated samples\n",
    "    :param Optional[int] top_k: Number of tokens with the largest probability to sample from\n",
    "    :return Tuple[torch.Tensor, torch.Tensor]. \n",
    "        Newly predicted tokens and length of generated part. Shape [T*, B], [B]\n",
    "    \"\"\"\n",
    "    # Get embedding for start_tokens\n",
    "    # YOUR CODE HERE\n",
    "    embedding = ...\n",
    "    # Pass embedding through rnn and collect hidden states and cell states for each time moment\n",
    "    all_h, all_c = [], []\n",
    "    h = embedding.new_zeros([model.rnn.num_layers, start_tokens.shape[1], model.hidden_dim])\n",
    "    c = embedding.new_zeros([model.rnn.num_layers, start_tokens.shape[1], model.hidden_dim])\n",
    "    for time_step in range(start_tokens.shape[0]):\n",
    "        # YOUR CODE HERE\n",
    "        ...\n",
    "        \n",
    "    all_h = torch.stack(all_h, dim=1)\n",
    "    all_c = torch.stack(all_c, dim=1)\n",
    "    # Take final hidden state and cell state for each start sequence in batch\n",
    "    # We will use them as h_0, c_0 for generation new tokens\n",
    "    h = all_h[:, start_tokens_lens - 1, torch.arange(start_tokens_lens.shape[0])]\n",
    "    c = all_c[:, start_tokens_lens - 1, torch.arange(start_tokens_lens.shape[0])]\n",
    "    \n",
    "    # List of predicted tokens for each time step\n",
    "    predicted_tokens = []\n",
    "    # Length of generated part for each object in the batch\n",
    "    decoded_lens = torch.zeros_like(start_tokens_lens, dtype=torch.long)\n",
    "    # Boolean mask where we store if the sequence has already generated\n",
    "    # i.e. `<eos>` was selected on any step\n",
    "    is_finished_decoding = torch.zeros_like(start_tokens_lens, dtype=torch.bool)\n",
    "    \n",
    "    # Stop when all sequences in the batch are finished\n",
    "    while not torch.all(is_finished_decoding) and torch.max(decoded_lens) < max_generated_len:\n",
    "        # Evaluate next token distribution using hidden state h.\n",
    "        # Note. Over first dimension h has hidden states for each layer of LSTM.\n",
    "        #     We must use hidden state from the last layer\n",
    "        # YOUR CODE HERE\n",
    "        logits = ...\n",
    "        if top_k is not None:\n",
    "            # Top-k sampling. Use only top-k most probable logits to sample next token\n",
    "            indices_to_remove = logits < torch.topk(logits, top_k)[0][..., -1, None]\n",
    "            # Mask non top-k logits\n",
    "            logits[indices_to_remove] = -1e10\n",
    "            # Sample next_token. \n",
    "            # YOUR CODE HERE\n",
    "            next_token = ...\n",
    "        else:\n",
    "            # Select most probable token\n",
    "            # YOUR CODE HERE\n",
    "            next_token = ...\n",
    "        predicted_tokens.append(next_token)\n",
    "        \n",
    "        decoded_lens += (~is_finished_decoding)\n",
    "        is_finished_decoding |= (next_token == torch.tensor(eos_idx))\n",
    "\n",
    "        # Compute embedding for next token\n",
    "        # YOUR CODE HERE\n",
    "        embedding = ...\n",
    "        \n",
    "        # Update hidden and cell states\n",
    "        # YOUR CODE HERE\n",
    "        _, (h, c) = ...\n",
    "        \n",
    "    return torch.stack(predicted_tokens), decoded_lens"
   ]
  },
  {
   "cell_type": "markdown",
   "metadata": {},
   "source": [
    "Для тестирования создадим удобный класс `FakeLM`, который будет реализовывать весь необходимый функционал, а именно:\n",
    "\n",
    "- `word_embeddings` - по токенам возвращает их эмбеддинги;\n",
    "\n",
    "- `output` - по вектору контекста (h) возвращает вероятности следующих токенов;\n",
    "\n",
    "- `rnn` - обновляет контекст. Будем использовать класс `FakeRNN`.\n",
    "\n",
    "Для простоты будем считать, что эмбеддинг токена и есть сам токен, а процесс генерации является марковским, то есть все переходы можно описать матрицей.\n",
    "\n",
    "Такая постановка поможет нам удобно задать все переходы и нарисовать их на бумаге (если возникнет необходимость в отладке). Кроме того, мы можем не думать об обновлении контекста, так как контекст и есть текущее слово (его эмбеддинг)."
   ]
  },
  {
   "cell_type": "code",
   "execution_count": 75,
   "metadata": {},
   "outputs": [],
   "source": [
    "class FakeRNN:\n",
    "    \n",
    "    def __init__(self):\n",
    "        \n",
    "        self.num_layers = 1\n",
    "    \n",
    "    def __call__(self, embedding, h_c):\n",
    "        \"\"\"\n",
    "        :param torch.Tensor embedding: Batch of embedding. Shape: [T, B, E]\n",
    "        :param Optional[Tuple[torch.Tensor, torch.Tensor]] h_c: initial hidden state and initial cell state\n",
    "        \"\"\"\n",
    "        \n",
    "        return None, (embedding, torch.zeros_like(embedding))\n",
    "\n",
    "\n",
    "class FakeLM:\n",
    "    \n",
    "    def __init__(self, rnn, transition_matrix):\n",
    "        self.rnn = rnn\n",
    "        self.transition_matrix = transition_matrix\n",
    "        self.hidden_dim = 1\n",
    "        \n",
    "    def word_embeddings(self, tokens):\n",
    "        \"\"\"\n",
    "        :param torch.Tensor tokens: Batch of seed tokens. Shape: [T, B] or [B]\n",
    "        :return torch.Tensor\n",
    "            Batch of tokens embeddings. Shape: [T, BS, E] or [B, E]\n",
    "        \"\"\"\n",
    "        \n",
    "        return tokens[..., None].float()\n",
    "    \n",
    "    def output(self, h):\n",
    "        \"\"\"\n",
    "        :param torch.Tensor h: Batch of seed tokens. Shape: [B, E]\n",
    "        :return torch.Tensor.\n",
    "            Batch of new_tokens logits. Shape: [B, V]\n",
    "        \"\"\"\n",
    "        \n",
    "        idx  = h.long().ravel().cpu().numpy()\n",
    "        logits = list(self.transition_matrix[i] for i in idx)\n",
    "        logits = torch.stack(logits, dim=0).float()\n",
    "        return logits\n",
    "    \n",
    "    "
   ]
  },
  {
   "cell_type": "markdown",
   "metadata": {},
   "source": [
    "#### `Тест 1`\n",
    "\n",
    "Зададим переходную матрицу `transitions` так, чтобы после токена $i$ вероятней всего следовал токен $i + 1$ mod $V$, где $V$ размер словаря. Тогда мы ожидаем получить циклические последовательности. "
   ]
  },
  {
   "cell_type": "code",
   "execution_count": 76,
   "metadata": {},
   "outputs": [],
   "source": [
    "transitions = {\n",
    "    0: torch.tensor([4, 5, 0, 0, 0]),\n",
    "    1: torch.tensor([0, 4, 5, 0, 0]),\n",
    "    2: torch.tensor([0, 0, 4, 5, 0]),\n",
    "    3: torch.tensor([0, 0, 0, 4, 5]),\n",
    "    4: torch.tensor([5, 0, 0, 0, 4]),\n",
    "}\n",
    "\n",
    "fake_lm = FakeLM(FakeRNN(), transitions)"
   ]
  },
  {
   "cell_type": "code",
   "execution_count": 77,
   "metadata": {},
   "outputs": [],
   "source": [
    "decoded_tokens, decoded_lens = decode(\n",
    "    model             = fake_lm,\n",
    "    start_tokens      = torch.zeros((4, 3)),\n",
    "    start_tokens_lens = torch.tensor([1, 2, 3]),\n",
    "    eos_idx           = 10,\n",
    "    max_generated_len = 8\n",
    ")\n"
   ]
  },
  {
   "cell_type": "code",
   "execution_count": 78,
   "metadata": {},
   "outputs": [],
   "source": [
    "assert decoded_tokens.shape == (8, 3), f\"Shape = {decoded_tokens.shape}\"\n",
    "assert (decoded_tokens[:, 0] == torch.tensor([1, 2, 3, 4, 0, 1, 2, 3])).all()\n",
    "assert (decoded_tokens[:, 1] == torch.tensor([1, 2, 3, 4, 0, 1, 2, 3])).all()\n",
    "assert (decoded_tokens[:, 2] == torch.tensor([1, 2, 3, 4, 0, 1, 2, 3])).all()"
   ]
  },
  {
   "cell_type": "markdown",
   "metadata": {},
   "source": [
    "#### `Тест 2`\n",
    "\n",
    "Усложним и зададим разные начальные токены."
   ]
  },
  {
   "cell_type": "code",
   "execution_count": 79,
   "metadata": {},
   "outputs": [],
   "source": [
    "start_tokens = torch.tensor(\n",
    "    [\n",
    "        [0, 0, 0],\n",
    "        [0, 1, 1],\n",
    "        [0, 0, 2],\n",
    "        [0, 0, 0]\n",
    "    ]\n",
    ")\n",
    "\n",
    "decoded_tokens, decoded_lens = decode(\n",
    "    model             = fake_lm,\n",
    "    start_tokens      = start_tokens,\n",
    "    start_tokens_lens = torch.tensor([1, 2, 3]),\n",
    "    eos_idx           = 10,\n",
    "    max_generated_len = 8\n",
    ")"
   ]
  },
  {
   "cell_type": "code",
   "execution_count": 80,
   "metadata": {},
   "outputs": [],
   "source": [
    "assert decoded_tokens.shape == (8, 3), f\"Shape = {decoded_tokens.shape}\"\n",
    "assert (decoded_tokens[:, 0] == torch.tensor([1, 2, 3, 4, 0, 1, 2, 3])).all()\n",
    "assert (decoded_tokens[:, 1] == torch.tensor([2, 3, 4, 0, 1, 2, 3, 4])).all()\n",
    "assert (decoded_tokens[:, 2] == torch.tensor([3, 4, 0, 1, 2, 3, 4, 0])).all()"
   ]
  },
  {
   "cell_type": "code",
   "execution_count": 81,
   "metadata": {},
   "outputs": [],
   "source": [
    "decoded_tokens, decoded_lens = decode(\n",
    "    model             = fake_lm,\n",
    "    start_tokens      = start_tokens,\n",
    "    start_tokens_lens = torch.tensor([1, 2, 3]),\n",
    "    eos_idx           = 4,\n",
    "    max_generated_len = 8\n",
    ")\n",
    "assert (decoded_lens == torch.tensor([4, 3, 2])).all()\n",
    "\n",
    "assert (decoded_tokens[:, 0] == torch.tensor([1, 2, 3, 4])).all()\n",
    "assert (decoded_tokens[:, 1] == torch.tensor([2, 3, 4, 0])).all()\n",
    "assert (decoded_tokens[:, 2] == torch.tensor([3, 4, 0, 1])).all()"
   ]
  },
  {
   "cell_type": "markdown",
   "metadata": {},
   "source": [
    "#### `Тест 3`\n",
    "\n",
    "Перейдем к тестированию `top_k`. Благодаря этому параметру мы можем увеличить разнообразие текстов. Поскольку проверять недетерминированную генерацию достаточно трудно, мы проверим, что в среднем генерируются адекватные последовательности.\n",
    "\n",
    "При заданной нами переходной матрице мы ожидаем:\n",
    "\n",
    "- При `top_k = 1` получим детерминированную генерацию;\n",
    "\n",
    "- При `top_k = 2` получим последовательности, где в почти в половине случаев будем стоять на месте;\n",
    "\n",
    "- При `top_k > 2` получим похожее на `top_k = 2`."
   ]
  },
  {
   "cell_type": "code",
   "execution_count": 82,
   "metadata": {},
   "outputs": [],
   "source": [
    "set_global_seed(42)\n",
    "\n",
    "decoded_tokens, decoded_lens = decode(\n",
    "    model             = fake_lm,\n",
    "    start_tokens      = torch.zeros((4, 3)),\n",
    "    start_tokens_lens = torch.tensor([1, 2, 3]),\n",
    "    eos_idx           = 10,\n",
    "    max_generated_len = 8,\n",
    "    top_k             = 1\n",
    ")"
   ]
  },
  {
   "cell_type": "code",
   "execution_count": 83,
   "metadata": {},
   "outputs": [],
   "source": [
    "assert decoded_tokens.shape == (8, 3), f\"Shape = {decoded_tokens.shape}\"\n",
    "assert (decoded_tokens[:, 0] == torch.tensor([1, 2, 3, 4, 0, 1, 2, 3])).all()\n",
    "assert (decoded_tokens[:, 1] == torch.tensor([1, 2, 3, 4, 0, 1, 2, 3])).all()\n",
    "assert (decoded_tokens[:, 2] == torch.tensor([1, 2, 3, 4, 0, 1, 2, 3])).all()"
   ]
  },
  {
   "cell_type": "code",
   "execution_count": 84,
   "metadata": {},
   "outputs": [
    {
     "data": {
      "text/plain": [
       "tensor([[1, 1, 1],\n",
       "        [1, 2, 1],\n",
       "        [2, 3, 1],\n",
       "        [3, 4, 2],\n",
       "        [4, 0, 3],\n",
       "        [0, 0, 4],\n",
       "        [1, 1, 0],\n",
       "        [2, 2, 1]])"
      ]
     },
     "execution_count": 84,
     "metadata": {},
     "output_type": "execute_result"
    }
   ],
   "source": [
    "set_global_seed(42)\n",
    "\n",
    "decoded_tokens_k2, decoded_lens = decode(\n",
    "    model             = fake_lm,\n",
    "    start_tokens      = torch.zeros((4, 3)),\n",
    "    start_tokens_lens = torch.tensor([1, 2, 3]),\n",
    "    eos_idx           = 10,\n",
    "    max_generated_len = 8,\n",
    "    top_k             = 2\n",
    ")\n",
    "\n",
    "decoded_tokens_k2"
   ]
  },
  {
   "cell_type": "code",
   "execution_count": 85,
   "metadata": {},
   "outputs": [],
   "source": [
    "set_global_seed(42)\n",
    "\n",
    "decoded_tokens_k3, decoded_lens = decode(\n",
    "    model             = fake_lm,\n",
    "    start_tokens      = torch.zeros((4, 3)),\n",
    "    start_tokens_lens = torch.tensor([1, 2, 3]),\n",
    "    eos_idx           = 10,\n",
    "    max_generated_len = 8,\n",
    "    top_k             = 3\n",
    ")"
   ]
  },
  {
   "cell_type": "code",
   "execution_count": 86,
   "metadata": {},
   "outputs": [],
   "source": [
    "assert (decoded_tokens_k3 == decoded_tokens_k2).all()"
   ]
  },
  {
   "cell_type": "markdown",
   "metadata": {
    "ExecuteTime": {
     "end_time": "2021-04-02T01:38:06.232189Z",
     "start_time": "2021-04-02T01:38:06.205413Z"
    }
   },
   "source": [
    "Попробуем сгенерировать продолжения для нескольких префиксов:"
   ]
  },
  {
   "cell_type": "code",
   "execution_count": 87,
   "metadata": {
    "ExecuteTime": {
     "end_time": "2024-03-30T22:46:25.138264Z",
     "start_time": "2024-03-30T22:46:25.135301Z"
    }
   },
   "outputs": [
    {
     "data": {
      "text/plain": [
       "tensor([[  2,   2,   2,   2],\n",
       "        [  0,   1,   1,   1],\n",
       "        [  0, 392,  42, 140],\n",
       "        [  0,   4,   4,   4]])"
      ]
     },
     "execution_count": 87,
     "metadata": {},
     "output_type": "execute_result"
    }
   ],
   "source": [
    "start_tokens = torch.tensor([\n",
    "    lm_model.tokenizer.encode(['<sos>', '<pad>', '<pad>', '<pad>'], is_pretokenized=True).ids,\n",
    "    lm_model.tokenizer.encode(['<sos>', 'my', 'favorite', 'movie'], is_pretokenized=True).ids,\n",
    "    lm_model.tokenizer.encode(['<sos>', 'the', 'best', 'movie'],    is_pretokenized=True).ids,\n",
    "    lm_model.tokenizer.encode(['<sos>', 'the', 'worst', 'movie'],   is_pretokenized=True).ids,\n",
    "]).T\n",
    "\n",
    "start_tokens_lens = torch.tensor([1, 4, 4, 4])\n",
    "start_tokens"
   ]
  },
  {
   "cell_type": "code",
   "execution_count": 88,
   "metadata": {
    "ExecuteTime": {
     "end_time": "2024-03-30T22:46:25.775584Z",
     "start_time": "2024-03-30T22:46:25.524089Z"
    }
   },
   "outputs": [],
   "source": [
    "set_global_seed(42)\n",
    "\n",
    "lm_model = lm_model.cpu()\n",
    "lm_model.eval()\n",
    "decoded_tokens, decoded_lens = decode(lm_model, start_tokens, start_tokens_lens, max_generated_len=10, top_k=5)"
   ]
  },
  {
   "cell_type": "code",
   "execution_count": 89,
   "metadata": {
    "ExecuteTime": {
     "end_time": "2024-03-30T22:46:25.826630Z",
     "start_time": "2024-03-30T22:46:25.777128Z"
    }
   },
   "outputs": [
    {
     "data": {
      "text/markdown": [
       "<div class=\"alert alert-block alert-info\"> <b>&lt;sos&gt; movie great cast movie really good cast good cast good</b></div>"
      ],
      "text/plain": [
       "<IPython.core.display.Markdown object>"
      ]
     },
     "metadata": {},
     "output_type": "display_data"
    },
    {
     "data": {
      "text/markdown": [
       "<div class=\"alert alert-block alert-info\"> <b>&lt;sos&gt; &lt;unk&gt; favorite movie great story line good story line good acting even though</b></div>"
      ],
      "text/plain": [
       "<IPython.core.display.Markdown object>"
      ]
     },
     "metadata": {},
     "output_type": "display_data"
    },
    {
     "data": {
      "text/markdown": [
       "<div class=\"alert alert-block alert-info\"> <b>&lt;sos&gt; &lt;unk&gt; best movie seen long see long time movie would recommend movie movie</b></div>"
      ],
      "text/plain": [
       "<IPython.core.display.Markdown object>"
      ]
     },
     "metadata": {},
     "output_type": "display_data"
    },
    {
     "data": {
      "text/markdown": [
       "<div class=\"alert alert-block alert-info\"> <b>&lt;sos&gt; &lt;unk&gt; worst movie seen years later &lt;unk&gt; movie made &lt;unk&gt; plot holes film</b></div>"
      ],
      "text/plain": [
       "<IPython.core.display.Markdown object>"
      ]
     },
     "metadata": {},
     "output_type": "display_data"
    }
   ],
   "source": [
    "for text_idx in range(start_tokens.shape[1]):\n",
    "    decoded_text_tokens = decoded_tokens[:decoded_lens[text_idx], text_idx]\n",
    "    tokens = start_tokens[:start_tokens_lens[text_idx], text_idx].tolist() + decoded_text_tokens.tolist()\n",
    "    words = lm_model.tokenizer.decode(tokens, skip_special_tokens=False).split(' ')\n",
    "    \n",
    "    text = ' '.join(words).replace('<', '&lt;').replace('>', '&gt;')\n",
    "    display(Markdown(f'<div class=\"alert alert-block alert-info\"> <b>{text}</b></div>'))"
   ]
  },
  {
   "cell_type": "markdown",
   "metadata": {},
   "source": [
    "Попробуйте выполнить семплирование для разных $k$. Сравните результаты top-k семплирования с жадным декодированием. Опишите ваши наблюдения."
   ]
  },
  {
   "cell_type": "code",
   "execution_count": 90,
   "metadata": {
    "ExecuteTime": {
     "end_time": "2024-03-30T22:46:28.556188Z",
     "start_time": "2024-03-30T22:46:28.553997Z"
    }
   },
   "outputs": [],
   "source": [
    "# YOUR CODE HERE"
   ]
  },
  {
   "cell_type": "markdown",
   "metadata": {},
   "source": [
    "**Ответ:**"
   ]
  },
  {
   "cell_type": "markdown",
   "metadata": {},
   "source": [
    "## `Beam Search (2 балла)`"
   ]
  },
  {
   "cell_type": "markdown",
   "metadata": {},
   "source": [
    "Рассмотрим более продвинутый алгоритм для декодирования. Реализуйте алгоритм Beam Search. \n",
    "\n",
    "Прочитать подробнее про Beam Search можно по ссылкам:\n",
    "1. [От huggingface](https://huggingface.co/blog/how-to-generate#beam-search)\n",
    "2. [На wiki](https://en.wikipedia.org/w/index.php?title=Beam_search&oldid=1248868876)"
   ]
  },
  {
   "cell_type": "markdown",
   "metadata": {},
   "source": [
    "Несколько замечаний по имплементации:\n",
    "\n",
    "1. При больших размерах `beam_size` число гипотез ($B \\times \\text{beam\\_size}$) на очередном шаге может быть слишком большим. Поэтому может потребоваться разбить все гипотезы на отдельные батчи и делать forward-pass в несколько итераций. Используйте [`torch.split`](https://pytorch.org/docs/stable/generated/torch.split.html)\n",
    "2. Для выбора лучших гипотез используйте [`torch.topk`](https://pytorch.org/docs/stable/generated/torch.topk.html). Обратите внимание на индексы, которые возвращает эта функция (может пригодиться метод [`torch.remainder`](https://pytorch.org/docs/stable/generated/torch.remainder.html))\n",
    "3. Можно отслеживать, какие элементы в батче (или какие гипотезы) закончили генерацию. Делая forward-pass только для незавершённых гипотез, можно ускорить декодинг, однако, это усложнит реализацию"
   ]
  },
  {
   "cell_type": "markdown",
   "metadata": {},
   "source": [
    "Будем реализовывать в 2 части:\n",
    "\n",
    "- Получение всей необходимой информации из `start_tokens` в функции `beam_search_encode_start`.\n",
    "\n",
    "- Генерация и декодирования в функции `decode_beam_search`."
   ]
  },
  {
   "cell_type": "code",
   "execution_count": 91,
   "metadata": {},
   "outputs": [],
   "source": [
    "@torch.no_grad()\n",
    "def beam_search_encode_start(model, start_tokens, start_tokens_lens, beam_size):\n",
    "    \"\"\"\n",
    "    :param RNNLM model: Model\n",
    "    :param torch.Tensor start_tokens: Batch of seed tokens. Shape: [T, B]\n",
    "    :param torch.Tensor start_tokens_lens: Length of each sequence in batch. Shape: [B]\n",
    "    :param int beam_size: Size of beam\n",
    "    :return Tuple[torch.Tensor, torch.Tensor, torch.Tensor, torch.Tensor, torch.Tensor]. \n",
    "        Initialization h and c for each hypotheses, New tokens, \n",
    "        Initialize log probabilities, Initialize hypothesis\n",
    "        Shape [L, B * BS, H], [L, B * BS, H], [B * BS], [B * BS], [1, B * BS]\n",
    "    \"\"\"\n",
    "    # L — number of RNN layers in the model, H — hidden size, BS — beam size\n",
    "    #\n",
    "    # 1. Make forward pass of start_tokens through the model. \n",
    "    #      Obtain the last cell and hidden state for each element in the batch \n",
    "    #          (i.e. tensors of shape [L, B, H])\n",
    "    #      Use those states as the initialization for each hypotheses in the beam \n",
    "    #          (i.e. tensors of shape [L, B * BS, H])\n",
    "    #      Initialize probabilities for each hypotheses in the beam with 1.0\n",
    "    #          (i.e. tensor of shape [B * BS])\n",
    "    \n",
    "    # Get embeddings for the start tokens\n",
    "    # YOUR CODE HERE\n",
    "    ...\n",
    "    \n",
    "    # Make forward pass through the RNN and \n",
    "    #   obtain the last cell and hidden state for each element in the batch\n",
    "    # YOUR CODE HERE\n",
    "    start_h = ... # [L, B, H]\n",
    "    start_c = ... # [L, B, H]\n",
    "\n",
    "\n",
    "    # Use those states as the initialization for each hypotheses in the beam\n",
    "    # YOUR CODE HERE\n",
    "    h = ... # [L, B * BS, H]\n",
    "    c = ... # [L, B * BS, H]\n",
    "    \n",
    "    # Select initial tokens for each hypotheses in the beam\n",
    "    #   Compute log probabilities and select top-beam_size tokens for each element\n",
    "    #   Use them to initialize beam search state\n",
    "    # YOUR CODE HERE\n",
    "    ...\n",
    "    \n",
    "    new_tokens = ... # [B * BS]\n",
    "    log_probas = ... # [B * BS]\n",
    "    hypothesis = ... # [1, B * BS]\n",
    "    \n",
    "    return h, c, new_tokens, log_probas, hypothesis"
   ]
  },
  {
   "cell_type": "markdown",
   "metadata": {},
   "source": [
    "Проверим функцию `beam_search_encode_start`. Ниже опишем матрицу перехода, в которой содержатся логиты вероятности перехода. `Beam size` отвечает за число гипотез, то есть сколько потенциально лучших токенов мы можем взять. Например, при `beam size = 4` и начальном токене $0$, мы будем рассматривать (создадим гипотезы) токены $[1, 0, 4, 3]$ (отсортированы в порядке убывания вероятности)."
   ]
  },
  {
   "cell_type": "code",
   "execution_count": 92,
   "metadata": {},
   "outputs": [],
   "source": [
    "transitions = {\n",
    "    0: torch.tensor([4, 5, 1, 2, 3]),\n",
    "    1: torch.tensor([3, 4, 5, 1, 2]),\n",
    "    2: torch.tensor([2, 3, 4, 5, 1]),\n",
    "    3: torch.tensor([1, 2, 3, 4, 5]),\n",
    "    4: torch.tensor([5, 1, 2, 3, 4]),\n",
    "}\n",
    "\n",
    "fake_lm = FakeLM(FakeRNN(), transitions)"
   ]
  },
  {
   "cell_type": "code",
   "execution_count": 93,
   "metadata": {},
   "outputs": [],
   "source": [
    "start_tokens = torch.tensor(\n",
    "    [\n",
    "        [0, 0, 0],\n",
    "        [0, 1, 1],\n",
    "        [0, 0, 2],\n",
    "        [0, 0, 0]\n",
    "    ]\n",
    ")\n",
    "\n",
    "beam_size = 4\n",
    "h, c, new_tokens, log_probas, hypothesis = beam_search_encode_start(\n",
    "    model             = fake_lm,\n",
    "    start_tokens      = start_tokens,\n",
    "    start_tokens_lens = torch.tensor([1, 2, 3]),\n",
    "    beam_size         = beam_size\n",
    ")"
   ]
  },
  {
   "cell_type": "code",
   "execution_count": 94,
   "metadata": {},
   "outputs": [],
   "source": [
    "assert h.shape == (1, 3 * beam_size, 1)\n",
    "assert c.shape == (1, 3 * beam_size, 1)\n",
    "assert new_tokens.shape[0] == (3 * beam_size)\n",
    "assert log_probas.shape[0] == (3 * beam_size)\n",
    "assert hypothesis.shape     == (1, 3 * beam_size)"
   ]
  },
  {
   "cell_type": "code",
   "execution_count": 95,
   "metadata": {},
   "outputs": [],
   "source": [
    "assert (h[0, :, 0] == torch.tensor([0] * beam_size + [1] * beam_size + [2] * beam_size)).all()\n",
    "assert (new_tokens == torch.tensor([1, 0, 4, 3, 2, 1, 0, 4, 3, 2, 1, 0])).all()\n",
    "assert torch.isclose(log_probas[:beam_size], torch.tensor([5, 4, 3, 2, 1]).float().log_softmax(0)[:-1]).all()\n",
    "assert (hypothesis[0] == new_tokens).all()"
   ]
  },
  {
   "cell_type": "code",
   "execution_count": 96,
   "metadata": {
    "ExecuteTime": {
     "end_time": "2024-03-30T22:46:29.834960Z",
     "start_time": "2024-03-30T22:46:29.824795Z"
    }
   },
   "outputs": [],
   "source": [
    "@torch.no_grad()\n",
    "def decode_beam_search(\n",
    "    model, start_tokens, start_tokens_lens, \n",
    "    max_generated_len=20, beam_size=5, eos_idx=tokenizer.token_to_id('<eos>')\n",
    "):\n",
    "    \"\"\"\n",
    "    :param RNNLM model: Model\n",
    "    :param torch.Tensor start_tokens: Batch of seed tokens. Shape: [T, B]\n",
    "    :param torch.Tensor start_tokens_lens: Length of each sequence in batch. Shape: [B]\n",
    "    :param int max_generated_len: Maximum length of generated samples\n",
    "    :param int beam_size: Size of beam\n",
    "    :return Tuple[torch.Tensor, torch.Tensor, torch.Tensor]. \n",
    "        Newly predicted tokens, lengths of generated parts and log probabilities for each hypotheses \n",
    "        Shape [T*, B, beam_size], [T*, beam_size], [T*, beam_size]\n",
    "    \"\"\"\n",
    "    \n",
    "    # L — number of RNN layers in the model, H — hidden size, BS — beam size\n",
    "    #\n",
    "    # 1. Make forward pass of start_tokens through the model. \n",
    "    #      Initialize vector that show whether hypothesis is finished\n",
    "    #          (i.e. tensor of shape [B * BS])\n",
    "    # 2. While all sequences do not end with <eos> and their length less than max_generated_len\n",
    "    #      1. Get probabilities for the next token for each hypothesis \n",
    "    #          (i.e. tensor of shape [B * BS, V])\n",
    "    #      2. Use those probabilities to compute probability for each extension of each hypothesis\n",
    "    #          (i.e. tensor of shape [B * BS, V])\n",
    "    #      3. For each element in the batch select new BS best hypotheses\n",
    "    #          Note, that some of the hypotheses on the previous step have been finished\n",
    "    #            so their probability should not change. So you have to select BS best hypotheses\n",
    "    #            among all extension of unfinished hypotheses and finished hypotheses\n",
    "    #          As a result you will have a new token for best extensions of unfinished hypotheses\n",
    "    #          For simplisity you can use <EOS> token if you select finished hypothesis in the beam\n",
    "    #            i.e. tensor of shape [B * BS] of indices for selected hypotheses and\n",
    "    #                 tensor of shape [B * BS] of extension tokens for each hypothesis\n",
    "    #      4. Update probabilities for each hypotheses and is_finished state for each hypothesis\n",
    "    #          Concat new tokens to the existing prefixes\n",
    "    #      5. Update hidden and cell state to correspond to the selected hypothesis\n",
    "    \n",
    "    #  Make forward pass of start_tokens through the model.\n",
    "    h, c, new_tokens, log_probas, hypothesis = beam_search_encode_start(\n",
    "        model             = model, \n",
    "        start_tokens      = start_tokens, \n",
    "        start_tokens_lens = start_tokens_lens,\n",
    "        beam_size         = beam_size\n",
    "    )\n",
    "    \n",
    "    # Initialize vector that show whether hypothesis is finished\n",
    "    is_finished = new_tokens == eos_idx # [B * BS]\n",
    "    decoded_lens = torch.ones_like(is_finished, dtype=torch.long) # [B * BS]\n",
    "\n",
    "    while not torch.all(is_finished) and hypothesis.shape[0] < max_generated_len:\n",
    "        # Get probabilities for the next token for each hypothesis\n",
    "        # YOUR CODE HERE\n",
    "        ...\n",
    "\n",
    "        next_token_log_probas = ... # [B * BS, V]\n",
    "        # Use those probabilities to compute probability for each extension of each hypothesis\n",
    "        # YOUR CODE HERE\n",
    "        ...\n",
    "        extension_log_probas = ... # [B * BS, V]\n",
    "\n",
    "        # For each element in the batch select new BS best hypotheses\n",
    "        #   You can use loop over different beams\n",
    "        # YOUR CODE HERE\n",
    "        ...\n",
    "\n",
    "        # Update probabilities for each hypotheses and is_finished state and decoded_lens for each hypothesis\n",
    "        # YOUR CODE HERE\n",
    "        ...\n",
    "\n",
    "        # Concat new tokens to the existing prefixes\n",
    "        # YOUR CODE HERE\n",
    "        ...\n",
    "        \n",
    "        # Update hidden and cell state to correspond to the selected hypothesis\n",
    "        # YOUR CODE HERE\n",
    "        ...\n",
    "\n",
    "        \n",
    "    return (\n",
    "        hypothesis.view(-1, start_tokens.shape[1], beam_size), \n",
    "        decoded_lens.view(start_tokens.shape[1], beam_size),\n",
    "        log_probas.view(start_tokens.shape[1], beam_size)\n",
    "    )"
   ]
  },
  {
   "cell_type": "markdown",
   "metadata": {},
   "source": [
    "Протестируем итоговую функцию `decode_beam_search`. Рассмотрим постановку, когда действовать жадно не выгодно для генерации."
   ]
  },
  {
   "cell_type": "code",
   "execution_count": 97,
   "metadata": {},
   "outputs": [],
   "source": [
    "transitions = {\n",
    "    0: torch.tensor([-1e10, 1, -1e10, -1e10, 0.9]),\n",
    "    1: torch.tensor([-1e10, 1, 1.1, 0.9, -1e10]),\n",
    "    2: torch.tensor([-1e10, 0.9, 1, 1.1, -1e10]),\n",
    "    3: torch.tensor([-1e10, 1.1, 0.9, 1, -1e10]),\n",
    "    4: torch.tensor([-1e10, -1e10, -1e10, -1e10, 1]),\n",
    "}\n",
    "\n",
    "fake_lm = FakeLM(FakeRNN(), transitions)"
   ]
  },
  {
   "cell_type": "code",
   "execution_count": 98,
   "metadata": {},
   "outputs": [
    {
     "name": "stdout",
     "output_type": "stream",
     "text": [
      "log p(next_token | 0) = [0.    0.525 0.    0.    0.475]\n",
      "log p(next_token | 1) = [0.    0.332 0.367 0.301 0.   ]\n",
      "log p(next_token | 2) = [0.    0.301 0.332 0.367 0.   ]\n",
      "log p(next_token | 3) = [0.    0.367 0.301 0.332 0.   ]\n",
      "log p(next_token | 4) = [0. 0. 0. 0. 1.]\n"
     ]
    }
   ],
   "source": [
    "for k, v in transitions.items():\n",
    "    p = v.softmax(0).cpu().numpy()\n",
    "    p = np.around(p, 3)\n",
    "    print(f\"log p(next_token | {k}) = {p}\")"
   ]
  },
  {
   "cell_type": "markdown",
   "metadata": {},
   "source": [
    "Действуя жадно и начиная с токена $0$, мы перейдем в токен $1$, а дальше с вероятностью будем блуждать по цепочке $1 \\to 2 \\to 3 \\to 1$. Но при числе гипотез больше 2 мы рассмотрим возможность перехода в токен $4$, где зациклимся. В результате во втором случае у последовательности будет высокая итоговая вероятность, а у первого способа - низкая.\n",
    "\n",
    "Сначала проверим как работает `beam_size = 1`, так как этот случай проще отладить в случае ошибки. \n",
    "\n",
    "**Важно:** При `beam_size = 1` мы получаем жадное декодирование."
   ]
  },
  {
   "cell_type": "code",
   "execution_count": 99,
   "metadata": {},
   "outputs": [],
   "source": [
    "set_global_seed(42)\n",
    "\n",
    "decoded_tokens, decoded_lens, log_probas = decode_beam_search(\n",
    "    model             = fake_lm,\n",
    "    start_tokens      = torch.zeros((1, 3)),\n",
    "    start_tokens_lens = torch.tensor([1, 1, 1]),\n",
    "    eos_idx           = 10,\n",
    "    max_generated_len = 8,\n",
    "    beam_size         = 1\n",
    ")\n",
    "\n",
    "p = transitions[1].log_softmax(0)[2] * 7 + transitions[0].log_softmax(0)[1]"
   ]
  },
  {
   "cell_type": "code",
   "execution_count": 100,
   "metadata": {},
   "outputs": [],
   "source": [
    "assert decoded_tokens.shape == (8, 3, 1)\n",
    "assert decoded_lens.shape   == (3, 1)\n",
    "assert log_probas.shape     == (3, 1)"
   ]
  },
  {
   "cell_type": "code",
   "execution_count": 101,
   "metadata": {},
   "outputs": [
    {
     "data": {
      "text/plain": [
       "tensor([[1, 1, 1],\n",
       "        [2, 2, 2],\n",
       "        [3, 3, 3],\n",
       "        [1, 1, 1],\n",
       "        [2, 2, 2],\n",
       "        [3, 3, 3],\n",
       "        [1, 1, 1],\n",
       "        [2, 2, 2]])"
      ]
     },
     "execution_count": 101,
     "metadata": {},
     "output_type": "execute_result"
    }
   ],
   "source": [
    "decoded_tokens[:, :, 0]"
   ]
  },
  {
   "cell_type": "code",
   "execution_count": 102,
   "metadata": {},
   "outputs": [],
   "source": [
    "assert torch.isclose(log_probas, p).all()"
   ]
  },
  {
   "cell_type": "code",
   "execution_count": 103,
   "metadata": {},
   "outputs": [],
   "source": [
    "set_global_seed(42)\n",
    "\n",
    "decoded_tokens, decoded_lens, log_probas = decode_beam_search(\n",
    "    model             = fake_lm,\n",
    "    start_tokens      = torch.zeros((1, 3)),\n",
    "    start_tokens_lens = torch.tensor([1, 1, 1]),\n",
    "    eos_idx           = 10,\n",
    "    max_generated_len = 8,\n",
    "    beam_size         = 2\n",
    ")\n"
   ]
  },
  {
   "cell_type": "code",
   "execution_count": 104,
   "metadata": {},
   "outputs": [],
   "source": [
    "assert decoded_tokens.shape == (8, 3, 2)\n",
    "assert decoded_lens.shape   == (3, 2)\n",
    "assert log_probas.shape     == (3, 2)"
   ]
  },
  {
   "cell_type": "markdown",
   "metadata": {},
   "source": [
    "Посмотрим на наиболее вероятную гипотезу для каждого батча:"
   ]
  },
  {
   "cell_type": "code",
   "execution_count": 105,
   "metadata": {},
   "outputs": [
    {
     "data": {
      "text/plain": [
       "tensor([[4, 4, 4],\n",
       "        [4, 4, 4],\n",
       "        [4, 4, 4],\n",
       "        [4, 4, 4],\n",
       "        [4, 4, 4],\n",
       "        [4, 4, 4],\n",
       "        [4, 4, 4],\n",
       "        [4, 4, 4]])"
      ]
     },
     "execution_count": 105,
     "metadata": {},
     "output_type": "execute_result"
    }
   ],
   "source": [
    "decoded_tokens[:, :, 0]"
   ]
  },
  {
   "cell_type": "markdown",
   "metadata": {},
   "source": [
    "Посмотрим на вторую гипотезу для каждого батча:"
   ]
  },
  {
   "cell_type": "code",
   "execution_count": 106,
   "metadata": {},
   "outputs": [
    {
     "data": {
      "text/plain": [
       "tensor([[1, 1, 1],\n",
       "        [2, 2, 2],\n",
       "        [3, 3, 3],\n",
       "        [1, 1, 1],\n",
       "        [2, 2, 2],\n",
       "        [3, 3, 3],\n",
       "        [1, 1, 1],\n",
       "        [2, 2, 2]])"
      ]
     },
     "execution_count": 106,
     "metadata": {},
     "output_type": "execute_result"
    }
   ],
   "source": [
    "decoded_tokens[:, :, 1]"
   ]
  },
  {
   "cell_type": "markdown",
   "metadata": {},
   "source": [
    "Подробнее, как это работает:\n",
    "\n",
    "1. На первом ходу мы берем 2 наиболее вероятных перехода: перейти в $1$, перейти в $4$.\n",
    "\n",
    "2. На следующих ходах мы рассматриваем для каждого \"луча\" 2 наиболее вероятных перехода (всего 4 случаев), из которых выбираем две наиболее вероятные гипотезы.\n",
    "\n",
    "- 1. Для случая, который перешел в $1$, мы рассматриваем 2 альтернативы: перейти в $2$ с вероятностью $0.367$, остаться в $1$ с вероятностью $0.332$)\n",
    "- 2. Для случая, который перешел в $4$, мы рассматриваем 2 альтернативы: остаться в $4$ с вероятностью 1, или перейти в любое другое состояние с вероятностью $\\approx$ 0)\n",
    "- 3. Из всех вариантов вероятней всего перейти из $1$ в $2$ и перейти из $4$ в $4$, то есть обновляем \"лучи\"\n",
    "\n",
    "3. Повторить пункт 2.\n",
    "\n",
    "**Важно:** Обратите внимание, что Beam Search детерминированный алгоритм"
   ]
  },
  {
   "cell_type": "code",
   "execution_count": 107,
   "metadata": {
    "ExecuteTime": {
     "end_time": "2024-03-30T22:46:30.504262Z",
     "start_time": "2024-03-30T22:46:30.501331Z"
    }
   },
   "outputs": [],
   "source": [
    "start_tokens = torch.tensor([\n",
    "    lm_model.tokenizer.encode(['<sos>', '<pad>', '<pad>', '<pad>'], is_pretokenized=True).ids,\n",
    "    lm_model.tokenizer.encode(['<sos>', 'my', 'favorite', 'movie'], is_pretokenized=True).ids,\n",
    "    lm_model.tokenizer.encode(['<sos>', 'the', 'best', 'movie'],    is_pretokenized=True).ids,\n",
    "    lm_model.tokenizer.encode(['<sos>', 'the', 'worst', 'movie'],   is_pretokenized=True).ids,\n",
    "]).T\n",
    "\n",
    "start_tokens_lens = torch.tensor([1, 4, 4, 4])"
   ]
  },
  {
   "cell_type": "code",
   "execution_count": 108,
   "metadata": {
    "ExecuteTime": {
     "end_time": "2024-03-30T22:46:31.081687Z",
     "start_time": "2024-03-30T22:46:30.966597Z"
    }
   },
   "outputs": [],
   "source": [
    "lm_model.to(device).eval()\n",
    "start_tokens = start_tokens.to(device)\n",
    "start_tokens_lens = start_tokens_lens.to(device)"
   ]
  },
  {
   "cell_type": "code",
   "execution_count": 109,
   "metadata": {
    "ExecuteTime": {
     "end_time": "2024-03-30T22:46:31.910807Z",
     "start_time": "2024-03-30T22:46:31.646253Z"
    }
   },
   "outputs": [],
   "source": [
    "beam_size = 100\n",
    "decoded_tokens, decoded_lens, log_probas = decode_beam_search(\n",
    "    lm_model, start_tokens, start_tokens_lens, max_generated_len=10, beam_size=beam_size\n",
    ")"
   ]
  },
  {
   "cell_type": "code",
   "execution_count": 110,
   "metadata": {
    "ExecuteTime": {
     "end_time": "2024-03-30T22:46:32.320606Z",
     "start_time": "2024-03-30T22:46:32.169949Z"
    },
    "scrolled": false
   },
   "outputs": [
    {
     "data": {
      "text/markdown": [
       "<div class=\"alert alert-block alert-info\"> <b>&lt;sos&gt;</b></div>"
      ],
      "text/plain": [
       "<IPython.core.display.Markdown object>"
      ]
     },
     "metadata": {},
     "output_type": "display_data"
    },
    {
     "data": {
      "text/markdown": [
       "<div class=\"alert alert-block alert-success\"> <b>-16.677: one worst movies ever seen one worst movies ever seen</b></div>"
      ],
      "text/plain": [
       "<IPython.core.display.Markdown object>"
      ]
     },
     "metadata": {},
     "output_type": "display_data"
    },
    {
     "data": {
      "text/markdown": [
       "<div class=\"alert alert-block alert-success\"> <b>-17.035: one worst movies ever seen one worst movie ever seen</b></div>"
      ],
      "text/plain": [
       "<IPython.core.display.Markdown object>"
      ]
     },
     "metadata": {},
     "output_type": "display_data"
    },
    {
     "data": {
      "text/markdown": [
       "<div class=\"alert alert-block alert-success\"> <b>-17.470: one worst movies ever seen one worst movies ever made</b></div>"
      ],
      "text/plain": [
       "<IPython.core.display.Markdown object>"
      ]
     },
     "metadata": {},
     "output_type": "display_data"
    },
    {
     "data": {
      "text/markdown": [
       "<div class=\"alert alert-block alert-info\"> <b>&lt;sos&gt; &lt;unk&gt; favorite movie</b></div>"
      ],
      "text/plain": [
       "<IPython.core.display.Markdown object>"
      ]
     },
     "metadata": {},
     "output_type": "display_data"
    },
    {
     "data": {
      "text/markdown": [
       "<div class=\"alert alert-block alert-success\"> <b>-16.007: last night friday night friday night friday night monday morning</b></div>"
      ],
      "text/plain": [
       "<IPython.core.display.Markdown object>"
      ]
     },
     "metadata": {},
     "output_type": "display_data"
    },
    {
     "data": {
      "text/markdown": [
       "<div class=\"alert alert-block alert-success\"> <b>-16.056: last night friday night friday morning sunday night monday morning</b></div>"
      ],
      "text/plain": [
       "<IPython.core.display.Markdown object>"
      ]
     },
     "metadata": {},
     "output_type": "display_data"
    },
    {
     "data": {
      "text/markdown": [
       "<div class=\"alert alert-block alert-success\"> <b>-16.471: last night friday night friday morning friday night monday morning</b></div>"
      ],
      "text/plain": [
       "<IPython.core.display.Markdown object>"
      ]
     },
     "metadata": {},
     "output_type": "display_data"
    },
    {
     "data": {
      "text/markdown": [
       "<div class=\"alert alert-block alert-info\"> <b>&lt;sos&gt; &lt;unk&gt; best movie</b></div>"
      ],
      "text/plain": [
       "<IPython.core.display.Markdown object>"
      ]
     },
     "metadata": {},
     "output_type": "display_data"
    },
    {
     "data": {
      "text/markdown": [
       "<div class=\"alert alert-block alert-success\"> <b>-17.391: ever seen one worst movies ever seen bad acting bad</b></div>"
      ],
      "text/plain": [
       "<IPython.core.display.Markdown object>"
      ]
     },
     "metadata": {},
     "output_type": "display_data"
    },
    {
     "data": {
      "text/markdown": [
       "<div class=\"alert alert-block alert-success\"> <b>-17.473: ever seen one worst movies ever seen movie ever seen</b></div>"
      ],
      "text/plain": [
       "<IPython.core.display.Markdown object>"
      ]
     },
     "metadata": {},
     "output_type": "display_data"
    },
    {
     "data": {
      "text/markdown": [
       "<div class=\"alert alert-block alert-success\"> <b>-17.666: ever seen one worst movie ever seen movie ever seen</b></div>"
      ],
      "text/plain": [
       "<IPython.core.display.Markdown object>"
      ]
     },
     "metadata": {},
     "output_type": "display_data"
    },
    {
     "data": {
      "text/markdown": [
       "<div class=\"alert alert-block alert-info\"> <b>&lt;sos&gt; &lt;unk&gt; worst movie</b></div>"
      ],
      "text/plain": [
       "<IPython.core.display.Markdown object>"
      ]
     },
     "metadata": {},
     "output_type": "display_data"
    },
    {
     "data": {
      "text/markdown": [
       "<div class=\"alert alert-block alert-success\"> <b>-16.023: ever seen one worst movies ever seen bad acting bad</b></div>"
      ],
      "text/plain": [
       "<IPython.core.display.Markdown object>"
      ]
     },
     "metadata": {},
     "output_type": "display_data"
    },
    {
     "data": {
      "text/markdown": [
       "<div class=\"alert alert-block alert-success\"> <b>-16.194: ever seen one worst movies ever seen movie ever seen</b></div>"
      ],
      "text/plain": [
       "<IPython.core.display.Markdown object>"
      ]
     },
     "metadata": {},
     "output_type": "display_data"
    },
    {
     "data": {
      "text/markdown": [
       "<div class=\"alert alert-block alert-success\"> <b>-16.413: ever seen one worst movie ever seen bad acting bad</b></div>"
      ],
      "text/plain": [
       "<IPython.core.display.Markdown object>"
      ]
     },
     "metadata": {},
     "output_type": "display_data"
    }
   ],
   "source": [
    "for start_tokens_elem, start_tokens_lens_elem, decoded_tokens_elem, decoded_lens_elem, log_probas_elem in zip(\n",
    "    start_tokens.T, start_tokens_lens,\n",
    "    decoded_tokens.permute(1, 2, 0), decoded_lens.permute(0, 1), log_probas.permute(0, 1)\n",
    "):\n",
    "    start_tokens_elem = start_tokens_elem[:start_tokens_lens_elem].tolist()\n",
    "    start_words = lm_model.tokenizer.decode(start_tokens_elem, skip_special_tokens=False).split(' ')\n",
    "    \n",
    "    start_text = ' '.join(start_words).replace('<', '&lt;').replace('>', '&gt;')\n",
    "    display(Markdown(f'<div class=\"alert alert-block alert-info\"> <b>{start_text}</b></div>'))\n",
    "    \n",
    "    for idx, (hyp, hyp_len, hyp_log_prob) in enumerate(zip(decoded_tokens_elem, decoded_lens_elem, log_probas_elem)):\n",
    "        if idx >= 3:\n",
    "            break\n",
    "            \n",
    "        hyp = hyp[:hyp_len].tolist()\n",
    "        hyp_words = lm_model.tokenizer.decode(hyp, skip_special_tokens=False).split(' ')\n",
    "        hyp_text = ' '.join(hyp_words).replace('<', '&lt;').replace('>', '&gt;')\n",
    "        display(Markdown(\n",
    "            f'<div class=\"alert alert-block alert-success\"> <b>{hyp_log_prob:.3f}: {hyp_text}</b></div>'\n",
    "        ))"
   ]
  },
  {
   "cell_type": "markdown",
   "metadata": {},
   "source": [
    "Попробуйте выполнить декодинг для разных `beam_size`. Убедитесь, что при `beam_search=1` семплирование совпадает с top-1 (greedy decoding) подходом. \n",
    "\n",
    "Сравните результаты Beam Search с top-k семплированием и жадным декодированием. Опишите ваши наблюдения."
   ]
  },
  {
   "cell_type": "code",
   "execution_count": 111,
   "metadata": {
    "ExecuteTime": {
     "end_time": "2024-03-30T22:00:59.682820Z",
     "start_time": "2024-03-30T22:00:59.682812Z"
    }
   },
   "outputs": [],
   "source": [
    "# YOUR CODE HERE"
   ]
  },
  {
   "cell_type": "markdown",
   "metadata": {
    "ExecuteTime": {
     "end_time": "2021-04-02T15:04:51.678260Z",
     "start_time": "2021-04-02T15:04:51.673587Z"
    }
   },
   "source": [
    "## `Бонус. Существенное улучшение качества (до 6 баллов)`"
   ]
  },
  {
   "cell_type": "markdown",
   "metadata": {},
   "source": [
    "Та модель, которая использовалась в предыдущей части во многом заимствует улучшения LSTM из статьи [Regularizing and Optimizing LSTM Language Models](https://arxiv.org/pdf/1708.02182.pdf). Вы можете попробовать применить другие варианты регуляризации из данной статьи для существенного улучшения качества LM.\n",
    "\n",
    "Например:\n",
    "1. Dropout для эмбеддингов **(+0.25)**\n",
    "2. Dropout входов и выходов RNN **(+0.25)**\n",
    "3. Регуляризация активаций (AR/TAR) **(+1.0)**\n",
    "4. NT-ASGD **(+1.5)**\n",
    "5. Tied веса эмбеддингов и софтмакса **(+1.0)**\n",
    "6. Attention **(+2.0)**\n",
    "\n",
    "**Полные баллы ставятся только при наличии качественного и количественного сравнения с бейзлайном.**\n",
    "\n",
    "**Для эксперимента с Attention необходимо изобразить Attention Maps для нескольких примеров.**"
   ]
  },
  {
   "cell_type": "code",
   "execution_count": null,
   "metadata": {},
   "outputs": [],
   "source": []
  }
 ],
 "metadata": {
  "kernelspec": {
   "display_name": "Python 3 (ipykernel)",
   "language": "python",
   "name": "python3"
  },
  "language_info": {
   "codemirror_mode": {
    "name": "ipython",
    "version": 3
   },
   "file_extension": ".py",
   "mimetype": "text/x-python",
   "name": "python",
   "nbconvert_exporter": "python",
   "pygments_lexer": "ipython3",
   "version": "3.9.16"
  },
  "toc": {
   "base_numbering": 1,
   "nav_menu": {},
   "number_sections": false,
   "sideBar": true,
   "skip_h1_title": false,
   "title_cell": "Table of Contents",
   "title_sidebar": "Contents",
   "toc_cell": false,
   "toc_position": {
    "height": "804px",
    "left": "148px",
    "top": "50px",
    "width": "555.391px"
   },
   "toc_section_display": true,
   "toc_window_display": false
  },
  "varInspector": {
   "cols": {
    "lenName": 16,
    "lenType": 16,
    "lenVar": 40
   },
   "kernels_config": {
    "python": {
     "delete_cmd_postfix": "",
     "delete_cmd_prefix": "del ",
     "library": "var_list.py",
     "varRefreshCmd": "print(var_dic_list())"
    },
    "r": {
     "delete_cmd_postfix": ") ",
     "delete_cmd_prefix": "rm(",
     "library": "var_list.r",
     "varRefreshCmd": "cat(var_dic_list()) "
    }
   },
   "position": {
    "height": "313px",
    "left": "926px",
    "right": "27px",
    "top": "120px",
    "width": "343px"
   },
   "types_to_exclude": [
    "module",
    "function",
    "builtin_function_or_method",
    "instance",
    "_Feature"
   ],
   "window_display": false
  }
 },
 "nbformat": 4,
 "nbformat_minor": 2
}
